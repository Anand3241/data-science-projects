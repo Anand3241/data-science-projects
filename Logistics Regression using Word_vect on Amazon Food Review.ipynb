{
 "cells": [
  {
   "cell_type": "markdown",
   "metadata": {},
   "source": [
    "# Logistic Regression with Word2Vec"
   ]
  },
  {
   "cell_type": "code",
   "execution_count": 1,
   "metadata": {},
   "outputs": [
    {
     "name": "stderr",
     "output_type": "stream",
     "text": [
      "C:\\Users\\RAJAN SHRIVASTAVA\\Anaconda3\\lib\\site-packages\\sklearn\\cross_validation.py:41: DeprecationWarning: This module was deprecated in version 0.18 in favor of the model_selection module into which all the refactored classes and functions are moved. Also note that the interface of the new CV iterators are different from that of this module. This module will be removed in 0.20.\n",
      "  \"This module will be removed in 0.20.\", DeprecationWarning)\n",
      "C:\\Users\\RAJAN SHRIVASTAVA\\Anaconda3\\lib\\site-packages\\sklearn\\grid_search.py:42: DeprecationWarning: This module was deprecated in version 0.18 in favor of the model_selection module into which all the refactored classes and functions are moved. This module will be removed in 0.20.\n",
      "  DeprecationWarning)\n",
      "C:\\Users\\RAJAN SHRIVASTAVA\\Anaconda3\\lib\\site-packages\\sklearn\\learning_curve.py:22: DeprecationWarning: This module was deprecated in version 0.18 in favor of the model_selection module into which all the functions are moved. This module will be removed in 0.20\n",
      "  DeprecationWarning)\n"
     ]
    }
   ],
   "source": [
    "import numpy as np\n",
    "import pandas as pd\n",
    "import matplotlib.pyplot as plt\n",
    "import seaborn as sns\n",
    "from sklearn.cross_validation import train_test_split\n",
    "from sklearn.grid_search import GridSearchCV,RandomizedSearchCV\n",
    "from sklearn.datasets import *\n",
    "from sklearn.linear_model import LogisticRegression\n",
    "from sklearn.metrics import accuracy_score\n",
    "from sklearn.learning_curve import validation_curve\n",
    "from sklearn.cross_validation import cross_val_score\n",
    "from scipy.stats import uniform as sp_rand\n",
    "from sklearn.model_selection import TimeSeriesSplit\n",
    "from sklearn import cross_validation\n",
    "from sklearn.feature_extraction.text import TfidfVectorizer\n",
    "from sklearn import metrics\n",
    "from sklearn.metrics import roc_curve,auc\n",
    "from sklearn.naive_bayes import GaussianNB,MultinomialNB,BernoulliNB\n",
    "from sklearn import naive_bayes\n",
    "from sklearn.metrics import classification_report,confusion_matrix\n",
    "import nltk"
   ]
  },
  {
   "cell_type": "code",
   "execution_count": 2,
   "metadata": {
    "collapsed": true
   },
   "outputs": [],
   "source": [
    "final_data=pd.read_csv('Amazon.csv')"
   ]
  },
  {
   "cell_type": "code",
   "execution_count": null,
   "metadata": {
    "collapsed": true
   },
   "outputs": [],
   "source": []
  },
  {
   "cell_type": "markdown",
   "metadata": {},
   "source": [
    "# Sort the Data Based on the TimeStamp"
   ]
  },
  {
   "cell_type": "code",
   "execution_count": 3,
   "metadata": {},
   "outputs": [
    {
     "data": {
      "text/html": [
       "<div>\n",
       "<style>\n",
       "    .dataframe thead tr:only-child th {\n",
       "        text-align: right;\n",
       "    }\n",
       "\n",
       "    .dataframe thead th {\n",
       "        text-align: left;\n",
       "    }\n",
       "\n",
       "    .dataframe tbody tr th {\n",
       "        vertical-align: top;\n",
       "    }\n",
       "</style>\n",
       "<table border=\"1\" class=\"dataframe\">\n",
       "  <thead>\n",
       "    <tr style=\"text-align: right;\">\n",
       "      <th></th>\n",
       "      <th>Unnamed: 0</th>\n",
       "      <th>Id</th>\n",
       "      <th>ProductId</th>\n",
       "      <th>UserId</th>\n",
       "      <th>ProfileName</th>\n",
       "      <th>HelpfulnessNumerator</th>\n",
       "      <th>HelpfulnessDenominator</th>\n",
       "      <th>Score</th>\n",
       "      <th>Time</th>\n",
       "      <th>Summary</th>\n",
       "      <th>Text</th>\n",
       "      <th>CleanText</th>\n",
       "    </tr>\n",
       "  </thead>\n",
       "  <tbody>\n",
       "    <tr>\n",
       "      <th>0</th>\n",
       "      <td>138706</td>\n",
       "      <td>150524</td>\n",
       "      <td>0006641040</td>\n",
       "      <td>ACITT7DI6IDDL</td>\n",
       "      <td>shari zychinski</td>\n",
       "      <td>0</td>\n",
       "      <td>0</td>\n",
       "      <td>1</td>\n",
       "      <td>939340800</td>\n",
       "      <td>EVERY book is educational</td>\n",
       "      <td>this witty little book makes my son laugh at l...</td>\n",
       "      <td>b'witti littl book make son laugh loud recit c...</td>\n",
       "    </tr>\n",
       "    <tr>\n",
       "      <th>1</th>\n",
       "      <td>138688</td>\n",
       "      <td>150506</td>\n",
       "      <td>0006641040</td>\n",
       "      <td>A2IW4PEEKO2R0U</td>\n",
       "      <td>Tracy</td>\n",
       "      <td>1</td>\n",
       "      <td>1</td>\n",
       "      <td>1</td>\n",
       "      <td>1194739200</td>\n",
       "      <td>Love the book, miss the hard cover version</td>\n",
       "      <td>I grew up reading these Sendak books, and watc...</td>\n",
       "      <td>b'grew read sendak book watch realli rosi movi...</td>\n",
       "    </tr>\n",
       "    <tr>\n",
       "      <th>2</th>\n",
       "      <td>138689</td>\n",
       "      <td>150507</td>\n",
       "      <td>0006641040</td>\n",
       "      <td>A1S4A3IQ2MU7V4</td>\n",
       "      <td>sally sue \"sally sue\"</td>\n",
       "      <td>1</td>\n",
       "      <td>1</td>\n",
       "      <td>1</td>\n",
       "      <td>1191456000</td>\n",
       "      <td>chicken soup with rice months</td>\n",
       "      <td>This is a fun way for children to learn their ...</td>\n",
       "      <td>b'fun way children learn month year learn poem...</td>\n",
       "    </tr>\n",
       "    <tr>\n",
       "      <th>3</th>\n",
       "      <td>138690</td>\n",
       "      <td>150508</td>\n",
       "      <td>0006641040</td>\n",
       "      <td>AZGXZ2UUK6X</td>\n",
       "      <td>Catherine Hallberg \"(Kate)\"</td>\n",
       "      <td>1</td>\n",
       "      <td>1</td>\n",
       "      <td>1</td>\n",
       "      <td>1076025600</td>\n",
       "      <td>a good swingy rhythm for reading aloud</td>\n",
       "      <td>This is a great little book to read aloud- it ...</td>\n",
       "      <td>b'great littl book read nice rhythm well good ...</td>\n",
       "    </tr>\n",
       "    <tr>\n",
       "      <th>4</th>\n",
       "      <td>138691</td>\n",
       "      <td>150509</td>\n",
       "      <td>0006641040</td>\n",
       "      <td>A3CMRKGE0P909G</td>\n",
       "      <td>Teresa</td>\n",
       "      <td>3</td>\n",
       "      <td>4</td>\n",
       "      <td>1</td>\n",
       "      <td>1018396800</td>\n",
       "      <td>A great way to learn the months</td>\n",
       "      <td>This is a book of poetry about the months of t...</td>\n",
       "      <td>b'book poetri month year goe month cute littl ...</td>\n",
       "    </tr>\n",
       "  </tbody>\n",
       "</table>\n",
       "</div>"
      ],
      "text/plain": [
       "   Unnamed: 0      Id   ProductId          UserId  \\\n",
       "0      138706  150524  0006641040   ACITT7DI6IDDL   \n",
       "1      138688  150506  0006641040  A2IW4PEEKO2R0U   \n",
       "2      138689  150507  0006641040  A1S4A3IQ2MU7V4   \n",
       "3      138690  150508  0006641040     AZGXZ2UUK6X   \n",
       "4      138691  150509  0006641040  A3CMRKGE0P909G   \n",
       "\n",
       "                   ProfileName  HelpfulnessNumerator  HelpfulnessDenominator  \\\n",
       "0              shari zychinski                     0                       0   \n",
       "1                        Tracy                     1                       1   \n",
       "2        sally sue \"sally sue\"                     1                       1   \n",
       "3  Catherine Hallberg \"(Kate)\"                     1                       1   \n",
       "4                       Teresa                     3                       4   \n",
       "\n",
       "   Score        Time                                     Summary  \\\n",
       "0      1   939340800                   EVERY book is educational   \n",
       "1      1  1194739200  Love the book, miss the hard cover version   \n",
       "2      1  1191456000               chicken soup with rice months   \n",
       "3      1  1076025600      a good swingy rhythm for reading aloud   \n",
       "4      1  1018396800             A great way to learn the months   \n",
       "\n",
       "                                                Text  \\\n",
       "0  this witty little book makes my son laugh at l...   \n",
       "1  I grew up reading these Sendak books, and watc...   \n",
       "2  This is a fun way for children to learn their ...   \n",
       "3  This is a great little book to read aloud- it ...   \n",
       "4  This is a book of poetry about the months of t...   \n",
       "\n",
       "                                           CleanText  \n",
       "0  b'witti littl book make son laugh loud recit c...  \n",
       "1  b'grew read sendak book watch realli rosi movi...  \n",
       "2  b'fun way children learn month year learn poem...  \n",
       "3  b'great littl book read nice rhythm well good ...  \n",
       "4  b'book poetri month year goe month cute littl ...  "
      ]
     },
     "execution_count": 3,
     "metadata": {},
     "output_type": "execute_result"
    }
   ],
   "source": [
    "final_data.sort_values('Time',ascending=True)\n",
    "final_data.head()"
   ]
  },
  {
   "cell_type": "markdown",
   "metadata": {},
   "source": [
    "# Spliting the whole Dataset into Train and Test"
   ]
  },
  {
   "cell_type": "code",
   "execution_count": 4,
   "metadata": {},
   "outputs": [
    {
     "name": "stdout",
     "output_type": "stream",
     "text": [
      "Train: [     0      1      2 ..., 121388 121389 121390] Test: [121391 121392 121393 ..., 242778 242779 242780]\n",
      "Train: [     0      1      2 ..., 242778 242779 242780] Test: [242781 242782 242783 ..., 364168 364169 364170]\n"
     ]
    }
   ],
   "source": [
    "tscv=TimeSeriesSplit(n_splits=2)\n",
    "for train_index,test_index in tscv.split(final_data):\n",
    "    print(\"Train:\", train_index,\"Test:\", test_index)\n",
    "    train_data,test_data = final_data.iloc[train_index],final_data.iloc[test_index]"
   ]
  },
  {
   "cell_type": "code",
   "execution_count": 5,
   "metadata": {
    "collapsed": true
   },
   "outputs": [],
   "source": [
    "reviews=train_data['Score']\n",
    "reviews=reviews[0:70000]\n",
    "test_review=test_data['Score']\n",
    "test_review=test_review[0:30000]"
   ]
  },
  {
   "cell_type": "code",
   "execution_count": 6,
   "metadata": {
    "collapsed": true
   },
   "outputs": [],
   "source": [
    "train_data=train_data[0:70000]\n",
    "test_data=test_data[0:30000]"
   ]
  },
  {
   "cell_type": "code",
   "execution_count": null,
   "metadata": {
    "collapsed": true
   },
   "outputs": [],
   "source": []
  },
  {
   "cell_type": "markdown",
   "metadata": {},
   "source": [
    "# Converting Train and Test data into Wordtovec"
   ]
  },
  {
   "cell_type": "code",
   "execution_count": 7,
   "metadata": {},
   "outputs": [
    {
     "name": "stdout",
     "output_type": "stream",
     "text": [
      "{'d', 'you', \"hasn't\", 'y', 'hadn', 'couldn', 'with', 'their', 'because', \"don't\", 'should', 'any', 'than', 's', 'once', \"didn't\", \"you're\", 'while', 'm', 'ourselves', \"needn't\", 'how', 'i', 'over', 'not', 'for', 'into', \"mustn't\", 'those', 'has', 'wasn', 'he', 'having', 'against', 'on', 'who', 'these', 'in', 'mightn', 'now', 'yourself', 't', 'all', \"it's\", 'am', 'through', 'they', 'your', 'at', 'no', 'few', 'didn', 'our', 'own', \"wasn't\", 'and', \"wouldn't\", 'shouldn', \"she's\", 'but', 'of', 'doesn', 'o', 'other', \"doesn't\", 'she', \"haven't\", 'during', 'when', 'hers', 'him', 'why', 'itself', \"you've\", 'very', \"you'll\", 'some', 'can', 'we', 'off', 'between', 'out', 'by', 'too', 'up', 'been', 'there', 'here', 'more', 'under', 'it', 'do', 'her', 'theirs', 'll', \"couldn't\", 'myself', 'mustn', 'his', 'a', 'won', 'hasn', 'being', 'whom', 'such', \"isn't\", 'themselves', \"aren't\", 'so', 'haven', 'about', \"should've\", 'isn', 'ma', 'as', 'shan', 'where', 'herself', 'which', 'each', 'only', 'yourselves', 'from', 'the', 'needn', 'same', 'down', \"you'd\", 'did', 'further', 'had', 'have', 'be', 'both', \"won't\", 'ain', 'before', 'until', \"weren't\", 'wouldn', 'what', 'most', 'or', 'yours', 'were', 'does', 'just', 're', 'himself', \"that'll\", 'an', 'above', 'if', 'don', 'my', 'below', 'that', 'will', 'was', 'are', 'aren', 'to', 'after', 'ours', 'then', 'is', 'weren', 've', 'this', \"shan't\", \"shouldn't\", \"hadn't\", 'again', 'them', 'doing', 'nor', 'its', \"mightn't\", 'me'}\n",
      "************************************\n",
      "tasti\n"
     ]
    }
   ],
   "source": [
    "import re\n",
    "# Tutorial about Python regular expressions: https://pymotw.com/2/re/\n",
    "import string\n",
    "from nltk.corpus import stopwords\n",
    "from nltk.stem import PorterStemmer\n",
    "from nltk.stem.wordnet import WordNetLemmatizer\n",
    "\n",
    "stop = set(stopwords.words('english')) #set of stopwords\n",
    "sno = nltk.stem.SnowballStemmer('english') #initialising the snowball stemmer\n",
    "\n",
    "def cleanhtml(sentence): #function to clean the word of any html-tags\n",
    "    cleanr = re.compile('<.*?>')\n",
    "    cleantext = re.sub(cleanr, ' ', sentence)\n",
    "    return cleantext\n",
    "def cleanpunc(sentence): #function to clean the word of any punctuation or special characters\n",
    "    cleaned = re.sub(r'[?|!|\\'|\"|#]',r'',sentence)\n",
    "    cleaned = re.sub(r'[.|,|)|(|\\|/]',r' ',cleaned)\n",
    "    return  cleaned\n",
    "print(stop)\n",
    "print('************************************')\n",
    "print(sno.stem('tasty'))"
   ]
  },
  {
   "cell_type": "code",
   "execution_count": 8,
   "metadata": {},
   "outputs": [
    {
     "name": "stderr",
     "output_type": "stream",
     "text": [
      "C:\\Users\\RAJAN SHRIVASTAVA\\Anaconda3\\lib\\site-packages\\gensim\\utils.py:1197: UserWarning: detected Windows; aliasing chunkize to chunkize_serial\n",
      "  warnings.warn(\"detected Windows; aliasing chunkize to chunkize_serial\")\n"
     ]
    }
   ],
   "source": [
    "import gensim\n",
    "i=0\n",
    "list_of_sent_train=[]\n",
    "for sent in train_data['CleanText'].values:\n",
    "    filtered_sentence=[]\n",
    "    sent=cleanhtml(sent)\n",
    "    for w in sent.split():\n",
    "        for cleaned_words in cleanpunc(w).split():\n",
    "            if(cleaned_words.isalpha()):    \n",
    "                filtered_sentence.append(cleaned_words.lower())\n",
    "            else:\n",
    "                continue \n",
    "    list_of_sent_train.append(filtered_sentence)"
   ]
  },
  {
   "cell_type": "code",
   "execution_count": 9,
   "metadata": {
    "collapsed": true
   },
   "outputs": [],
   "source": [
    "import gensim\n",
    "i=0\n",
    "list_of_sent_test=[]\n",
    "for sent in test_data['CleanText'].values:\n",
    "    filtered_sentence=[]\n",
    "    sent=cleanhtml(sent)\n",
    "    for w in sent.split():\n",
    "        for cleaned_words in cleanpunc(w).split():\n",
    "            if(cleaned_words.isalpha()):    \n",
    "                filtered_sentence.append(cleaned_words.lower())\n",
    "            else:\n",
    "                continue \n",
    "    list_of_sent_test.append(filtered_sentence)"
   ]
  },
  {
   "cell_type": "code",
   "execution_count": 10,
   "metadata": {
    "collapsed": true
   },
   "outputs": [],
   "source": [
    "w2v_model_train=gensim.models.Word2Vec(list_of_sent_train,min_count=5,size=50,workers=4)\n",
    "w2v_model_test=gensim.models.Word2Vec(list_of_sent_test,min_count=5,size=50,workers=4)"
   ]
  },
  {
   "cell_type": "code",
   "execution_count": 11,
   "metadata": {},
   "outputs": [
    {
     "name": "stderr",
     "output_type": "stream",
     "text": [
      "C:\\Users\\RAJAN SHRIVASTAVA\\Anaconda3\\lib\\site-packages\\ipykernel_launcher.py:14: RuntimeWarning: invalid value encountered in true_divide\n",
      "  \n"
     ]
    },
    {
     "name": "stdout",
     "output_type": "stream",
     "text": [
      "70000\n",
      "50\n"
     ]
    }
   ],
   "source": [
    "sent_vectors_train=[]\n",
    "for sent in list_of_sent_train:\n",
    "    sent_vec=np.zeros(50)\n",
    "    #print(sent_vec)\n",
    "    cnt_words=0;\n",
    "    for word in sent:\n",
    "        try:\n",
    "            vec=w2v_model_train.wv[word]\n",
    "            #print(vec)\n",
    "            sent_vec+=vec\n",
    "            cnt_words+=1\n",
    "        except:\n",
    "            pass\n",
    "    sent_vec /= cnt_words\n",
    "    sent_vectors_train.append(sent_vec)\n",
    "print(len(sent_vectors_train))\n",
    "print(len(sent_vectors_train[0]))      "
   ]
  },
  {
   "cell_type": "code",
   "execution_count": 12,
   "metadata": {
    "collapsed": true
   },
   "outputs": [],
   "source": [
    "sent_vectors_train_array=np.array(sent_vectors_train)\n",
    "sent_vectors_train_array=np.nan_to_num(sent_vectors_train_array)"
   ]
  },
  {
   "cell_type": "code",
   "execution_count": 13,
   "metadata": {},
   "outputs": [
    {
     "data": {
      "text/plain": [
       "array([[ 0.07322952,  0.61471601, -0.08706193, ..., -0.19974772,\n",
       "        -0.37102963, -0.01206013],\n",
       "       [-0.02101613,  0.41192808, -0.28261963, ...,  0.41364799,\n",
       "        -0.21633034, -0.19892195],\n",
       "       [-0.33255795,  0.63386072,  0.42577745, ..., -0.52562621,\n",
       "        -0.96974988, -0.12278519],\n",
       "       ..., \n",
       "       [ 0.1359285 , -0.35825762,  0.24642475, ...,  0.06922256,\n",
       "        -0.21248813,  0.5731297 ],\n",
       "       [-0.12357033, -0.15386002,  0.19462777, ...,  0.48647623,\n",
       "        -0.06379761,  0.58194895],\n",
       "       [-0.06541241, -0.21950984,  0.37188654, ...,  0.21141138,\n",
       "        -0.26155199,  0.74506407]])"
      ]
     },
     "execution_count": 13,
     "metadata": {},
     "output_type": "execute_result"
    }
   ],
   "source": [
    "sent_vectors_train_array"
   ]
  },
  {
   "cell_type": "code",
   "execution_count": 14,
   "metadata": {},
   "outputs": [
    {
     "name": "stderr",
     "output_type": "stream",
     "text": [
      "C:\\Users\\RAJAN SHRIVASTAVA\\Anaconda3\\lib\\site-packages\\ipykernel_launcher.py:14: RuntimeWarning: invalid value encountered in true_divide\n",
      "  \n"
     ]
    },
    {
     "name": "stdout",
     "output_type": "stream",
     "text": [
      "30000\n",
      "50\n"
     ]
    }
   ],
   "source": [
    "sent_vectors_test=[]\n",
    "for sent in list_of_sent_test:\n",
    "    sent_vec=np.zeros(50)\n",
    "    #print(sent_vec)\n",
    "    cnt_words=0;\n",
    "    for word in sent:\n",
    "        try:\n",
    "            vec=w2v_model_test.wv[word]\n",
    "            #print(vec)\n",
    "            sent_vec+=vec\n",
    "            cnt_words+=1\n",
    "        except:\n",
    "            pass\n",
    "    sent_vec /= cnt_words\n",
    "    sent_vectors_test.append(sent_vec)\n",
    "print(len(sent_vectors_test))\n",
    "print(len(sent_vectors_test[0]))      "
   ]
  },
  {
   "cell_type": "code",
   "execution_count": 15,
   "metadata": {
    "collapsed": true
   },
   "outputs": [],
   "source": [
    "sent_vectors_test_array=np.array(sent_vectors_test)\n",
    "sent_vectors_test_array=np.nan_to_num(sent_vectors_test_array)"
   ]
  },
  {
   "cell_type": "markdown",
   "metadata": {},
   "source": [
    "# Data Preprocessing and Standardization the Train and Test Data"
   ]
  },
  {
   "cell_type": "code",
   "execution_count": 16,
   "metadata": {},
   "outputs": [
    {
     "name": "stdout",
     "output_type": "stream",
     "text": [
      "(70000, 50)\n"
     ]
    }
   ],
   "source": [
    "from sklearn.preprocessing import StandardScaler\n",
    "standard_train_data=StandardScaler(copy=True,with_mean=False,with_std=True).fit_transform(sent_vectors_train_array)\n",
    "print(standard_train_data.shape)"
   ]
  },
  {
   "cell_type": "code",
   "execution_count": 17,
   "metadata": {},
   "outputs": [
    {
     "name": "stdout",
     "output_type": "stream",
     "text": [
      "(30000, 50)\n"
     ]
    }
   ],
   "source": [
    "from sklearn.preprocessing import StandardScaler\n",
    "standard_test_data=StandardScaler(copy=True,with_mean=False,with_std=True).fit_transform(sent_vectors_test_array)\n",
    "print(standard_test_data.shape)"
   ]
  },
  {
   "cell_type": "markdown",
   "metadata": {},
   "source": [
    "# Find the optimal value of the alpha using GridSearch"
   ]
  },
  {
   "cell_type": "code",
   "execution_count": 18,
   "metadata": {},
   "outputs": [
    {
     "data": {
      "text/plain": [
       "GridSearchCV(cv=5, error_score='raise',\n",
       "       estimator=LogisticRegression(C=1.0, class_weight=None, dual=False, fit_intercept=True,\n",
       "          intercept_scaling=1, max_iter=100, multi_class='ovr', n_jobs=1,\n",
       "          penalty='l2', random_state=None, solver='liblinear', tol=0.0001,\n",
       "          verbose=0, warm_start=False),\n",
       "       fit_params={}, iid=True, n_jobs=1,\n",
       "       param_grid=[{'C': [0.0001, 0.001, 0.01, 1, 100, 1000, 10000]}],\n",
       "       pre_dispatch='2*n_jobs', refit=True, scoring='f1', verbose=0)"
      ]
     },
     "execution_count": 18,
     "metadata": {},
     "output_type": "execute_result"
    }
   ],
   "source": [
    "tuned_parameter=[{'C':[10**-4,10**-3, 10**-2, 10**0, 10**2,10**3,10**4]}] \n",
    "model=GridSearchCV(LogisticRegression(),tuned_parameter,scoring='f1',cv=5,refit=True)\n",
    "model.fit(standard_train_data,reviews)"
   ]
  },
  {
   "cell_type": "code",
   "execution_count": 19,
   "metadata": {},
   "outputs": [
    {
     "name": "stdout",
     "output_type": "stream",
     "text": [
      "0.935881268803681\n"
     ]
    }
   ],
   "source": [
    "print(model.best_score_)"
   ]
  },
  {
   "cell_type": "code",
   "execution_count": 20,
   "metadata": {},
   "outputs": [
    {
     "name": "stdout",
     "output_type": "stream",
     "text": [
      "{'C': 1}\n"
     ]
    }
   ],
   "source": [
    "print(model.best_params_)"
   ]
  },
  {
   "cell_type": "code",
   "execution_count": 21,
   "metadata": {},
   "outputs": [
    {
     "name": "stdout",
     "output_type": "stream",
     "text": [
      "[mean: 0.92550, std: 0.00058, params: {'C': 0.0001}, mean: 0.93450, std: 0.00166, params: {'C': 0.001}, mean: 0.93576, std: 0.00216, params: {'C': 0.01}, mean: 0.93588, std: 0.00214, params: {'C': 1}, mean: 0.93586, std: 0.00211, params: {'C': 100}, mean: 0.93587, std: 0.00213, params: {'C': 1000}, mean: 0.93587, std: 0.00213, params: {'C': 10000}]\n"
     ]
    }
   ],
   "source": [
    "print(model.grid_scores_)"
   ]
  },
  {
   "cell_type": "markdown",
   "metadata": {},
   "source": [
    "# Let's find the optimal value of the lambda using RandomSearchCV"
   ]
  },
  {
   "cell_type": "code",
   "execution_count": 22,
   "metadata": {
    "collapsed": true
   },
   "outputs": [],
   "source": [
    "tuned_parameter_ran={'C':sp_rand()} \n",
    "model_ran=RandomizedSearchCV(LogisticRegression(),tuned_parameter_ran,scoring='f1',cv=5,n_iter=100)"
   ]
  },
  {
   "cell_type": "code",
   "execution_count": 23,
   "metadata": {},
   "outputs": [
    {
     "data": {
      "text/plain": [
       "RandomizedSearchCV(cv=5, error_score='raise',\n",
       "          estimator=LogisticRegression(C=1.0, class_weight=None, dual=False, fit_intercept=True,\n",
       "          intercept_scaling=1, max_iter=100, multi_class='ovr', n_jobs=1,\n",
       "          penalty='l2', random_state=None, solver='liblinear', tol=0.0001,\n",
       "          verbose=0, warm_start=False),\n",
       "          fit_params={}, iid=True, n_iter=100, n_jobs=1,\n",
       "          param_distributions={'C': <scipy.stats._distn_infrastructure.rv_frozen object at 0x0000018A997826D8>},\n",
       "          pre_dispatch='2*n_jobs', random_state=None, refit=True,\n",
       "          scoring='f1', verbose=0)"
      ]
     },
     "execution_count": 23,
     "metadata": {},
     "output_type": "execute_result"
    }
   ],
   "source": [
    "model_ran.fit(standard_train_data,reviews)"
   ]
  },
  {
   "cell_type": "code",
   "execution_count": 24,
   "metadata": {},
   "outputs": [
    {
     "name": "stdout",
     "output_type": "stream",
     "text": [
      "{'C': 0.17366298009280356}\n"
     ]
    }
   ],
   "source": [
    "print(model_ran.best_params_)"
   ]
  },
  {
   "cell_type": "code",
   "execution_count": 25,
   "metadata": {},
   "outputs": [
    {
     "name": "stdout",
     "output_type": "stream",
     "text": [
      "LogisticRegression(C=0.17366298009280356, class_weight=None, dual=False,\n",
      "          fit_intercept=True, intercept_scaling=1, max_iter=100,\n",
      "          multi_class='ovr', n_jobs=1, penalty='l2', random_state=None,\n",
      "          solver='liblinear', tol=0.0001, verbose=0, warm_start=False)\n"
     ]
    }
   ],
   "source": [
    "print(model_ran.best_estimator_)"
   ]
  },
  {
   "cell_type": "code",
   "execution_count": 26,
   "metadata": {},
   "outputs": [
    {
     "name": "stdout",
     "output_type": "stream",
     "text": [
      "0.9359901487387985\n"
     ]
    }
   ],
   "source": [
    "print(model_ran.best_score_)"
   ]
  },
  {
   "cell_type": "markdown",
   "metadata": {},
   "source": [
    "# Apply Logistic Regression using L1 Regularization having Best Parameter from GridSearch"
   ]
  },
  {
   "cell_type": "code",
   "execution_count": 27,
   "metadata": {},
   "outputs": [
    {
     "data": {
      "text/plain": [
       "LogisticRegression(C=0.001, class_weight=None, dual=False, fit_intercept=True,\n",
       "          intercept_scaling=1, max_iter=100, multi_class='ovr', n_jobs=1,\n",
       "          penalty='l1', random_state=None, solver='liblinear', tol=0.0001,\n",
       "          verbose=0, warm_start=False)"
      ]
     },
     "execution_count": 27,
     "metadata": {},
     "output_type": "execute_result"
    }
   ],
   "source": [
    "lr=LogisticRegression(penalty='l1',C=0.001)\n",
    "lr.fit(standard_train_data,reviews)"
   ]
  },
  {
   "cell_type": "code",
   "execution_count": null,
   "metadata": {
    "collapsed": true
   },
   "outputs": [],
   "source": [
    "\n",
    "\n"
   ]
  },
  {
   "cell_type": "markdown",
   "metadata": {},
   "source": [
    "# Prediction and Evaluation"
   ]
  },
  {
   "cell_type": "code",
   "execution_count": 28,
   "metadata": {},
   "outputs": [
    {
     "name": "stdout",
     "output_type": "stream",
     "text": [
      "             precision    recall  f1-score   support\n",
      "\n",
      "          0       0.40      0.49      0.44      5026\n",
      "          1       0.89      0.85      0.87     24974\n",
      "\n",
      "avg / total       0.81      0.79      0.80     30000\n",
      "\n"
     ]
    }
   ],
   "source": [
    "prediction=lr.predict(standard_test_data)\n",
    "print(classification_report(test_review,prediction))"
   ]
  },
  {
   "cell_type": "code",
   "execution_count": 29,
   "metadata": {},
   "outputs": [
    {
     "name": "stdout",
     "output_type": "stream",
     "text": [
      "[[ 2473  2553]\n",
      " [ 3783 21191]]\n"
     ]
    }
   ],
   "source": [
    "confu_metric=confusion_matrix(test_review,prediction)\n",
    "print(confu_metric)"
   ]
  },
  {
   "cell_type": "code",
   "execution_count": 30,
   "metadata": {},
   "outputs": [
    {
     "data": {
      "image/png": "[encoded data removed]",
      "text/plain": [
       "<matplotlib.figure.Figure at 0x18a9a241208>"
      ]
     },
     "metadata": {},
     "output_type": "display_data"
    }
   ],
   "source": [
    "sns.heatmap(confu_metric,annot=True,fmt='.1f',cmap='RdBu_r')\n",
    "plt.show()"
   ]
  },
  {
   "cell_type": "markdown",
   "metadata": {},
   "source": [
    "# Train and Test Metric  of L1 Regularizer with GridSearch"
   ]
  },
  {
   "cell_type": "code",
   "execution_count": 31,
   "metadata": {
    "collapsed": true
   },
   "outputs": [],
   "source": [
    "TP=confu_metric[1][1]\n",
    "FP=confu_metric[0][1]\n",
    "TN=confu_metric[0][0]\n",
    "FN=confu_metric[1][0]"
   ]
  },
  {
   "cell_type": "code",
   "execution_count": 32,
   "metadata": {},
   "outputs": [
    {
     "name": "stdout",
     "output_type": "stream",
     "text": [
      "TPR:  0.848522463362\n",
      "FPR:  0.507958615201\n",
      "Specificity:  0.492041384799\n",
      "Precision:  0.89247809973\n",
      "Recall:  0.848522463362\n",
      "F1Score:  0.869945400057\n"
     ]
    }
   ],
   "source": [
    "True_positive_rate=TP/(TP+FN) #It tells us when it is actually a Positive Review , How often does it predict Postive Review\n",
    "print('TPR: ',True_positive_rate)\n",
    "\n",
    "false_positive_rate=FP/(FP+TN) # It tells us that when the review is negative how often does it predict Positive Review\n",
    "print('FPR: ',false_positive_rate)\n",
    "\n",
    "specificity=TN/(TN+FP) #It tells us that When the review is negative ,how often does it predict negative review\n",
    "print('Specificity: ',specificity)\n",
    "\n",
    "precision=TP/(TP+FP) # It tells us all the reviews that model has predicted to be Positive how many are truly positive \n",
    "print('Precision: ',precision)\n",
    "\n",
    "recall=TP/(TP+FN) # It tells us that from all the predicted postive reviews how many are actually postive review\n",
    "print('Recall: ',recall)\n",
    "\n",
    "f1_score=2*precision*recall/(precision+recall) #It is the weighted average of the Precision and Recall\n",
    "print('F1Score: ',f1_score)"
   ]
  },
  {
   "cell_type": "markdown",
   "metadata": {},
   "source": [
    "# ROC Curve"
   ]
  },
  {
   "cell_type": "code",
   "execution_count": 33,
   "metadata": {},
   "outputs": [
    {
     "data": {
      "image/png": "[encoded data removed]",
      "text/plain": [
       "<matplotlib.figure.Figure at 0x18a99b6e240>"
      ]
     },
     "metadata": {},
     "output_type": "display_data"
    }
   ],
   "source": [
    "from sklearn.metrics import roc_curve,auc\n",
    "fpr,tpr,thresholds=roc_curve(test_review,prediction)\n",
    "roc_auc=auc(fpr,tpr)\n",
    "plt.title('Receiver Operating Characteristic')\n",
    "plt.plot(fpr,tpr, 'b',label='AUC = %0.2f'% roc_auc)\n",
    "plt.legend(loc='lower right')\n",
    "plt.plot([0,1],[0,1],'y--')\n",
    "plt.xlim([-0.1,1.2])\n",
    "plt.ylim([-0.1,1.2])\n",
    "plt.ylabel('True Positive Rate')\n",
    "plt.xlabel('False Positive Rate')\n",
    "plt.show()"
   ]
  },
  {
   "cell_type": "markdown",
   "metadata": {},
   "source": [
    "# Apply Logistic Regression using L1 Regularization having Best Parameter from RandomSearch"
   ]
  },
  {
   "cell_type": "code",
   "execution_count": 34,
   "metadata": {},
   "outputs": [
    {
     "data": {
      "text/plain": [
       "LogisticRegression(C=0.0003522967098200658, class_weight=None, dual=False,\n",
       "          fit_intercept=True, intercept_scaling=1, max_iter=100,\n",
       "          multi_class='ovr', n_jobs=1, penalty='l1', random_state=None,\n",
       "          solver='liblinear', tol=0.0001, verbose=0, warm_start=False)"
      ]
     },
     "execution_count": 34,
     "metadata": {},
     "output_type": "execute_result"
    }
   ],
   "source": [
    "lr_random=LogisticRegression(penalty='l1',C= 0.00035229670982006578)\n",
    "lr_random.fit(standard_train_data,reviews)"
   ]
  },
  {
   "cell_type": "markdown",
   "metadata": {},
   "source": [
    "# Prediction and Evaluation while Using RandomSearch"
   ]
  },
  {
   "cell_type": "code",
   "execution_count": 35,
   "metadata": {},
   "outputs": [
    {
     "name": "stdout",
     "output_type": "stream",
     "text": [
      "             precision    recall  f1-score   support\n",
      "\n",
      "          0       0.31      0.35      0.33      5026\n",
      "          1       0.87      0.85      0.86     24974\n",
      "\n",
      "avg / total       0.77      0.76      0.77     30000\n",
      "\n"
     ]
    }
   ],
   "source": [
    "prediction_lr=lr_random.predict(standard_test_data)\n",
    "print(classification_report(test_review,prediction_lr))"
   ]
  },
  {
   "cell_type": "code",
   "execution_count": 36,
   "metadata": {},
   "outputs": [
    {
     "name": "stdout",
     "output_type": "stream",
     "text": [
      "[[ 1740  3286]\n",
      " [ 3825 21149]]\n"
     ]
    }
   ],
   "source": [
    "confu_metric_lr=confusion_matrix(test_review,prediction_lr)\n",
    "print(confu_metric_lr)"
   ]
  },
  {
   "cell_type": "code",
   "execution_count": 37,
   "metadata": {},
   "outputs": [
    {
     "data": {
      "image/png": "[encoded data removed]",
      "text/plain": [
       "<matplotlib.figure.Figure at 0x18a99bc59b0>"
      ]
     },
     "metadata": {},
     "output_type": "display_data"
    }
   ],
   "source": [
    "sns.heatmap(confu_metric_lr,annot=True,fmt='.1f',cmap='RdBu_r')\n",
    "plt.show()"
   ]
  },
  {
   "cell_type": "markdown",
   "metadata": {},
   "source": [
    "# Test and Train Metric L1 Reularization using RandomSearch"
   ]
  },
  {
   "cell_type": "code",
   "execution_count": 38,
   "metadata": {
    "collapsed": true
   },
   "outputs": [],
   "source": [
    "TP=confu_metric_lr[1][1]\n",
    "FP=confu_metric_lr[0][1]\n",
    "TN=confu_metric_lr[0][0]\n",
    "FN=confu_metric_lr[1][0]"
   ]
  },
  {
   "cell_type": "code",
   "execution_count": 39,
   "metadata": {},
   "outputs": [
    {
     "name": "stdout",
     "output_type": "stream",
     "text": [
      "TPR:  0.846840714343\n",
      "FPR:  0.653800238758\n",
      "Specificity:  0.346199761242\n",
      "Precision:  0.865520769388\n",
      "Recall:  0.846840714343\n",
      "F1Score:  0.856078852031\n"
     ]
    }
   ],
   "source": [
    "True_positive_rate=TP/(TP+FN) #It tells us when it is actually a Positive Review , How often does it predict Postive Review\n",
    "print('TPR: ',True_positive_rate)\n",
    "\n",
    "false_positive_rate=FP/(FP+TN) # It tells us that when the review is negative how often does it predict Positive Review\n",
    "print('FPR: ',false_positive_rate)\n",
    "\n",
    "specificity=TN/(TN+FP) #It tells us that When the review is negative ,how often does it predict negative review\n",
    "print('Specificity: ',specificity)\n",
    "\n",
    "precision=TP/(TP+FP) # It tells us all the reviews that model has predicted to be Positive how many are truly positive \n",
    "print('Precision: ',precision)\n",
    "\n",
    "recall=TP/(TP+FN) # It tells us that from all the predicted postive reviews how many are actually postive review\n",
    "print('Recall: ',recall)\n",
    "\n",
    "f1_score=2*precision*recall/(precision+recall) #It is the weighted average of the Precision and Recall\n",
    "print('F1Score: ',f1_score)"
   ]
  },
  {
   "cell_type": "markdown",
   "metadata": {},
   "source": [
    "# ROC Curve"
   ]
  },
  {
   "cell_type": "code",
   "execution_count": 40,
   "metadata": {},
   "outputs": [
    {
     "data": {
      "image/png": "[encoded data removed]",
      "text/plain": [
       "<matplotlib.figure.Figure at 0x18a99b99358>"
      ]
     },
     "metadata": {},
     "output_type": "display_data"
    }
   ],
   "source": [
    "from sklearn.metrics import roc_curve,auc\n",
    "fpr,tpr,thresholds=roc_curve(test_review,prediction_lr)\n",
    "roc_auc=auc(fpr,tpr)\n",
    "plt.title('Receiver Operating Characteristic')\n",
    "plt.plot(fpr,tpr, 'b',label='AUC = %0.2f'% roc_auc)\n",
    "plt.legend(loc='lower right')\n",
    "plt.plot([0,1],[0,1],'y--')\n",
    "plt.xlim([-0.1,1.2])\n",
    "plt.ylim([-0.1,1.2])\n",
    "plt.ylabel('True Positive Rate')\n",
    "plt.xlabel('False Positive Rate')\n",
    "plt.show()"
   ]
  },
  {
   "cell_type": "markdown",
   "metadata": {},
   "source": [
    "# Apply Logistic Regression using L2 Regularization having Best Parameter from GridSearch"
   ]
  },
  {
   "cell_type": "code",
   "execution_count": 41,
   "metadata": {},
   "outputs": [
    {
     "data": {
      "text/plain": [
       "LogisticRegression(C=0.0001, class_weight=None, dual=False,\n",
       "          fit_intercept=True, intercept_scaling=1, max_iter=100,\n",
       "          multi_class='ovr', n_jobs=1, penalty='l2', random_state=None,\n",
       "          solver='liblinear', tol=0.0001, verbose=0, warm_start=False)"
      ]
     },
     "execution_count": 41,
     "metadata": {},
     "output_type": "execute_result"
    }
   ],
   "source": [
    "lr2=LogisticRegression(penalty='l2',C=0.0001)\n",
    "lr2.fit(standard_train_data,reviews)"
   ]
  },
  {
   "cell_type": "code",
   "execution_count": 42,
   "metadata": {},
   "outputs": [
    {
     "data": {
      "text/plain": [
       "array([[-0.05322756,  0.23696541,  0.07583722,  0.13175445, -0.18572041,\n",
       "        -0.05255542,  0.06747291, -0.25208956, -0.13184468,  0.03542648,\n",
       "        -0.08574955,  0.08956251,  0.06418924,  0.00308173, -0.05613576,\n",
       "        -0.03546571,  0.04723115,  0.10101448, -0.10132434, -0.11546401,\n",
       "         0.00698254, -0.18093706,  0.01794146, -0.13652772,  0.09282835,\n",
       "        -0.04161765, -0.10703876, -0.15272615,  0.04024261,  0.00558418,\n",
       "        -0.08271771,  0.08679817, -0.04647467, -0.03054623, -0.07909467,\n",
       "         0.15251214, -0.09101526,  0.13207189, -0.0733356 ,  0.12611196,\n",
       "         0.08731606, -0.03559649,  0.09813277, -0.11370034,  0.01805967,\n",
       "         0.04980916,  0.04579341, -0.0082971 , -0.15734978,  0.13183898]])"
      ]
     },
     "execution_count": 42,
     "metadata": {},
     "output_type": "execute_result"
    }
   ],
   "source": [
    "lr2.coef_"
   ]
  },
  {
   "cell_type": "markdown",
   "metadata": {},
   "source": [
    "# Prediction and Evaluation "
   ]
  },
  {
   "cell_type": "code",
   "execution_count": 43,
   "metadata": {},
   "outputs": [
    {
     "name": "stdout",
     "output_type": "stream",
     "text": [
      "             precision    recall  f1-score   support\n",
      "\n",
      "          0       0.66      0.20      0.30      5026\n",
      "          1       0.86      0.98      0.91     24974\n",
      "\n",
      "avg / total       0.82      0.85      0.81     30000\n",
      "\n"
     ]
    }
   ],
   "source": [
    "prediction_lr2=lr2.predict(standard_test_data)\n",
    "print(classification_report(test_review,prediction_lr2))"
   ]
  },
  {
   "cell_type": "code",
   "execution_count": 44,
   "metadata": {},
   "outputs": [
    {
     "name": "stdout",
     "output_type": "stream",
     "text": [
      "[[  985  4041]\n",
      " [  513 24461]]\n"
     ]
    }
   ],
   "source": [
    "confu_metric_lr2=confusion_matrix(test_review,prediction_lr2)\n",
    "print(confu_metric_lr2)"
   ]
  },
  {
   "cell_type": "code",
   "execution_count": 45,
   "metadata": {},
   "outputs": [
    {
     "data": {
      "image/png": "[encoded data removed]",
      "text/plain": [
       "<matplotlib.figure.Figure at 0x18a99b39e80>"
      ]
     },
     "metadata": {},
     "output_type": "display_data"
    }
   ],
   "source": [
    "sns.heatmap(confu_metric_lr2,annot=True,fmt='.1f',cmap='RdBu_r')\n",
    "plt.show()"
   ]
  },
  {
   "cell_type": "markdown",
   "metadata": {},
   "source": [
    "# Test and Train Metric Using GridSearch and L2 Regularization"
   ]
  },
  {
   "cell_type": "code",
   "execution_count": 46,
   "metadata": {
    "collapsed": true
   },
   "outputs": [],
   "source": [
    "TP=confu_metric_lr2[1][1]\n",
    "FP=confu_metric_lr2[0][1]\n",
    "TN=confu_metric_lr2[0][0]\n",
    "FN=confu_metric_lr2[1][0]"
   ]
  },
  {
   "cell_type": "code",
   "execution_count": 47,
   "metadata": {},
   "outputs": [
    {
     "name": "stdout",
     "output_type": "stream",
     "text": [
      "TPR:  0.979458636982\n",
      "FPR:  0.804019100676\n",
      "Specificity:  0.195980899324\n",
      "Precision:  0.858220475756\n",
      "Recall:  0.979458636982\n",
      "F1Score:  0.914840302192\n"
     ]
    }
   ],
   "source": [
    "True_positive_rate=TP/(TP+FN) #It tells us when it is actually a Positive Review , How often does it predict Postive Review\n",
    "print('TPR: ',True_positive_rate)\n",
    "\n",
    "false_positive_rate=FP/(FP+TN) # It tells us that when the review is negative how often does it predict Positive Review\n",
    "print('FPR: ',false_positive_rate)\n",
    "\n",
    "specificity=TN/(TN+FP) #It tells us that When the review is negative ,how often does it predict negative review\n",
    "print('Specificity: ',specificity)\n",
    "\n",
    "precision=TP/(TP+FP) # It tells us all the reviews that model has predicted to be Positive how many are truly positive \n",
    "print('Precision: ',precision)\n",
    "\n",
    "recall=TP/(TP+FN) # It tells us that from all the predicted postive reviews how many are actually postive review\n",
    "print('Recall: ',recall)\n",
    "\n",
    "f1_score=2*precision*recall/(precision+recall) #It is the weighted average of the Precision and Recall\n",
    "print('F1Score: ',f1_score)"
   ]
  },
  {
   "cell_type": "markdown",
   "metadata": {},
   "source": [
    "# ROC Curve"
   ]
  },
  {
   "cell_type": "code",
   "execution_count": 48,
   "metadata": {},
   "outputs": [
    {
     "data": {
      "image/png": "[encoded data removed]",
      "text/plain": [
       "<matplotlib.figure.Figure at 0x18a99a1ac88>"
      ]
     },
     "metadata": {},
     "output_type": "display_data"
    }
   ],
   "source": [
    "from sklearn.metrics import roc_curve,auc\n",
    "fpr,tpr,thresholds=roc_curve(test_review,prediction_lr2)\n",
    "roc_auc=auc(fpr,tpr)\n",
    "plt.title('Receiver Operating Characteristic')\n",
    "plt.plot(fpr,tpr, 'b',label='AUC = %0.2f'% roc_auc)\n",
    "plt.legend(loc='lower right')\n",
    "plt.plot([0,1],[0,1],'y--')\n",
    "plt.xlim([-0.1,1.2])\n",
    "plt.ylim([-0.1,1.2])\n",
    "plt.ylabel('True Positive Rate')\n",
    "plt.xlabel('False Positive Rate')\n",
    "plt.show()"
   ]
  },
  {
   "cell_type": "code",
   "execution_count": null,
   "metadata": {
    "collapsed": true
   },
   "outputs": [],
   "source": []
  },
  {
   "cell_type": "markdown",
   "metadata": {},
   "source": [
    "# Apply Logistic Regression using L2 Regularization having Best Parameter from RandomSearch"
   ]
  },
  {
   "cell_type": "code",
   "execution_count": 49,
   "metadata": {},
   "outputs": [
    {
     "data": {
      "text/plain": [
       "LogisticRegression(C=0.0003522967098200658, class_weight=None, dual=False,\n",
       "          fit_intercept=True, intercept_scaling=1, max_iter=100,\n",
       "          multi_class='ovr', n_jobs=1, penalty='l2', random_state=None,\n",
       "          solver='liblinear', tol=0.0001, verbose=0, warm_start=False)"
      ]
     },
     "execution_count": 49,
     "metadata": {},
     "output_type": "execute_result"
    }
   ],
   "source": [
    "lr2_random=LogisticRegression(penalty='l2',C= 0.00035229670982006578)\n",
    "lr2_random.fit(standard_train_data,reviews)"
   ]
  },
  {
   "cell_type": "code",
   "execution_count": 50,
   "metadata": {},
   "outputs": [
    {
     "name": "stdout",
     "output_type": "stream",
     "text": [
      "             precision    recall  f1-score   support\n",
      "\n",
      "          0       0.55      0.37      0.44      5026\n",
      "          1       0.88      0.94      0.91     24974\n",
      "\n",
      "avg / total       0.82      0.84      0.83     30000\n",
      "\n"
     ]
    }
   ],
   "source": [
    "prediction_2=lr2_random.predict(standard_test_data)\n",
    "print(classification_report(test_review,prediction_2))"
   ]
  },
  {
   "cell_type": "code",
   "execution_count": 51,
   "metadata": {},
   "outputs": [
    {
     "name": "stdout",
     "output_type": "stream",
     "text": [
      "[[ 1844  3182]\n",
      " [ 1524 23450]]\n"
     ]
    }
   ],
   "source": [
    "confu_metric_lrr2=confusion_matrix(test_review,prediction_2)\n",
    "print(confu_metric_lrr2)"
   ]
  },
  {
   "cell_type": "code",
   "execution_count": 52,
   "metadata": {},
   "outputs": [
    {
     "data": {
      "image/png": "[encoded data removed]",
      "text/plain": [
       "<matplotlib.figure.Figure at 0x18a99c41a90>"
      ]
     },
     "metadata": {},
     "output_type": "display_data"
    }
   ],
   "source": [
    "sns.heatmap(confu_metric_lrr2,annot=True,fmt='.1f',cmap='RdBu_r')\n",
    "plt.show()"
   ]
  },
  {
   "cell_type": "markdown",
   "metadata": {},
   "source": [
    "# Test and Train Metric Using L2 and RandomSearch"
   ]
  },
  {
   "cell_type": "code",
   "execution_count": 53,
   "metadata": {
    "collapsed": true
   },
   "outputs": [],
   "source": [
    "TP=confu_metric_lrr2[1][1]\n",
    "FP=confu_metric_lrr2[0][1]\n",
    "TN=confu_metric_lrr2[0][0]\n",
    "FN=confu_metric_lrr2[1][0]"
   ]
  },
  {
   "cell_type": "code",
   "execution_count": 54,
   "metadata": {},
   "outputs": [
    {
     "name": "stdout",
     "output_type": "stream",
     "text": [
      "TPR:  0.938976535597\n",
      "FPR:  0.633107839236\n",
      "Specificity:  0.366892160764\n",
      "Precision:  0.880519675578\n",
      "Recall:  0.938976535597\n",
      "F1Score:  0.908809053211\n"
     ]
    }
   ],
   "source": [
    "True_positive_rate=TP/(TP+FN) #It tells us when it is actually a Positive Review , How often does it predict Postive Review\n",
    "print('TPR: ',True_positive_rate)\n",
    "\n",
    "false_positive_rate=FP/(FP+TN) # It tells us that when the review is negative how often does it predict Positive Review\n",
    "print('FPR: ',false_positive_rate)\n",
    "\n",
    "specificity=TN/(TN+FP) #It tells us that When the review is negative ,how often does it predict negative review\n",
    "print('Specificity: ',specificity)\n",
    "\n",
    "precision=TP/(TP+FP) # It tells us all the reviews that model has predicted to be Positive how many are truly positive \n",
    "print('Precision: ',precision)\n",
    "\n",
    "recall=TP/(TP+FN) # It tells us that from all the predicted postive reviews how many are actually postive review\n",
    "print('Recall: ',recall)\n",
    "\n",
    "f1_score=2*precision*recall/(precision+recall) #It is the weighted average of the Precision and Recall\n",
    "print('F1Score: ',f1_score)"
   ]
  },
  {
   "cell_type": "code",
   "execution_count": null,
   "metadata": {
    "collapsed": true
   },
   "outputs": [],
   "source": []
  },
  {
   "cell_type": "code",
   "execution_count": 55,
   "metadata": {},
   "outputs": [
    {
     "data": {
      "image/png": "[encoded data removed]",
      "text/plain": [
       "<matplotlib.figure.Figure at 0x18a99ce29e8>"
      ]
     },
     "metadata": {},
     "output_type": "display_data"
    }
   ],
   "source": [
    "from sklearn.metrics import roc_curve,auc\n",
    "fpr,tpr,thresholds=roc_curve(test_review,prediction_2)\n",
    "roc_auc=auc(fpr,tpr)\n",
    "plt.title('Receiver Operating Characteristic')\n",
    "plt.plot(fpr,tpr, 'b',label='AUC = %0.2f'% roc_auc)\n",
    "plt.legend(loc='lower right')\n",
    "plt.plot([0,1],[0,1],'y--')\n",
    "plt.xlim([-0.1,1.2])\n",
    "plt.ylim([-0.1,1.2])\n",
    "plt.ylabel('True Positive Rate')\n",
    "plt.xlabel('False Positive Rate')\n",
    "plt.show()"
   ]
  },
  {
   "cell_type": "code",
   "execution_count": null,
   "metadata": {
    "collapsed": true
   },
   "outputs": [],
   "source": []
  },
  {
   "cell_type": "markdown",
   "metadata": {},
   "source": [
    "# Checking the Sparsity with the increasing value of the lambda"
   ]
  },
  {
   "cell_type": "code",
   "execution_count": 56,
   "metadata": {},
   "outputs": [
    {
     "name": "stdout",
     "output_type": "stream",
     "text": [
      "25\n",
      "43\n",
      "48\n",
      "50\n",
      "50\n",
      "50\n",
      "50\n"
     ]
    }
   ],
   "source": [
    "C_param_range = [0.001,0.01,0.1,0.5,1,5,10]\n",
    "for j in C_param_range:\n",
    "    lr=LogisticRegression(penalty='l1',C=j,random_state=0)\n",
    "    lr.fit(standard_train_data,reviews)\n",
    "    w=lr.coef_\n",
    "    print(np.count_nonzero(w))"
   ]
  },
  {
   "cell_type": "markdown",
   "metadata": {},
   "source": [
    "# Checking the Misclassification eroror as the lambda increases"
   ]
  },
  {
   "cell_type": "code",
   "execution_count": 57,
   "metadata": {},
   "outputs": [
    {
     "name": "stdout",
     "output_type": "stream",
     "text": [
      "The MSE on the different value of C [0.12877149644358643, 0.11441419944599074, 0.11292845352157388, 0.11261416882645714, 0.11274274229613646]\n"
     ]
    },
    {
     "data": {
      "image/png": "[encoded data removed]",
      "text/plain": [
       "<matplotlib.figure.Figure at 0x18a99dc2b00>"
      ]
     },
     "metadata": {},
     "output_type": "display_data"
    }
   ],
   "source": [
    "C_param_range = [0.001,0.01,0.1,1,10]\n",
    "cv_score=[]\n",
    "for j in C_param_range:\n",
    "    lr=LogisticRegression(penalty='l1',C=j,random_state=0)\n",
    "    scores=cross_val_score(lr,standard_train_data,reviews,cv=5,).mean()\n",
    "    cv_score.append(scores)\n",
    "    \n",
    "# changing to misclassification error\n",
    "MSE = [1 - x for x in cv_score]\n",
    "print('The MSE on the different value of C', MSE)\n",
    "plt.plot(C_param_range,MSE)\n",
    "plt.xlabel('Different value of the C')\n",
    "plt.ylabel('Misclassification Error')\n",
    "plt.show()"
   ]
  },
  {
   "cell_type": "markdown",
   "metadata": {
    "collapsed": true
   },
   "source": [
    "# Feature Selection and Checking the Multicollinearity"
   ]
  },
  {
   "cell_type": "markdown",
   "metadata": {},
   "source": [
    "# Adding the random Noise to the datasets"
   ]
  },
  {
   "cell_type": "code",
   "execution_count": 58,
   "metadata": {
    "collapsed": true
   },
   "outputs": [],
   "source": [
    "noise=np.random.normal(0,0.01,size=(70000,50))"
   ]
  },
  {
   "cell_type": "code",
   "execution_count": 59,
   "metadata": {},
   "outputs": [
    {
     "data": {
      "text/plain": [
       "array([[ 0.00978937, -0.0018346 , -0.00557897, ..., -0.00598035,\n",
       "        -0.01578282, -0.01173944],\n",
       "       [-0.0063968 ,  0.00672159,  0.00817754, ..., -0.01766219,\n",
       "         0.00672777,  0.02151305],\n",
       "       [-0.0123958 ,  0.01420691,  0.00580587, ...,  0.00431902,\n",
       "         0.01028008, -0.01347628],\n",
       "       ..., \n",
       "       [-0.01073996, -0.00702361, -0.0082134 , ..., -0.02051757,\n",
       "        -0.00677702,  0.00286666],\n",
       "       [ 0.0268767 ,  0.00524356, -0.01683343, ..., -0.00158921,\n",
       "        -0.01421566, -0.0126937 ],\n",
       "       [-0.00061251,  0.00274406, -0.0015496 , ..., -0.00881496,\n",
       "         0.00872747, -0.00660883]])"
      ]
     },
     "execution_count": 59,
     "metadata": {},
     "output_type": "execute_result"
    }
   ],
   "source": [
    "noise"
   ]
  },
  {
   "cell_type": "code",
   "execution_count": 60,
   "metadata": {},
   "outputs": [
    {
     "name": "stdout",
     "output_type": "stream",
     "text": [
      "[[ 0.15853739  1.49659088 -0.19370381 ..., -0.47729625 -0.86983212\n",
      "  -0.0414905 ]\n",
      " [-0.04908599  1.01083328 -0.60251157 ...,  0.95836334 -0.49122917\n",
      "  -0.46920655]\n",
      " [-0.68790665  1.55929935  0.92583273 ..., -1.23592536 -2.22192496\n",
      "  -0.31637449]\n",
      " ..., \n",
      " [ 0.26536584 -0.88030873  0.52426522 ...,  0.14281693 -0.49588981\n",
      "   1.41671755]\n",
      " [-0.22412646 -0.36980406  0.40372144 ...,  1.14627861 -0.16106729\n",
      "   1.42291336]\n",
      " [-0.13348196 -0.5323309   0.8020289  ...,  0.490022   -0.59332228\n",
      "   1.83138614]]\n"
     ]
    }
   ],
   "source": [
    "standard_train_data_noise=standard_train_data + noise\n",
    "print(standard_train_data_noise)"
   ]
  },
  {
   "cell_type": "code",
   "execution_count": 61,
   "metadata": {},
   "outputs": [
    {
     "data": {
      "text/plain": [
       "LogisticRegression(C=0.0001, class_weight=None, dual=False,\n",
       "          fit_intercept=True, intercept_scaling=1, max_iter=100,\n",
       "          multi_class='ovr', n_jobs=1, penalty='l2', random_state=None,\n",
       "          solver='liblinear', tol=0.0001, verbose=0, warm_start=False)"
      ]
     },
     "execution_count": 61,
     "metadata": {},
     "output_type": "execute_result"
    }
   ],
   "source": [
    "lr3=LogisticRegression(penalty='l2',C=0.0001)\n",
    "lr3.fit(standard_train_data_noise,reviews)"
   ]
  },
  {
   "cell_type": "markdown",
   "metadata": {},
   "source": [
    "# Prediction and Evaluation by Adding a Random Noise to the training DATA"
   ]
  },
  {
   "cell_type": "code",
   "execution_count": 62,
   "metadata": {},
   "outputs": [
    {
     "name": "stdout",
     "output_type": "stream",
     "text": [
      "             precision    recall  f1-score   support\n",
      "\n",
      "          0       0.66      0.20      0.30      5026\n",
      "          1       0.86      0.98      0.91     24974\n",
      "\n",
      "avg / total       0.82      0.85      0.81     30000\n",
      "\n"
     ]
    }
   ],
   "source": [
    "prediction_l2_noise=lr3.predict(standard_test_data)\n",
    "print(classification_report(test_review,prediction_l2_noise))"
   ]
  },
  {
   "cell_type": "code",
   "execution_count": 63,
   "metadata": {
    "collapsed": true
   },
   "outputs": [],
   "source": [
    "confu_noise=confusion_matrix(test_review,prediction_l2_noise)"
   ]
  },
  {
   "cell_type": "code",
   "execution_count": 64,
   "metadata": {},
   "outputs": [
    {
     "name": "stdout",
     "output_type": "stream",
     "text": [
      "[[  985  4041]\n",
      " [  513 24461]]\n"
     ]
    }
   ],
   "source": [
    "print(confu_noise)"
   ]
  },
  {
   "cell_type": "code",
   "execution_count": 65,
   "metadata": {},
   "outputs": [
    {
     "data": {
      "image/png": "[encoded data removed]",
      "text/plain": [
       "<matplotlib.figure.Figure at 0x18a99d6d080>"
      ]
     },
     "metadata": {},
     "output_type": "display_data"
    }
   ],
   "source": [
    "sns.heatmap(confu_noise,annot=True,fmt='.1f',annot_kws={\"size\": 16},cmap='RdBu_r')\n",
    "plt.show()"
   ]
  },
  {
   "cell_type": "code",
   "execution_count": 66,
   "metadata": {
    "collapsed": true
   },
   "outputs": [],
   "source": [
    "w_hat=lr3.coef_"
   ]
  },
  {
   "cell_type": "code",
   "execution_count": 67,
   "metadata": {},
   "outputs": [
    {
     "name": "stdout",
     "output_type": "stream",
     "text": [
      "[[-0.0532369   0.23697096  0.07576985  0.13176432 -0.18566136 -0.05255601\n",
      "   0.06745009 -0.25203579 -0.13184458  0.03544504 -0.08576252  0.08965055\n",
      "   0.06424199  0.00305908 -0.05601289 -0.03544742  0.04726199  0.10101375\n",
      "  -0.10122801 -0.11541386  0.00695438 -0.18088524  0.0179442  -0.13657968\n",
      "   0.09282423 -0.04161638 -0.10703414 -0.15273176  0.04026481  0.0055559\n",
      "  -0.08274284  0.08672029 -0.04649774 -0.03045322 -0.07908103  0.15252495\n",
      "  -0.09108113  0.13216346 -0.07324092  0.12609133  0.08736914 -0.03562218\n",
      "   0.09811667 -0.11376978  0.01801916  0.04974259  0.04576786 -0.00824233\n",
      "  -0.15723881  0.13187205]]\n"
     ]
    }
   ],
   "source": [
    "w_hat=np.array(w_hat)\n",
    "print(w_hat)"
   ]
  },
  {
   "cell_type": "code",
   "execution_count": 68,
   "metadata": {},
   "outputs": [
    {
     "name": "stdout",
     "output_type": "stream",
     "text": [
      "[[-0.05322756  0.23696541  0.07583722  0.13175445 -0.18572041 -0.05255542\n",
      "   0.06747291 -0.25208956 -0.13184468  0.03542648 -0.08574955  0.08956251\n",
      "   0.06418924  0.00308173 -0.05613576 -0.03546571  0.04723115  0.10101448\n",
      "  -0.10132434 -0.11546401  0.00698254 -0.18093706  0.01794146 -0.13652772\n",
      "   0.09282835 -0.04161765 -0.10703876 -0.15272615  0.04024261  0.00558418\n",
      "  -0.08271771  0.08679817 -0.04647467 -0.03054623 -0.07909467  0.15251214\n",
      "  -0.09101526  0.13207189 -0.0733356   0.12611196  0.08731606 -0.03559649\n",
      "   0.09813277 -0.11370034  0.01805967  0.04980916  0.04579341 -0.0082971\n",
      "  -0.15734978  0.13183898]]\n"
     ]
    }
   ],
   "source": [
    "w_old=lr2.coef_\n",
    "w_old=np.array(w_old)\n",
    "print(w_old)"
   ]
  },
  {
   "cell_type": "markdown",
   "metadata": {
    "collapsed": true
   },
   "source": [
    "# Find the difference in both weight vectors before and after Noise"
   ]
  },
  {
   "cell_type": "code",
   "execution_count": 69,
   "metadata": {},
   "outputs": [
    {
     "data": {
      "image/png": "[encoded data removed]",
      "text/plain": [
       "<matplotlib.figure.Figure at 0x18a99ebc278>"
      ]
     },
     "metadata": {},
     "output_type": "display_data"
    }
   ],
   "source": [
    "diff=[]\n",
    "for i in range(w_hat.size):\n",
    "    diff.append(w_old[:,i] - w_hat[:,i])\n",
    "\n",
    "plt.figure(1,figsize=(6,4))\n",
    "plt.clf()\n",
    "plt.plot(diff,linewidth=0.5)\n",
    "plt.axis('tight')\n",
    "plt.grid(color='r',linewidth=0.5,linestyle='-')\n",
    "plt.xlabel('weight of features vector')\n",
    "plt.ylabel('percentage_chnage_explained')\n",
    "plt.show()   "
   ]
  },
  {
   "cell_type": "markdown",
   "metadata": {},
   "source": [
    "# Observation : We have calculated the weight vector after adding the noise and what i have found that , there is almost no chnage in the new and old weight vector so we can say that they are not multicollinear"
   ]
  },
  {
   "cell_type": "code",
   "execution_count": 70,
   "metadata": {
    "collapsed": true
   },
   "outputs": [],
   "source": [
    "percentage_var_explained=diff / np.sum(diff)\n",
    "percenatge_change=np.cumsum(percentage_var_explained)"
   ]
  },
  {
   "cell_type": "code",
   "execution_count": 71,
   "metadata": {},
   "outputs": [
    {
     "data": {
      "image/png": "[encoded data removed]",
      "text/plain": [
       "<matplotlib.figure.Figure at 0x18a99e37b00>"
      ]
     },
     "metadata": {},
     "output_type": "display_data"
    }
   ],
   "source": [
    "plt.figure(1,figsize=(6,4))\n",
    "plt.clf()\n",
    "plt.plot(percentage_var_explained,linewidth=2)\n",
    "plt.axis('tight')\n",
    "plt.grid(color='r',linewidth=2,linestyle='-')\n",
    "plt.xlabel('weight of features vector')\n",
    "plt.ylabel('percentage_chnage_explained')\n",
    "plt.show()"
   ]
  },
  {
   "cell_type": "markdown",
   "metadata": {},
   "source": [
    "# Finding top ten important features in Training data"
   ]
  },
  {
   "cell_type": "code",
   "execution_count": 72,
   "metadata": {},
   "outputs": [
    {
     "data": {
      "text/plain": [
       "array([-0.05322756,  0.23696541,  0.07583722,  0.13175445, -0.18572041,\n",
       "       -0.05255542,  0.06747291, -0.25208956, -0.13184468,  0.03542648])"
      ]
     },
     "execution_count": 72,
     "metadata": {},
     "output_type": "execute_result"
    }
   ],
   "source": [
    "w_old[0][0:10]"
   ]
  },
  {
   "cell_type": "markdown",
   "metadata": {
    "collapsed": true
   },
   "source": [
    "# Observation/Summary "
   ]
  },
  {
   "cell_type": "markdown",
   "metadata": {
    "collapsed": true
   },
   "source": [
    "1.I have preprocessed and cleaned  the whole dataset and store in Amazon.csv file for the further use. That CSV contains all the data. \n",
    "2. Now We have cleaned data , So I have sorted the Whole data on the basic of the TimeStamp\n",
    "3. Now I have splitted my whole Dataset into Training and Test datasets for My ML\n",
    "4. I have taken the 70K sample from the Training purpose and 30K Sample for Testing purpose\n",
    "5. Its time to convert our text into vectors . I have used Word2vec() to convert my text reviews into Vectors . \n",
    "   I have converted the Training Sample and Test sample individually\n",
    "\n",
    "6. I have performed the column Standardization on my Training and Test data\n",
    "7. I have tuned my gridSearch  With different parameter to find out the best parameter and best score. \n",
    "8. I have also tuned my random search to find out the best parameter and score. They are listed below\n"
   ]
  },
  {
   "cell_type": "code",
   "execution_count": 75,
   "metadata": {},
   "outputs": [
    {
     "data": {
      "text/html": [
       "<div>\n",
       "<style>\n",
       "    .dataframe thead tr:only-child th {\n",
       "        text-align: right;\n",
       "    }\n",
       "\n",
       "    .dataframe thead th {\n",
       "        text-align: left;\n",
       "    }\n",
       "\n",
       "    .dataframe tbody tr th {\n",
       "        vertical-align: top;\n",
       "    }\n",
       "</style>\n",
       "<table border=\"1\" class=\"dataframe\">\n",
       "  <thead>\n",
       "    <tr style=\"text-align: right;\">\n",
       "      <th></th>\n",
       "      <th>GridSearch</th>\n",
       "      <th>RandomSearch</th>\n",
       "    </tr>\n",
       "  </thead>\n",
       "  <tbody>\n",
       "    <tr>\n",
       "      <th>Best_score</th>\n",
       "      <td>0.9359</td>\n",
       "      <td>0.935900</td>\n",
       "    </tr>\n",
       "    <tr>\n",
       "      <th>Best_parameter</th>\n",
       "      <td>1.0000</td>\n",
       "      <td>0.173666</td>\n",
       "    </tr>\n",
       "  </tbody>\n",
       "</table>\n",
       "</div>"
      ],
      "text/plain": [
       "                GridSearch  RandomSearch\n",
       "Best_score          0.9359      0.935900\n",
       "Best_parameter      1.0000      0.173666"
      ]
     },
     "execution_count": 75,
     "metadata": {},
     "output_type": "execute_result"
    }
   ],
   "source": [
    "pd.DataFrame({'GridSearch':[0.9359,1],'RandomSearch':[0.9359,0.173666]},index=['Best_score','Best_parameter'])"
   ]
  },
  {
   "cell_type": "markdown",
   "metadata": {
    "collapsed": true
   },
   "source": [
    "8. We have the best Parameter.Now I have applied the Logistic Regression Using L1 and L2 Regularizer, taken the best parameter      got from the GridSearch. \n",
    "\n",
    "9. We have the best Parameter.Now I have applied the Logistic Regression Using L1 and L2 Regularizer, taken the best parameter      got from the RandomSearch. \n",
    "10. I have evaluated the Each one , In my case , The result I have got from the L2 regularization irrespective of GridSearch and     Random Search  is much better than in case of L1 regularization. \n",
    "11. I kept increasing the value of the lambda , and I have found that my misclassification error was kept on decreasing but at a     very high value lambda =1000 My misclassification error again increased  \n",
    "12. As I have increased the lamda value to check the sparsity with a high value of lambda our mostly elements are zero as we        have decreased the lambda the sparsity decreased and We have got more non zero rows\n",
    "\n",
    "13. Now I have checked the Multicollinearity, I have created a random noise of the same length as My datasets is . Now I have       remove the non zero rows to maintain the sparsity , Now I have added the Noise to the training dataset,I have my training       datasets with noise. \n",
    "14. Now I have applied by noise dataset to the logistic regression , Now I have calculated the new weight W_hat.\n",
    "    What I have done , I have find the differnce between the w and w_hat, and plot it .\n",
    "    In my case , most of the weight has not changed. there is hardly .02% change in the weight. So we can say that my features       are not Multicollinear. We have found the top ten features from the w \n",
    "    \n",
    "\n",
    "    \n"
   ]
  },
  {
   "cell_type": "code",
   "execution_count": null,
   "metadata": {
    "collapsed": true
   },
   "outputs": [],
   "source": []
  }
 ],
 "metadata": {
  "kernelspec": {
   "display_name": "Python 3",
   "language": "python",
   "name": "python3"
  },
  "language_info": {
   "codemirror_mode": {
    "name": "ipython",
    "version": 3
   },
   "file_extension": ".py",
   "mimetype": "text/x-python",
   "name": "python",
   "nbconvert_exporter": "python",
   "pygments_lexer": "ipython3",
   "version": "3.6.6"
  }
 },
 "nbformat": 4,
 "nbformat_minor": 2
}
