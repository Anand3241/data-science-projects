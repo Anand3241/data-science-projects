{
 "cells": [
  {
   "cell_type": "code",
   "execution_count": 5,
   "metadata": {
    "collapsed": true
   },
   "outputs": [],
   "source": [
    "import numpy as np\n",
    "import pandas as pd\n",
    "import matplotlib.pyplot as plt\n",
    "import seaborn as sns\n",
    "%matplotlib inline\n",
    "import sqlite3\n",
    "import nltk\n",
    "import string\n",
    "from sklearn.feature_extraction.text import TfidfTransformer\n",
    "from sklearn.feature_extraction.text import TfidfVectorizer\n",
    "from sklearn.feature_extraction.text import CountVectorizer\n",
    "from sklearn.metrics import confusion_matrix\n",
    "from sklearn import metrics\n",
    "from sklearn.metrics import roc_curve,auc,roc_auc_score\n",
    "from nltk.stem.porter import PorterStemmer\n",
    "from sklearn.cross_validation import train_test_split\n",
    "from sklearn.grid_search import GridSearchCV,RandomizedSearchCV\n",
    "from sklearn.datasets import *\n",
    "from sklearn.metrics import accuracy_score\n",
    "from sklearn.learning_curve import validation_curve\n",
    "from sklearn.cross_validation import cross_val_score\n",
    "from scipy.stats import uniform as sp_rand\n",
    "from sklearn.model_selection import TimeSeriesSplit\n",
    "from sklearn import cross_validation\n",
    "from sklearn.metrics import classification_report,confusion_matrix\n",
    "from sklearn.svm import SVC\n",
    "from scipy import stats\n",
    "from sklearn.tree import DecisionTreeClassifier\n",
    "from sklearn.model_selection import ParameterGrid\n",
    "import parfit.parfit as pf\n",
    "from sklearn.utils import shuffle\n",
    "import random\n",
    "import gensim\n",
    "import warnings\n",
    "warnings.filterwarnings('ignore')\n",
    "from sklearn.tree import export_graphviz\n",
    "import pydotplus\n",
    "from sklearn.externals.six import StringIO  \n",
    "from IPython.display import Image  \n",
    "import graphviz"
   ]
  },
  {
   "cell_type": "markdown",
   "metadata": {},
   "source": [
    "# Preprocessed and Cleaned Data Saved as Amazon.csv"
   ]
  },
  {
   "cell_type": "code",
   "execution_count": 2,
   "metadata": {
    "collapsed": true
   },
   "outputs": [],
   "source": [
    "final_data=pd.read_csv('Amazon.csv')"
   ]
  },
  {
   "cell_type": "markdown",
   "metadata": {},
   "source": [
    "# Sort the Data Based pn the Time Stamp"
   ]
  },
  {
   "cell_type": "code",
   "execution_count": 3,
   "metadata": {},
   "outputs": [
    {
     "data": {
      "text/html": [
       "<div>\n",
       "<style>\n",
       "    .dataframe thead tr:only-child th {\n",
       "        text-align: right;\n",
       "    }\n",
       "\n",
       "    .dataframe thead th {\n",
       "        text-align: left;\n",
       "    }\n",
       "\n",
       "    .dataframe tbody tr th {\n",
       "        vertical-align: top;\n",
       "    }\n",
       "</style>\n",
       "<table border=\"1\" class=\"dataframe\">\n",
       "  <thead>\n",
       "    <tr style=\"text-align: right;\">\n",
       "      <th></th>\n",
       "      <th>Unnamed: 0</th>\n",
       "      <th>Id</th>\n",
       "      <th>ProductId</th>\n",
       "      <th>UserId</th>\n",
       "      <th>ProfileName</th>\n",
       "      <th>HelpfulnessNumerator</th>\n",
       "      <th>HelpfulnessDenominator</th>\n",
       "      <th>Score</th>\n",
       "      <th>Time</th>\n",
       "      <th>Summary</th>\n",
       "      <th>Text</th>\n",
       "      <th>CleanText</th>\n",
       "    </tr>\n",
       "  </thead>\n",
       "  <tbody>\n",
       "    <tr>\n",
       "      <th>0</th>\n",
       "      <td>138706</td>\n",
       "      <td>150524</td>\n",
       "      <td>0006641040</td>\n",
       "      <td>ACITT7DI6IDDL</td>\n",
       "      <td>shari zychinski</td>\n",
       "      <td>0</td>\n",
       "      <td>0</td>\n",
       "      <td>1</td>\n",
       "      <td>939340800</td>\n",
       "      <td>EVERY book is educational</td>\n",
       "      <td>this witty little book makes my son laugh at l...</td>\n",
       "      <td>b'witti littl book make son laugh loud recit c...</td>\n",
       "    </tr>\n",
       "    <tr>\n",
       "      <th>1</th>\n",
       "      <td>138688</td>\n",
       "      <td>150506</td>\n",
       "      <td>0006641040</td>\n",
       "      <td>A2IW4PEEKO2R0U</td>\n",
       "      <td>Tracy</td>\n",
       "      <td>1</td>\n",
       "      <td>1</td>\n",
       "      <td>1</td>\n",
       "      <td>1194739200</td>\n",
       "      <td>Love the book, miss the hard cover version</td>\n",
       "      <td>I grew up reading these Sendak books, and watc...</td>\n",
       "      <td>b'grew read sendak book watch realli rosi movi...</td>\n",
       "    </tr>\n",
       "    <tr>\n",
       "      <th>2</th>\n",
       "      <td>138689</td>\n",
       "      <td>150507</td>\n",
       "      <td>0006641040</td>\n",
       "      <td>A1S4A3IQ2MU7V4</td>\n",
       "      <td>sally sue \"sally sue\"</td>\n",
       "      <td>1</td>\n",
       "      <td>1</td>\n",
       "      <td>1</td>\n",
       "      <td>1191456000</td>\n",
       "      <td>chicken soup with rice months</td>\n",
       "      <td>This is a fun way for children to learn their ...</td>\n",
       "      <td>b'fun way children learn month year learn poem...</td>\n",
       "    </tr>\n",
       "    <tr>\n",
       "      <th>3</th>\n",
       "      <td>138690</td>\n",
       "      <td>150508</td>\n",
       "      <td>0006641040</td>\n",
       "      <td>AZGXZ2UUK6X</td>\n",
       "      <td>Catherine Hallberg \"(Kate)\"</td>\n",
       "      <td>1</td>\n",
       "      <td>1</td>\n",
       "      <td>1</td>\n",
       "      <td>1076025600</td>\n",
       "      <td>a good swingy rhythm for reading aloud</td>\n",
       "      <td>This is a great little book to read aloud- it ...</td>\n",
       "      <td>b'great littl book read nice rhythm well good ...</td>\n",
       "    </tr>\n",
       "    <tr>\n",
       "      <th>4</th>\n",
       "      <td>138691</td>\n",
       "      <td>150509</td>\n",
       "      <td>0006641040</td>\n",
       "      <td>A3CMRKGE0P909G</td>\n",
       "      <td>Teresa</td>\n",
       "      <td>3</td>\n",
       "      <td>4</td>\n",
       "      <td>1</td>\n",
       "      <td>1018396800</td>\n",
       "      <td>A great way to learn the months</td>\n",
       "      <td>This is a book of poetry about the months of t...</td>\n",
       "      <td>b'book poetri month year goe month cute littl ...</td>\n",
       "    </tr>\n",
       "  </tbody>\n",
       "</table>\n",
       "</div>"
      ],
      "text/plain": [
       "   Unnamed: 0      Id   ProductId          UserId  \\\n",
       "0      138706  150524  0006641040   ACITT7DI6IDDL   \n",
       "1      138688  150506  0006641040  A2IW4PEEKO2R0U   \n",
       "2      138689  150507  0006641040  A1S4A3IQ2MU7V4   \n",
       "3      138690  150508  0006641040     AZGXZ2UUK6X   \n",
       "4      138691  150509  0006641040  A3CMRKGE0P909G   \n",
       "\n",
       "                   ProfileName  HelpfulnessNumerator  HelpfulnessDenominator  \\\n",
       "0              shari zychinski                     0                       0   \n",
       "1                        Tracy                     1                       1   \n",
       "2        sally sue \"sally sue\"                     1                       1   \n",
       "3  Catherine Hallberg \"(Kate)\"                     1                       1   \n",
       "4                       Teresa                     3                       4   \n",
       "\n",
       "   Score        Time                                     Summary  \\\n",
       "0      1   939340800                   EVERY book is educational   \n",
       "1      1  1194739200  Love the book, miss the hard cover version   \n",
       "2      1  1191456000               chicken soup with rice months   \n",
       "3      1  1076025600      a good swingy rhythm for reading aloud   \n",
       "4      1  1018396800             A great way to learn the months   \n",
       "\n",
       "                                                Text  \\\n",
       "0  this witty little book makes my son laugh at l...   \n",
       "1  I grew up reading these Sendak books, and watc...   \n",
       "2  This is a fun way for children to learn their ...   \n",
       "3  This is a great little book to read aloud- it ...   \n",
       "4  This is a book of poetry about the months of t...   \n",
       "\n",
       "                                           CleanText  \n",
       "0  b'witti littl book make son laugh loud recit c...  \n",
       "1  b'grew read sendak book watch realli rosi movi...  \n",
       "2  b'fun way children learn month year learn poem...  \n",
       "3  b'great littl book read nice rhythm well good ...  \n",
       "4  b'book poetri month year goe month cute littl ...  "
      ]
     },
     "execution_count": 3,
     "metadata": {},
     "output_type": "execute_result"
    }
   ],
   "source": [
    "final_data.sort_values('Time',ascending=True)\n",
    "final_data.head()"
   ]
  },
  {
   "cell_type": "markdown",
   "metadata": {},
   "source": [
    "# Spliting the whole Dataset into Train and Test"
   ]
  },
  {
   "cell_type": "code",
   "execution_count": 4,
   "metadata": {},
   "outputs": [
    {
     "name": "stdout",
     "output_type": "stream",
     "text": [
      "Train: [    0     1     2 ..., 91042 91043 91044] Test: [ 91045  91046  91047 ..., 182084 182085 182086]\n",
      "Train: [     0      1      2 ..., 182084 182085 182086] Test: [182087 182088 182089 ..., 273126 273127 273128]\n",
      "Train: [     0      1      2 ..., 273126 273127 273128] Test: [273129 273130 273131 ..., 364168 364169 364170]\n"
     ]
    }
   ],
   "source": [
    "tscv=TimeSeriesSplit(n_splits=3)\n",
    "for train_index,test_index in tscv.split(final_data):\n",
    "    print(\"Train:\", train_index,\"Test:\", test_index)\n",
    "    train_data,test_data = final_data.iloc[train_index],final_data.iloc[test_index]"
   ]
  },
  {
   "cell_type": "code",
   "execution_count": 5,
   "metadata": {
    "collapsed": true
   },
   "outputs": [],
   "source": [
    "#Training data\n",
    "train_data=shuffle(train_data)\n",
    "reviews=train_data['Score']\n",
    "reviews=reviews[0:70000]\n",
    "train_data=train_data[0:70000]"
   ]
  },
  {
   "cell_type": "code",
   "execution_count": 6,
   "metadata": {
    "collapsed": true
   },
   "outputs": [],
   "source": [
    "#Test data\n",
    "test_data=shuffle(test_data)\n",
    "test_review=test_data['Score']\n",
    "test_review=test_review[0:30000]\n",
    "test_data=test_data[0:30000]"
   ]
  },
  {
   "cell_type": "code",
   "execution_count": 7,
   "metadata": {},
   "outputs": [
    {
     "name": "stdout",
     "output_type": "stream",
     "text": [
      "{'ma', 'be', 'weren', 'our', 'both', \"wasn't\", 'don', 'and', 'yourself', 'further', 'any', \"shan't\", 'ourselves', \"you've\", 'over', 'such', 'after', 'didn', \"shouldn't\", 'all', 'doesn', 'been', 'is', 'here', 'above', 'haven', \"hasn't\", \"doesn't\", 'yours', 'up', 'her', \"haven't\", 'a', 'which', 'mightn', 'does', 'into', \"mustn't\", \"you'd\", \"isn't\", 'them', 'there', 'most', 'doing', \"wouldn't\", 'yourselves', 'off', 'just', 't', 'hasn', 'wasn', 'are', \"should've\", \"it's\", 'was', 'why', 'to', 'had', 'same', 're', 'down', 'no', 'the', 'i', \"couldn't\", 'me', 'wouldn', 'herself', 'how', 'he', 'once', 'so', \"don't\", 'now', 'for', 'few', 'being', 'have', 'ours', \"weren't\", 'myself', 'has', \"aren't\", 'those', 'not', 'as', 'while', 'm', 'did', \"hadn't\", \"you'll\", 'd', 'can', 'if', 'in', 'against', 'an', 'by', 'this', 'am', 'under', 'himself', 'on', 'or', \"mightn't\", 'its', 'o', 'between', 'nor', 'it', 'some', 'll', \"you're\", 'his', 'but', 'own', 'you', \"she's\", 'having', 'mustn', 'him', 'they', 'until', 'couldn', 'other', 'what', 'should', 'more', 'that', 'hers', 'y', 'their', 'theirs', 'out', 'very', 've', 'than', 'of', 'shan', 'at', 'again', 'itself', 'themselves', 'my', 'were', 'ain', \"needn't\", 'from', 'through', 'about', 'then', 'too', 'we', 'do', 'won', 'with', 'needn', 'shouldn', \"didn't\", 'your', 'when', 'only', 'isn', 'these', 'below', 'before', 'hadn', 'where', 'each', 'whom', 'because', 'will', \"that'll\", \"won't\", 'aren', 'she', 's', 'who', 'during'}\n",
      "************************************\n",
      "tasti\n"
     ]
    }
   ],
   "source": [
    "import re\n",
    "# Tutorial about Python regular expressions: https://pymotw.com/2/re/\n",
    "import string\n",
    "from nltk.corpus import stopwords\n",
    "from nltk.stem import PorterStemmer\n",
    "from nltk.stem.wordnet import WordNetLemmatizer\n",
    "\n",
    "stop = set(stopwords.words('english')) #set of stopwords\n",
    "sno = nltk.stem.SnowballStemmer('english') #initialising the snowball stemmer\n",
    "\n",
    "def cleanhtml(sentence): #function to clean the word of any html-tags\n",
    "    cleanr = re.compile('<.*?>')\n",
    "    cleantext = re.sub(cleanr, ' ', sentence)\n",
    "    return cleantext\n",
    "def cleanpunc(sentence): #function to clean the word of any punctuation or special characters\n",
    "    cleaned = re.sub(r'[?|!|\\'|\"|#]',r'',sentence)\n",
    "    cleaned = re.sub(r'[.|,|)|(|\\|/]',r' ',cleaned)\n",
    "    return  cleaned\n",
    "print(stop)\n",
    "print('************************************')\n",
    "print(sno.stem('tasty'))"
   ]
  },
  {
   "cell_type": "code",
   "execution_count": 8,
   "metadata": {
    "collapsed": true
   },
   "outputs": [],
   "source": [
    "i=0\n",
    "list_of_sent_train=[]\n",
    "for sent in train_data['CleanText'].values:\n",
    "    filtered_sentence=[]\n",
    "    sent=cleanhtml(sent)\n",
    "    for w in sent.split():\n",
    "        for cleaned_words in cleanpunc(w).split():\n",
    "            if(cleaned_words.isalpha()):    \n",
    "                filtered_sentence.append(cleaned_words.lower())\n",
    "            else:\n",
    "                continue \n",
    "    list_of_sent_train.append(filtered_sentence)"
   ]
  },
  {
   "cell_type": "code",
   "execution_count": 9,
   "metadata": {
    "collapsed": true
   },
   "outputs": [],
   "source": [
    "i=0\n",
    "list_of_sent_test=[]\n",
    "for sent in test_data['CleanText'].values:\n",
    "    filtered_sentence=[]\n",
    "    sent=cleanhtml(sent)\n",
    "    for w in sent.split():\n",
    "        for cleaned_words in cleanpunc(w).split():\n",
    "            if(cleaned_words.isalpha()):    \n",
    "                filtered_sentence.append(cleaned_words.lower())\n",
    "            else:\n",
    "                continue \n",
    "    list_of_sent_test.append(filtered_sentence)"
   ]
  },
  {
   "cell_type": "code",
   "execution_count": 10,
   "metadata": {
    "collapsed": true
   },
   "outputs": [],
   "source": [
    "w2v_model_train=gensim.models.Word2Vec(list_of_sent_train,min_count=5,size=50,workers=4)\n",
    "w2v_model_test=gensim.models.Word2Vec(list_of_sent_test,min_count=5,size=50,workers=4)"
   ]
  },
  {
   "cell_type": "markdown",
   "metadata": {},
   "source": [
    "# Converting into Word2vec for Training purpose"
   ]
  },
  {
   "cell_type": "code",
   "execution_count": 11,
   "metadata": {},
   "outputs": [
    {
     "name": "stdout",
     "output_type": "stream",
     "text": [
      "70000\n",
      "50\n"
     ]
    }
   ],
   "source": [
    "sent_vectors_train=[]\n",
    "for sent in list_of_sent_train:\n",
    "    sent_vec=np.zeros(50)\n",
    "    #print(sent_vec)\n",
    "    cnt_words=0;\n",
    "    for word in sent:\n",
    "        try:\n",
    "            vec=w2v_model_train.wv[word]\n",
    "            #print(vec)\n",
    "            sent_vec+=vec\n",
    "            cnt_words+=1\n",
    "        except:\n",
    "            pass\n",
    "    sent_vec /= cnt_words\n",
    "    sent_vectors_train.append(sent_vec)\n",
    "print(len(sent_vectors_train))\n",
    "print(len(sent_vectors_train[0]))      "
   ]
  },
  {
   "cell_type": "code",
   "execution_count": 12,
   "metadata": {},
   "outputs": [
    {
     "name": "stdout",
     "output_type": "stream",
     "text": [
      "30000\n",
      "50\n"
     ]
    }
   ],
   "source": [
    "sent_vectors_test=[]\n",
    "for sent in list_of_sent_test:\n",
    "    sent_vec=np.zeros(50)\n",
    "    #print(sent_vec)\n",
    "    cnt_words=0;\n",
    "    for word in sent:\n",
    "        try:\n",
    "            vec=w2v_model_test.wv[word]\n",
    "            #print(vec)\n",
    "            sent_vec+=vec\n",
    "            cnt_words+=1\n",
    "        except:\n",
    "            pass\n",
    "    sent_vec /= cnt_words\n",
    "    sent_vectors_test.append(sent_vec)\n",
    "print(len(sent_vectors_test))\n",
    "print(len(sent_vectors_test[0]))      "
   ]
  },
  {
   "cell_type": "code",
   "execution_count": 13,
   "metadata": {
    "collapsed": true
   },
   "outputs": [],
   "source": [
    "sent_vectors_train_array=np.array(sent_vectors_train)\n",
    "sent_vectors_train_array=np.nan_to_num(sent_vectors_train_array)"
   ]
  },
  {
   "cell_type": "code",
   "execution_count": 14,
   "metadata": {
    "collapsed": true
   },
   "outputs": [],
   "source": [
    "sent_vectors_test_array=np.array(sent_vectors_test)\n",
    "sent_vectors_test_array=np.nan_to_num(sent_vectors_test_array)"
   ]
  },
  {
   "cell_type": "markdown",
   "metadata": {},
   "source": [
    "# Finding the optimum depth using cross validation"
   ]
  },
  {
   "cell_type": "code",
   "execution_count": 16,
   "metadata": {},
   "outputs": [
    {
     "name": "stdout",
     "output_type": "stream",
     "text": [
      "[0.84925733488426047, 0.85624298395889475, 0.85887146562944672, 0.86044294115043907, 0.86057152484256749, 0.8596001962434443, 0.85764284927959156, 0.85328570229591816, 0.84842859406763882, 0.84434295525043923, 0.83928580416530774, 0.83634293065043885, 0.83277147142915542, 0.82889987138716936, 0.82581420400262218, 0.82391407131836281, 0.82225717945685195, 0.81987139371894968, 0.82018573250962135, 0.81765713655860028, 0.81629993245480925, 0.81585710183002824, 0.81560002632128337, 0.81372859366064176, 0.8151572385720135, 0.8139857752877564, 0.81411432222186664]\n",
      "\n",
      "The optimal number of depth is 7.\n"
     ]
    },
    {
     "data": {
      "image/png": "[encoded data removed]",
      "text/plain": [
       "<matplotlib.figure.Figure at 0x1d44943af28>"
      ]
     },
     "metadata": {},
     "output_type": "display_data"
    },
    {
     "name": "stdout",
     "output_type": "stream",
     "text": [
      "the misclassification error for each i value is :  [ 0.151  0.144  0.141  0.14   0.139  0.14   0.142  0.147  0.152  0.156\n",
      "  0.161  0.164  0.167  0.171  0.174  0.176  0.178  0.18   0.18   0.182\n",
      "  0.184  0.184  0.184  0.186  0.185  0.186  0.186]\n"
     ]
    }
   ],
   "source": [
    "depth = list(range(3,30))\n",
    "cv_scores = []\n",
    "\n",
    "# perform 10-fold cross validation\n",
    "for i in depth:\n",
    "    dt = DecisionTreeClassifier(max_depth=i)\n",
    "    scores = cross_val_score(dt, sent_vectors_train_array,reviews, cv=10, scoring='accuracy')\n",
    "    cv_scores.append(scores.mean())\n",
    "print(cv_scores)\n",
    "\n",
    "# changing to misclassification error\n",
    "MSE = [1 - x for x in cv_scores]\n",
    "\n",
    "# determining best k\n",
    "optimal_i = depth[MSE.index(min(MSE))]\n",
    "print('\\nThe optimal number of depth is %d.' % optimal_i)\n",
    "\n",
    "# plot misclassification error vs depth \n",
    "plt.plot(depth, MSE)\n",
    "\n",
    "for xy in zip(depth, np.round(MSE,3)):\n",
    "    plt.annotate('(%s, %s)' % xy, xy=xy, textcoords='data')\n",
    "\n",
    "plt.xlabel('Depth')\n",
    "plt.ylabel('Misclassification Error')\n",
    "plt.show()\n",
    "\n",
    "print(\"the misclassification error for each i value is : \", np.round(MSE,3))"
   ]
  },
  {
   "cell_type": "code",
   "execution_count": 27,
   "metadata": {
    "collapsed": true
   },
   "outputs": [],
   "source": [
    "tree=DecisionTreeClassifier(max_depth=7)"
   ]
  },
  {
   "cell_type": "code",
   "execution_count": 28,
   "metadata": {},
   "outputs": [
    {
     "data": {
      "text/plain": [
       "DecisionTreeClassifier(class_weight=None, criterion='gini', max_depth=7,\n",
       "            max_features=None, max_leaf_nodes=None,\n",
       "            min_impurity_decrease=0.0, min_impurity_split=None,\n",
       "            min_samples_leaf=1, min_samples_split=2,\n",
       "            min_weight_fraction_leaf=0.0, presort=False, random_state=None,\n",
       "            splitter='best')"
      ]
     },
     "execution_count": 28,
     "metadata": {},
     "output_type": "execute_result"
    }
   ],
   "source": [
    "tree.fit(sent_vectors_train_array,reviews)"
   ]
  },
  {
   "cell_type": "markdown",
   "metadata": {},
   "source": [
    "# Prediction and Evaluation"
   ]
  },
  {
   "cell_type": "code",
   "execution_count": 29,
   "metadata": {
    "collapsed": true
   },
   "outputs": [],
   "source": [
    "prediction=tree.predict(sent_vectors_test_array)"
   ]
  },
  {
   "cell_type": "code",
   "execution_count": 30,
   "metadata": {},
   "outputs": [
    {
     "name": "stdout",
     "output_type": "stream",
     "text": [
      "             precision    recall  f1-score   support\n",
      "\n",
      "          0       0.62      0.06      0.11      4961\n",
      "          1       0.84      0.99      0.91     25039\n",
      "\n",
      "avg / total       0.81      0.84      0.78     30000\n",
      "\n"
     ]
    }
   ],
   "source": [
    "print(classification_report(test_review,prediction))"
   ]
  },
  {
   "cell_type": "code",
   "execution_count": 31,
   "metadata": {},
   "outputs": [
    {
     "name": "stdout",
     "output_type": "stream",
     "text": [
      "[[  313  4648]\n",
      " [  193 24846]]\n"
     ]
    }
   ],
   "source": [
    "confu_metric=confusion_matrix(test_review,prediction)\n",
    "print(confu_metric)"
   ]
  },
  {
   "cell_type": "code",
   "execution_count": 32,
   "metadata": {},
   "outputs": [
    {
     "data": {
      "text/plain": [
       "<matplotlib.axes._subplots.AxesSubplot at 0x1d449c06be0>"
      ]
     },
     "execution_count": 32,
     "metadata": {},
     "output_type": "execute_result"
    },
    {
     "data": {
      "image/png": "[encoded data removed]",
      "text/plain": [
       "<matplotlib.figure.Figure at 0x1d447a51978>"
      ]
     },
     "metadata": {},
     "output_type": "display_data"
    }
   ],
   "source": [
    "sns.heatmap(confu_metric,annot=True,fmt='.1f',annot_kws={\"size\": 16},cmap='RdBu_r')"
   ]
  },
  {
   "cell_type": "markdown",
   "metadata": {},
   "source": [
    "# Test and Train Metric"
   ]
  },
  {
   "cell_type": "code",
   "execution_count": 33,
   "metadata": {
    "collapsed": true
   },
   "outputs": [],
   "source": [
    "TP=confu_metric[1][1]\n",
    "FP=confu_metric[0][1]\n",
    "TN=confu_metric[0][0]\n",
    "FN=confu_metric[1][0]"
   ]
  },
  {
   "cell_type": "code",
   "execution_count": 34,
   "metadata": {},
   "outputs": [
    {
     "name": "stdout",
     "output_type": "stream",
     "text": [
      "TPR:  0.992292024442\n",
      "FPR:  0.936907881476\n",
      "Specificity:  0.0630921185245\n",
      "Precision:  0.842408625483\n",
      "Recall:  0.992292024442\n",
      "F1Score:  0.911228063741\n"
     ]
    }
   ],
   "source": [
    "True_positive_rate=TP/(TP+FN) #It tells us when it is actually a Positive Review , How often does it predict Postive Review\n",
    "print('TPR: ',True_positive_rate)\n",
    "\n",
    "false_positive_rate=FP/(FP+TN) # It tells us that when the review is negative how often does it predict Positive Review\n",
    "print('FPR: ',false_positive_rate)\n",
    "\n",
    "specificity=TN/(TN+FP) #It tells us that When the review is negative ,how often does it predict negative review\n",
    "print('Specificity: ',specificity)\n",
    "\n",
    "precision=TP/(TP+FP) # It tells us all the reviews that model has predicted to be Positive how many are truly positive \n",
    "print('Precision: ',precision)\n",
    "\n",
    "recall=TP/(TP+FN) # It tells us that from all the predicted postive reviews how many are actually postive review\n",
    "print('Recall: ',recall)\n",
    "\n",
    "f1_score=2*precision*recall/(precision+recall) #It is the weighted average of the Precision and Recall\n",
    "print('F1Score: ',f1_score)"
   ]
  },
  {
   "cell_type": "code",
   "execution_count": 35,
   "metadata": {},
   "outputs": [
    {
     "data": {
      "image/png": "[encoded data removed]",
      "text/plain": [
       "<matplotlib.figure.Figure at 0x1d449b1f898>"
      ]
     },
     "metadata": {},
     "output_type": "display_data"
    }
   ],
   "source": [
    "from sklearn.metrics import roc_curve,auc\n",
    "fpr,tpr,thresholds=roc_curve(test_review,prediction)\n",
    "roc_auc=auc(fpr,tpr)\n",
    "plt.title('Receiver Operating Characteristic')\n",
    "plt.plot(fpr,tpr, 'b',label='AUC = %0.2f'% roc_auc)\n",
    "plt.legend(loc='lower right')\n",
    "plt.plot([0,1],[0,1],'y--')\n",
    "plt.xlim([-0.1,1.2])\n",
    "plt.ylim([-0.1,1.2])\n",
    "plt.ylabel('True Positive Rate')\n",
    "plt.xlabel('False Positive Rate')\n",
    "plt.show()"
   ]
  },
  {
   "cell_type": "markdown",
   "metadata": {
    "collapsed": true
   },
   "source": [
    "# Summary/conclusion"
   ]
  },
  {
   "cell_type": "markdown",
   "metadata": {
    "collapsed": true
   },
   "source": [
    "1.I have preprocessed and cleaned  the whole dataset and store in Amazon.csv file for the further use. That CSV contains all the data. \n",
    "2. Now We have cleaned data , So I have sorted the Whole data on the basic of the TimeStamp\n",
    "3. Now I have splitted my whole Dataset into Training,Cross validation and Test datasets for My ML\n",
    "4. I have taken the 70K sample from the Training purpose and 30K Sample for Testing purpose and another 30K for cross validation\n",
    "5. Its time to convert our text into vectors . I have used word2vec to convert my text reviews into Vectors . \n",
    "   I have converted the Training Sample, Test sample individually\n",
    "\n",
    "7. First I have used cross validation technique to find the best depth for my decision tree \n",
    "8. I have plot the curve between MSE and No. of depth\n",
    "9. I have applied DecisionTreeClassifier() using best depth. \n",
    "10. I have predicted and evaluated the test data using classificationreport and confusion matrix\n",
    "11. I have also found different test and train metric and on the basic of that I have drawn Roc cuve \n",
    "\n",
    "    "
   ]
  },
  {
   "cell_type": "markdown",
   "metadata": {},
   "source": [
    "# Result comparision Between Word2Vec and Weightted tfidf,BOW and Tfidf"
   ]
  },
  {
   "cell_type": "code",
   "execution_count": 1,
   "metadata": {
    "collapsed": true
   },
   "outputs": [],
   "source": [
    "data={'Word2Vec':[0.8424,0.99,0.911,0.53,0.9922,0.9369,0.063],'Weighted tfidf':[0.8312,0.99,0.904,0.51,0.99,0.98,0.01],'Bow':[0.8582,1,0.9237,0.50,1,1,0.0],'Tfidf':[0.8582,1,0.9237,0.50,1,1,0.0]}"
   ]
  },
  {
   "cell_type": "code",
   "execution_count": 4,
   "metadata": {},
   "outputs": [
    {
     "data": {
      "text/html": [
       "<div>\n",
       "<style>\n",
       "    .dataframe thead tr:only-child th {\n",
       "        text-align: right;\n",
       "    }\n",
       "\n",
       "    .dataframe thead th {\n",
       "        text-align: left;\n",
       "    }\n",
       "\n",
       "    .dataframe tbody tr th {\n",
       "        vertical-align: top;\n",
       "    }\n",
       "</style>\n",
       "<table border=\"1\" class=\"dataframe\">\n",
       "  <thead>\n",
       "    <tr style=\"text-align: right;\">\n",
       "      <th></th>\n",
       "      <th>Bow</th>\n",
       "      <th>Tfidf</th>\n",
       "      <th>Weighted tfidf</th>\n",
       "      <th>Word2Vec</th>\n",
       "    </tr>\n",
       "  </thead>\n",
       "  <tbody>\n",
       "    <tr>\n",
       "      <th>Precision</th>\n",
       "      <td>0.8582</td>\n",
       "      <td>0.8582</td>\n",
       "      <td>0.8312</td>\n",
       "      <td>0.8424</td>\n",
       "    </tr>\n",
       "    <tr>\n",
       "      <th>Recall</th>\n",
       "      <td>1.0000</td>\n",
       "      <td>1.0000</td>\n",
       "      <td>0.9900</td>\n",
       "      <td>0.9900</td>\n",
       "    </tr>\n",
       "    <tr>\n",
       "      <th>F1Score</th>\n",
       "      <td>0.9237</td>\n",
       "      <td>0.9237</td>\n",
       "      <td>0.9040</td>\n",
       "      <td>0.9110</td>\n",
       "    </tr>\n",
       "    <tr>\n",
       "      <th>ROC</th>\n",
       "      <td>0.5000</td>\n",
       "      <td>0.5000</td>\n",
       "      <td>0.5100</td>\n",
       "      <td>0.5300</td>\n",
       "    </tr>\n",
       "    <tr>\n",
       "      <th>TPR</th>\n",
       "      <td>1.0000</td>\n",
       "      <td>1.0000</td>\n",
       "      <td>0.9900</td>\n",
       "      <td>0.9922</td>\n",
       "    </tr>\n",
       "    <tr>\n",
       "      <th>FPR</th>\n",
       "      <td>1.0000</td>\n",
       "      <td>1.0000</td>\n",
       "      <td>0.9800</td>\n",
       "      <td>0.9369</td>\n",
       "    </tr>\n",
       "    <tr>\n",
       "      <th>Specificty</th>\n",
       "      <td>0.0000</td>\n",
       "      <td>0.0000</td>\n",
       "      <td>0.0100</td>\n",
       "      <td>0.0630</td>\n",
       "    </tr>\n",
       "  </tbody>\n",
       "</table>\n",
       "</div>"
      ],
      "text/plain": [
       "               Bow   Tfidf  Weighted tfidf  Word2Vec\n",
       "Precision   0.8582  0.8582          0.8312    0.8424\n",
       "Recall      1.0000  1.0000          0.9900    0.9900\n",
       "F1Score     0.9237  0.9237          0.9040    0.9110\n",
       "ROC         0.5000  0.5000          0.5100    0.5300\n",
       "TPR         1.0000  1.0000          0.9900    0.9922\n",
       "FPR         1.0000  1.0000          0.9800    0.9369\n",
       "Specificty  0.0000  0.0000          0.0100    0.0630"
      ]
     },
     "execution_count": 4,
     "metadata": {},
     "output_type": "execute_result"
    }
   ],
   "source": [
    "pd.DataFrame(data,index=['Precision','Recall','F1Score','ROC','TPR','FPR','Specificty'])"
   ]
  },
  {
   "cell_type": "code",
   "execution_count": null,
   "metadata": {
    "collapsed": true
   },
   "outputs": [],
   "source": []
  }
 ],
 "metadata": {
  "kernelspec": {
   "display_name": "Python 3",
   "language": "python",
   "name": "python3"
  },
  "language_info": {
   "codemirror_mode": {
    "name": "ipython",
    "version": 3
   },
   "file_extension": ".py",
   "mimetype": "text/x-python",
   "name": "python",
   "nbconvert_exporter": "python",
   "pygments_lexer": "ipython3",
   "version": "3.6.6"
  }
 },
 "nbformat": 4,
 "nbformat_minor": 2
}
