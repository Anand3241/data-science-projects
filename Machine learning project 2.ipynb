{
 "cells": [
  {
   "cell_type": "code",
   "execution_count": 1,
   "metadata": {},
   "outputs": [],
   "source": [
    "import numpy as np\n",
    "import pandas as pd\n",
    "import seaborn as sns\n",
    "import matplotlib.pyplot as plt\n",
    "%matplotlib inline"
   ]
  },
  {
   "cell_type": "code",
   "execution_count": 2,
   "metadata": {
    "collapsed": true
   },
   "outputs": [],
   "source": [
    "df=pd.read_csv('2017_german_election_overall.csv')"
   ]
  },
  {
   "cell_type": "code",
   "execution_count": 3,
   "metadata": {},
   "outputs": [
    {
     "data": {
      "text/plain": [
       "<bound method DataFrame.info of      Unnamed: 0  area_id                                         area_names  \\\n",
       "0             1        1                              Flensburg – Schleswig   \n",
       "1             2        2                  Nordfriesland – Dithmarschen Nord   \n",
       "2             3        3                       Steinburg – Dithmarschen Süd   \n",
       "3             4        4                              Rendsburg-Eckernförde   \n",
       "4             5        5                                               Kiel   \n",
       "5             6        6                                  Plön – Neumünster   \n",
       "6             7        7                                          Pinneberg   \n",
       "7             8        8                          Segeberg – Stormarn-Mitte   \n",
       "8             9        9                        Ostholstein – Stormarn-Nord   \n",
       "9            10       10                 Herzogtum Lauenburg – Stormarn-Süd   \n",
       "10           11       11                                             Lübeck   \n",
       "11           12       12  Schwerin – Ludwigslust-Parchim I – Nordwestmec...   \n",
       "12           13       13  Ludwigslust-Parchim II – Nordwestmecklenburg I...   \n",
       "13           14       14                     Rostock – Landkreis Rostock II   \n",
       "14           15       15         Vorpommern-Rügen – Vorpommern-Greifswald I   \n",
       "15           16       16  Mecklenburgische Seenplatte I – Vorpommern-Gre...   \n",
       "16           17       17  Mecklenburgische Seenplatte II – Landkreis Ros...   \n",
       "17           18       18                                      Hamburg-Mitte   \n",
       "18           19       19                                     Hamburg-Altona   \n",
       "19           20       20                                 Hamburg-Eimsbüttel   \n",
       "20           21       21                                       Hamburg-Nord   \n",
       "21           22       22                                   Hamburg-Wandsbek   \n",
       "22           23       23                        Hamburg-Bergedorf – Harburg   \n",
       "23           24       24                                     Aurich – Emden   \n",
       "24           25       25                                           Unterems   \n",
       "25           26       26               Friesland – Wilhelmshaven – Wittmund   \n",
       "26           27       27                              Oldenburg – Ammerland   \n",
       "27           28       28         Delmenhorst – Wesermarsch – Oldenburg-Land   \n",
       "28           29       29                                Cuxhaven – Stade II   \n",
       "29           30       30                             Stade I – Rotenburg II   \n",
       "..          ...      ...                                                ...   \n",
       "269         270      270                                 Aalen – Heidenheim   \n",
       "270         271      271                                    Karlsruhe-Stadt   \n",
       "271         272      272                                     Karlsruhe-Land   \n",
       "272         273      273                                            Rastatt   \n",
       "273         274      274                                         Heidelberg   \n",
       "274         275      275                                           Mannheim   \n",
       "275         276      276                                  Odenwald – Tauber   \n",
       "276         277      277                                       Rhein-Neckar   \n",
       "277         278      278                            Bruchsal – Schwetzingen   \n",
       "278         279      279                                          Pforzheim   \n",
       "279         280      280                                               Calw   \n",
       "280         281      281                                           Freiburg   \n",
       "281         282      282                                 Lörrach – Müllheim   \n",
       "282         283      283                                 Emmendingen – Lahr   \n",
       "283         284      284                                          Offenburg   \n",
       "284         285      285                              Rottweil – Tuttlingen   \n",
       "285         286      286                                   Schwarzwald-Baar   \n",
       "286         287      287                                           Konstanz   \n",
       "287         288      288                                           Waldshut   \n",
       "288         289      289                                         Reutlingen   \n",
       "289         290      290                                           Tübingen   \n",
       "290         291      291                                                Ulm   \n",
       "291         292      292                                           Biberach   \n",
       "292         293      293                                           Bodensee   \n",
       "293         294      294                                         Ravensburg   \n",
       "294         295      295                           Zollernalb – Sigmaringen   \n",
       "295         296      296                                        Saarbrücken   \n",
       "296         297      297                                          Saarlouis   \n",
       "297         298      298                                         St. Wendel   \n",
       "298         299      299                                            Homburg   \n",
       "\n",
       "                      state  registered.voters  total_votes  \\\n",
       "0        Schleswig-Holstein             225659       171905   \n",
       "1        Schleswig-Holstein             186384       139200   \n",
       "2        Schleswig-Holstein             175950       132016   \n",
       "3        Schleswig-Holstein             199632       157387   \n",
       "4        Schleswig-Holstein             204650       151463   \n",
       "5        Schleswig-Holstein             174934       131710   \n",
       "6        Schleswig-Holstein             237474       187711   \n",
       "7        Schleswig-Holstein             245826       193318   \n",
       "8        Schleswig-Holstein             181480       138415   \n",
       "9        Schleswig-Holstein             244503       193359   \n",
       "10       Schleswig-Holstein             181637       130976   \n",
       "11   Mecklenburg-Vorpommern             216743       157070   \n",
       "12   Mecklenburg-Vorpommern             205757       146781   \n",
       "13   Mecklenburg-Vorpommern             222718       164037   \n",
       "14   Mecklenburg-Vorpommern             240887       169526   \n",
       "15   Mecklenburg-Vorpommern             225843       156966   \n",
       "16   Mecklenburg-Vorpommern             212051       144268   \n",
       "17                  Hamburg             243510       175800   \n",
       "18                  Hamburg             185942       146025   \n",
       "19                  Hamburg             192399       156001   \n",
       "20                  Hamburg             217226       178302   \n",
       "21                  Hamburg             235513       172545   \n",
       "22                  Hamburg             222034       155709   \n",
       "23            Niedersachsen             191560       142670   \n",
       "24            Niedersachsen             235233       176342   \n",
       "25            Niedersachsen             189344       139150   \n",
       "26            Niedersachsen             226253       175971   \n",
       "27            Niedersachsen             227695       170211   \n",
       "28            Niedersachsen             187679       141748   \n",
       "29            Niedersachsen             197298       152485   \n",
       "..                      ...                ...          ...   \n",
       "269       Baden-Württemberg             221916       170201   \n",
       "270       Baden-Württemberg             208868       161955   \n",
       "271       Baden-Württemberg             209741       168894   \n",
       "272       Baden-Württemberg             206651       157231   \n",
       "273       Baden-Württemberg             217934       179138   \n",
       "274       Baden-Württemberg             197283       144071   \n",
       "275       Baden-Württemberg             211065       163339   \n",
       "276       Baden-Württemberg             197972       156418   \n",
       "277       Baden-Württemberg             196426       154621   \n",
       "278       Baden-Württemberg             219577       167982   \n",
       "279       Baden-Württemberg             198020       153488   \n",
       "280       Baden-Württemberg             222308       180872   \n",
       "281       Baden-Württemberg             231734       177483   \n",
       "282       Baden-Württemberg             218613       168475   \n",
       "283       Baden-Württemberg             205551       155717   \n",
       "284       Baden-Württemberg             199227       152006   \n",
       "285       Baden-Württemberg             165041       125344   \n",
       "286       Baden-Württemberg             205618       158733   \n",
       "287       Baden-Württemberg             177805       136590   \n",
       "288       Baden-Württemberg             199932       157646   \n",
       "289       Baden-Württemberg             196487       159803   \n",
       "290       Baden-Württemberg             222673       177454   \n",
       "291       Baden-Württemberg             167025       131713   \n",
       "292       Baden-Württemberg             172783       137152   \n",
       "293       Baden-Württemberg             186901       146174   \n",
       "294       Baden-Württemberg             183202       139544   \n",
       "295                Saarland             199887       147602   \n",
       "296                Saarland             207500       160371   \n",
       "297                Saarland             177468       141378   \n",
       "298                Saarland             192408       145990   \n",
       "\n",
       "     invalid_first_votes  invalid_second_votes  valid_first_votes  \\\n",
       "0                   1647                  1509             170258   \n",
       "1                   1299                  1125             137901   \n",
       "2                   1133                  1141             130883   \n",
       "3                   1285                  1119             156102   \n",
       "4                   1657                  1290             149806   \n",
       "5                   1221                  1196             130489   \n",
       "6                   1616                  1339             186095   \n",
       "7                   1628                  1381             191690   \n",
       "8                   1151                  1142             137264   \n",
       "9                   1597                  1388             191762   \n",
       "10                  2217                  1171             128759   \n",
       "11                  1967                  1658             155103   \n",
       "12                  1945                  1673             144836   \n",
       "13                  1799                  1731             162238   \n",
       "14                  1866                  2115             167660   \n",
       "15                  2335                  2159             154631   \n",
       "16                  1859                  1791             142409   \n",
       "17                  2139                  1460             173661   \n",
       "18                  1200                   949             144825   \n",
       "19                  1315                   860             154686   \n",
       "20                  1398                   899             176904   \n",
       "21                  1824                  1389             170721   \n",
       "22                  2003                  1555             153706   \n",
       "23                  3199                  1633             139471   \n",
       "24                  1555                  1389             174787   \n",
       "25                  1812                  1565             137338   \n",
       "26                  1812                  1303             174159   \n",
       "27                  1983                  1393             168228   \n",
       "28                  1458                  1032             140290   \n",
       "29                  1191                   846             151294   \n",
       "..                   ...                   ...                ...   \n",
       "269                 2618                  1991             167583   \n",
       "270                 1645                  1265             160310   \n",
       "271                 2059                  1678             166835   \n",
       "272                 2357                  1996             154874   \n",
       "273                 1570                  1306             177568   \n",
       "274                 1500                  1350             142571   \n",
       "275                 2128                  2125             161211   \n",
       "276                 2014                  1766             154404   \n",
       "277                 2264                  1927             152357   \n",
       "278                 2011                  1910             165971   \n",
       "279                 1771                  1888             151717   \n",
       "280                 1515                  1354             179357   \n",
       "281                 2040                  1792             175443   \n",
       "282                 2116                  2032             166359   \n",
       "283                 2122                  2082             153595   \n",
       "284                 1985                  1958             150021   \n",
       "285                 1666                  1618             123678   \n",
       "286                 1760                  1476             156973   \n",
       "287                 1539                  1462             135051   \n",
       "288                 1843                  1580             155803   \n",
       "289                 1627                  1396             158176   \n",
       "290                 2022                  1612             175432   \n",
       "291                 1635                  1441             130078   \n",
       "292                 1361                  1218             135791   \n",
       "293                 1524                  1389             144650   \n",
       "294                 2354                  1818             137190   \n",
       "295                 2304                  2171             145298   \n",
       "296                 2422                  2831             157949   \n",
       "297                 2620                  2668             138758   \n",
       "298                 2668                  2467             143322   \n",
       "\n",
       "     valid_second_votes  \n",
       "0                170396  \n",
       "1                138075  \n",
       "2                130875  \n",
       "3                156268  \n",
       "4                150173  \n",
       "5                130514  \n",
       "6                186372  \n",
       "7                191937  \n",
       "8                137273  \n",
       "9                191971  \n",
       "10               129805  \n",
       "11               155412  \n",
       "12               145108  \n",
       "13               162306  \n",
       "14               167411  \n",
       "15               154807  \n",
       "16               142477  \n",
       "17               174340  \n",
       "18               145076  \n",
       "19               155141  \n",
       "20               177403  \n",
       "21               171156  \n",
       "22               154154  \n",
       "23               141037  \n",
       "24               174953  \n",
       "25               137585  \n",
       "26               174668  \n",
       "27               168818  \n",
       "28               140716  \n",
       "29               151639  \n",
       "..                  ...  \n",
       "269              168210  \n",
       "270              160690  \n",
       "271              167216  \n",
       "272              155235  \n",
       "273              177832  \n",
       "274              142721  \n",
       "275              161214  \n",
       "276              154652  \n",
       "277              152694  \n",
       "278              166072  \n",
       "279              151600  \n",
       "280              179518  \n",
       "281              175691  \n",
       "282              166443  \n",
       "283              153635  \n",
       "284              150048  \n",
       "285              123726  \n",
       "286              157257  \n",
       "287              135128  \n",
       "288              156066  \n",
       "289              158407  \n",
       "290              175842  \n",
       "291              130272  \n",
       "292              135934  \n",
       "293              144785  \n",
       "294              137726  \n",
       "295              145431  \n",
       "296              157540  \n",
       "297              138710  \n",
       "298              143523  \n",
       "\n",
       "[299 rows x 10 columns]>"
      ]
     },
     "execution_count": 3,
     "metadata": {},
     "output_type": "execute_result"
    }
   ],
   "source": [
    "df.info"
   ]
  },
  {
   "cell_type": "code",
   "execution_count": 4,
   "metadata": {},
   "outputs": [
    {
     "data": {
      "text/html": [
       "<div>\n",
       "<style>\n",
       "    .dataframe thead tr:only-child th {\n",
       "        text-align: right;\n",
       "    }\n",
       "\n",
       "    .dataframe thead th {\n",
       "        text-align: left;\n",
       "    }\n",
       "\n",
       "    .dataframe tbody tr th {\n",
       "        vertical-align: top;\n",
       "    }\n",
       "</style>\n",
       "<table border=\"1\" class=\"dataframe\">\n",
       "  <thead>\n",
       "    <tr style=\"text-align: right;\">\n",
       "      <th></th>\n",
       "      <th>Unnamed: 0</th>\n",
       "      <th>area_id</th>\n",
       "      <th>area_names</th>\n",
       "      <th>state</th>\n",
       "      <th>registered.voters</th>\n",
       "      <th>total_votes</th>\n",
       "      <th>invalid_first_votes</th>\n",
       "      <th>invalid_second_votes</th>\n",
       "      <th>valid_first_votes</th>\n",
       "      <th>valid_second_votes</th>\n",
       "    </tr>\n",
       "  </thead>\n",
       "  <tbody>\n",
       "    <tr>\n",
       "      <th>0</th>\n",
       "      <td>1</td>\n",
       "      <td>1</td>\n",
       "      <td>Flensburg – Schleswig</td>\n",
       "      <td>Schleswig-Holstein</td>\n",
       "      <td>225659</td>\n",
       "      <td>171905</td>\n",
       "      <td>1647</td>\n",
       "      <td>1509</td>\n",
       "      <td>170258</td>\n",
       "      <td>170396</td>\n",
       "    </tr>\n",
       "    <tr>\n",
       "      <th>1</th>\n",
       "      <td>2</td>\n",
       "      <td>2</td>\n",
       "      <td>Nordfriesland – Dithmarschen Nord</td>\n",
       "      <td>Schleswig-Holstein</td>\n",
       "      <td>186384</td>\n",
       "      <td>139200</td>\n",
       "      <td>1299</td>\n",
       "      <td>1125</td>\n",
       "      <td>137901</td>\n",
       "      <td>138075</td>\n",
       "    </tr>\n",
       "    <tr>\n",
       "      <th>2</th>\n",
       "      <td>3</td>\n",
       "      <td>3</td>\n",
       "      <td>Steinburg – Dithmarschen Süd</td>\n",
       "      <td>Schleswig-Holstein</td>\n",
       "      <td>175950</td>\n",
       "      <td>132016</td>\n",
       "      <td>1133</td>\n",
       "      <td>1141</td>\n",
       "      <td>130883</td>\n",
       "      <td>130875</td>\n",
       "    </tr>\n",
       "    <tr>\n",
       "      <th>3</th>\n",
       "      <td>4</td>\n",
       "      <td>4</td>\n",
       "      <td>Rendsburg-Eckernförde</td>\n",
       "      <td>Schleswig-Holstein</td>\n",
       "      <td>199632</td>\n",
       "      <td>157387</td>\n",
       "      <td>1285</td>\n",
       "      <td>1119</td>\n",
       "      <td>156102</td>\n",
       "      <td>156268</td>\n",
       "    </tr>\n",
       "    <tr>\n",
       "      <th>4</th>\n",
       "      <td>5</td>\n",
       "      <td>5</td>\n",
       "      <td>Kiel</td>\n",
       "      <td>Schleswig-Holstein</td>\n",
       "      <td>204650</td>\n",
       "      <td>151463</td>\n",
       "      <td>1657</td>\n",
       "      <td>1290</td>\n",
       "      <td>149806</td>\n",
       "      <td>150173</td>\n",
       "    </tr>\n",
       "  </tbody>\n",
       "</table>\n",
       "</div>"
      ],
      "text/plain": [
       "   Unnamed: 0  area_id                         area_names               state  \\\n",
       "0           1        1              Flensburg – Schleswig  Schleswig-Holstein   \n",
       "1           2        2  Nordfriesland – Dithmarschen Nord  Schleswig-Holstein   \n",
       "2           3        3       Steinburg – Dithmarschen Süd  Schleswig-Holstein   \n",
       "3           4        4              Rendsburg-Eckernförde  Schleswig-Holstein   \n",
       "4           5        5                               Kiel  Schleswig-Holstein   \n",
       "\n",
       "   registered.voters  total_votes  invalid_first_votes  invalid_second_votes  \\\n",
       "0             225659       171905                 1647                  1509   \n",
       "1             186384       139200                 1299                  1125   \n",
       "2             175950       132016                 1133                  1141   \n",
       "3             199632       157387                 1285                  1119   \n",
       "4             204650       151463                 1657                  1290   \n",
       "\n",
       "   valid_first_votes  valid_second_votes  \n",
       "0             170258              170396  \n",
       "1             137901              138075  \n",
       "2             130883              130875  \n",
       "3             156102              156268  \n",
       "4             149806              150173  "
      ]
     },
     "execution_count": 4,
     "metadata": {},
     "output_type": "execute_result"
    }
   ],
   "source": [
    "df.head()"
   ]
  },
  {
   "cell_type": "code",
   "execution_count": 5,
   "metadata": {},
   "outputs": [
    {
     "data": {
      "text/plain": [
       "<matplotlib.collections.PathCollection at 0x20535f3fd68>"
      ]
     },
     "execution_count": 5,
     "metadata": {},
     "output_type": "execute_result"
    },
    {
     "data": {
      "image/png": "[encoded data removed]",
      "text/plain": [
       "<matplotlib.figure.Figure at 0x20535d78ef0>"
      ]
     },
     "metadata": {},
     "output_type": "display_data"
    }
   ],
   "source": [
    "plt.scatter(x='registered.voters',y='total_votes',data=df)"
   ]
  },
  {
   "cell_type": "code",
   "execution_count": 6,
   "metadata": {},
   "outputs": [
    {
     "data": {
      "text/plain": [
       "<seaborn.axisgrid.JointGrid at 0x20535dea4e0>"
      ]
     },
     "execution_count": 6,
     "metadata": {},
     "output_type": "execute_result"
    },
    {
     "data": {
      "image/png": "[encoded data removed]",
      "text/plain": [
       "<matplotlib.figure.Figure at 0x20535dea860>"
      ]
     },
     "metadata": {},
     "output_type": "display_data"
    }
   ],
   "source": [
    "sns.jointplot(x='registered.voters',y='total_votes',data=df)"
   ]
  },
  {
   "cell_type": "code",
   "execution_count": 7,
   "metadata": {
    "collapsed": true
   },
   "outputs": [],
   "source": [
    "#split the data into traning and test data"
   ]
  },
  {
   "cell_type": "code",
   "execution_count": 132,
   "metadata": {},
   "outputs": [],
   "source": [
    "y=df[['registered.voters']]\n"
   ]
  },
  {
   "cell_type": "code",
   "execution_count": 133,
   "metadata": {},
   "outputs": [],
   "source": [
    "x=df[['total_votes']]\n"
   ]
  },
  {
   "cell_type": "code",
   "execution_count": 134,
   "metadata": {
    "collapsed": true
   },
   "outputs": [],
   "source": [
    "from sklearn.model_selection import train_test_split"
   ]
  },
  {
   "cell_type": "code",
   "execution_count": 135,
   "metadata": {},
   "outputs": [],
   "source": [
    "x_test,x_train,y_test,y_train = train_test_split(x,y,test_size=0.3,random_state=101)"
   ]
  },
  {
   "cell_type": "code",
   "execution_count": 136,
   "metadata": {},
   "outputs": [],
   "source": [
    "from sklearn.linear_model import LinearRegression"
   ]
  },
  {
   "cell_type": "code",
   "execution_count": 143,
   "metadata": {
    "collapsed": true
   },
   "outputs": [],
   "source": [
    "lr=LinearRegression()"
   ]
  },
  {
   "cell_type": "code",
   "execution_count": 144,
   "metadata": {},
   "outputs": [
    {
     "data": {
      "text/plain": [
       "LinearRegression(copy_X=True, fit_intercept=True, n_jobs=1, normalize=False)"
      ]
     },
     "execution_count": 144,
     "metadata": {},
     "output_type": "execute_result"
    }
   ],
   "source": [
    "lr.fit(x_train,y_train)\n"
   ]
  },
  {
   "cell_type": "code",
   "execution_count": 145,
   "metadata": {},
   "outputs": [
    {
     "data": {
      "text/plain": [
       "<seaborn.axisgrid.FacetGrid at 0x20538d8e9b0>"
      ]
     },
     "execution_count": 145,
     "metadata": {},
     "output_type": "execute_result"
    },
    {
     "data": {
      "image/png": "[encoded data removed]",
      "text/plain": [
       "<matplotlib.figure.Figure at 0x20538d8e1d0>"
      ]
     },
     "metadata": {},
     "output_type": "display_data"
    }
   ],
   "source": [
    "sns.lmplot(x='registered.voters',y='total_votes',data=df)"
   ]
  },
  {
   "cell_type": "code",
   "execution_count": 146,
   "metadata": {},
   "outputs": [
    {
     "data": {
      "text/plain": [
       "array([[ 1.05972414]])"
      ]
     },
     "execution_count": 146,
     "metadata": {},
     "output_type": "execute_result"
    }
   ],
   "source": [
    "lr.coef_"
   ]
  },
  {
   "cell_type": "code",
   "execution_count": 147,
   "metadata": {},
   "outputs": [],
   "source": [
    "prediction=lr.predict(x_test)"
   ]
  },
  {
   "cell_type": "code",
   "execution_count": 148,
   "metadata": {},
   "outputs": [
    {
     "data": {
      "text/plain": [
       "<matplotlib.collections.PathCollection at 0x20538e31fd0>"
      ]
     },
     "execution_count": 148,
     "metadata": {},
     "output_type": "execute_result"
    },
    {
     "data": {
      "image/png": "[encoded data removed]",
      "text/plain": [
       "<matplotlib.figure.Figure at 0x20538dde710>"
      ]
     },
     "metadata": {},
     "output_type": "display_data"
    }
   ],
   "source": [
    "plt.scatter(y_test,prediction)"
   ]
  },
  {
   "cell_type": "code",
   "execution_count": 149,
   "metadata": {},
   "outputs": [
    {
     "data": {
      "text/plain": [
       "array([ 39458.99251443])"
      ]
     },
     "execution_count": 149,
     "metadata": {},
     "output_type": "execute_result"
    }
   ],
   "source": [
    "lr.intercept_"
   ]
  },
  {
   "cell_type": "code",
   "execution_count": 150,
   "metadata": {},
   "outputs": [],
   "source": [
    "x_mean=x.mean()"
   ]
  },
  {
   "cell_type": "code",
   "execution_count": 151,
   "metadata": {},
   "outputs": [],
   "source": [
    "y_mean=y.mean()"
   ]
  },
  {
   "cell_type": "code",
   "execution_count": 152,
   "metadata": {},
   "outputs": [
    {
     "data": {
      "text/html": [
       "<div>\n",
       "<style>\n",
       "    .dataframe thead tr:only-child th {\n",
       "        text-align: right;\n",
       "    }\n",
       "\n",
       "    .dataframe thead th {\n",
       "        text-align: left;\n",
       "    }\n",
       "\n",
       "    .dataframe tbody tr th {\n",
       "        vertical-align: top;\n",
       "    }\n",
       "</style>\n",
       "<table border=\"1\" class=\"dataframe\">\n",
       "  <thead>\n",
       "    <tr style=\"text-align: right;\">\n",
       "      <th></th>\n",
       "      <th>total_votes</th>\n",
       "    </tr>\n",
       "  </thead>\n",
       "  <tbody>\n",
       "    <tr>\n",
       "      <th>0</th>\n",
       "      <td>171905</td>\n",
       "    </tr>\n",
       "    <tr>\n",
       "      <th>1</th>\n",
       "      <td>139200</td>\n",
       "    </tr>\n",
       "  </tbody>\n",
       "</table>\n",
       "</div>"
      ],
      "text/plain": [
       "   total_votes\n",
       "0       171905\n",
       "1       139200"
      ]
     },
     "execution_count": 152,
     "metadata": {},
     "output_type": "execute_result"
    }
   ],
   "source": [
    "x[0:2]"
   ]
  },
  {
   "cell_type": "code",
   "execution_count": 153,
   "metadata": {},
   "outputs": [
    {
     "name": "stdout",
     "output_type": "stream",
     "text": [
      "<bound method Series.sum of total_votes   -11113.006689\n",
      "dtype: float64>\n"
     ]
    }
   ],
   "source": [
    "for i in np.nditer(x):\n",
    "    x_res=i-x_mean\n",
    "    x_sum=x_res.sum\n",
    "    \n",
    "print(x_sum)\n",
    "   "
   ]
  },
  {
   "cell_type": "code",
   "execution_count": 154,
   "metadata": {},
   "outputs": [
    {
     "name": "stdout",
     "output_type": "stream",
     "text": [
      "<bound method Series.sum of registered.voters   -13864.672241\n",
      "dtype: float64>\n"
     ]
    }
   ],
   "source": [
    "for j in np.nditer(y):\n",
    "    y_res=j-y_mean\n",
    "    y_sum=y_res.sum\n",
    "    \n",
    "print(y_sum)"
   ]
  },
  {
   "cell_type": "code",
   "execution_count": 126,
   "metadata": {},
   "outputs": [
    {
     "name": "stdout",
     "output_type": "stream",
     "text": [
      "<built-in method sum of numpy.float64 object at 0x0000020537C484E0>\n"
     ]
    }
   ],
   "source": [
    "print(y_sum)"
   ]
  },
  {
   "cell_type": "code",
   "execution_count": 155,
   "metadata": {},
   "outputs": [
    {
     "data": {
      "text/plain": [
       "registered.voters    206272.672241\n",
       "dtype: float64"
      ]
     },
     "execution_count": 155,
     "metadata": {},
     "output_type": "execute_result"
    }
   ],
   "source": [
    "y_mean"
   ]
  },
  {
   "cell_type": "code",
   "execution_count": 158,
   "metadata": {},
   "outputs": [],
   "source": [
    "numerator=int(11113)*int(13864)"
   ]
  },
  {
   "cell_type": "code",
   "execution_count": 159,
   "metadata": {},
   "outputs": [
    {
     "data": {
      "text/plain": [
       "154070632"
      ]
     },
     "execution_count": 159,
     "metadata": {},
     "output_type": "execute_result"
    }
   ],
   "source": [
    "numerator"
   ]
  },
  {
   "cell_type": "code",
   "execution_count": 176,
   "metadata": {},
   "outputs": [
    {
     "name": "stdout",
     "output_type": "stream",
     "text": [
      "<bound method Series.sum of total_votes    1.234989e+08\n",
      "dtype: float64>\n"
     ]
    }
   ],
   "source": [
    "for i in np.nditer(x):\n",
    "    x_res=(i-x_mean)**2\n",
    "    x1_sum=x_res.sum\n",
    "    \n",
    "print(x1_sum)"
   ]
  },
  {
   "cell_type": "code",
   "execution_count": 161,
   "metadata": {
    "collapsed": true
   },
   "outputs": [],
   "source": [
    "import math"
   ]
  },
  {
   "cell_type": "code",
   "execution_count": 167,
   "metadata": {},
   "outputs": [],
   "source": [
    "x_sqaurt=math.sqrt(1.234989e+08)"
   ]
  },
  {
   "cell_type": "code",
   "execution_count": 168,
   "metadata": {},
   "outputs": [
    {
     "data": {
      "text/plain": [
       "11113.005893996457"
      ]
     },
     "execution_count": 168,
     "metadata": {},
     "output_type": "execute_result"
    }
   ],
   "source": [
    "x_sqaurt"
   ]
  },
  {
   "cell_type": "code",
   "execution_count": 169,
   "metadata": {},
   "outputs": [
    {
     "name": "stdout",
     "output_type": "stream",
     "text": [
      "<bound method Series.sum of registered.voters    1.922291e+08\n",
      "dtype: float64>\n"
     ]
    }
   ],
   "source": [
    "for j in np.nditer(y):\n",
    "    y_res=(j-y_mean)**2\n",
    "    y1_sum=y_res.sum\n",
    "    \n",
    "print(y1_sum)"
   ]
  },
  {
   "cell_type": "code",
   "execution_count": 171,
   "metadata": {},
   "outputs": [],
   "source": [
    "y_sqart=math.sqrt(1.922291e+08)"
   ]
  },
  {
   "cell_type": "code",
   "execution_count": 172,
   "metadata": {
    "collapsed": true
   },
   "outputs": [],
   "source": [
    "deno=x_sqaurt*y_sqart"
   ]
  },
  {
   "cell_type": "code",
   "execution_count": 173,
   "metadata": {},
   "outputs": [
    {
     "data": {
      "text/plain": [
       "154078169.76453868"
      ]
     },
     "execution_count": 173,
     "metadata": {},
     "output_type": "execute_result"
    }
   ],
   "source": [
    "deno"
   ]
  },
  {
   "cell_type": "code",
   "execution_count": 174,
   "metadata": {},
   "outputs": [
    {
     "name": "stdout",
     "output_type": "stream",
     "text": [
      "0.9999510783094698\n"
     ]
    }
   ],
   "source": [
    "print(numerator/deno)"
   ]
  },
  {
   "cell_type": "code",
   "execution_count": 177,
   "metadata": {},
   "outputs": [
    {
     "data": {
      "text/plain": [
       "<bound method Series.sum of total_votes    1.234989e+08\n",
       "dtype: float64>"
      ]
     },
     "execution_count": 177,
     "metadata": {},
     "output_type": "execute_result"
    }
   ],
   "source": [
    "x1_sum"
   ]
  },
  {
   "cell_type": "code",
   "execution_count": 178,
   "metadata": {},
   "outputs": [
    {
     "name": "stdout",
     "output_type": "stream",
     "text": [
      "1.247546593532412\n"
     ]
    }
   ],
   "source": [
    "print(numerator/1.234989e+08)"
   ]
  },
  {
   "cell_type": "code",
   "execution_count": 181,
   "metadata": {},
   "outputs": [
    {
     "data": {
      "text/plain": [
       "registered.voters    206272.672241\n",
       "dtype: float64"
      ]
     },
     "execution_count": 181,
     "metadata": {},
     "output_type": "execute_result"
    }
   ],
   "source": [
    "y_mean"
   ]
  },
  {
   "cell_type": "code",
   "execution_count": 182,
   "metadata": {},
   "outputs": [
    {
     "data": {
      "text/plain": [
       "total_votes    157103.006689\n",
       "dtype: float64"
      ]
     },
     "execution_count": 182,
     "metadata": {},
     "output_type": "execute_result"
    }
   ],
   "source": [
    "x_mean"
   ]
  },
  {
   "cell_type": "code",
   "execution_count": 183,
   "metadata": {},
   "outputs": [
    {
     "name": "stdout",
     "output_type": "stream",
     "text": [
      "10279.351412438322\n"
     ]
    }
   ],
   "source": [
    "print(206272.672241-(1.247546593532412*157103.006689))"
   ]
  },
  {
   "cell_type": "code",
   "execution_count": null,
   "metadata": {
    "collapsed": true
   },
   "outputs": [],
   "source": []
  }
 ],
 "metadata": {
  "kernelspec": {
   "display_name": "Python 3",
   "language": "python",
   "name": "python3"
  },
  "language_info": {
   "codemirror_mode": {
    "name": "ipython",
    "version": 3
   },
   "file_extension": ".py",
   "mimetype": "text/x-python",
   "name": "python",
   "nbconvert_exporter": "python",
   "pygments_lexer": "ipython3",
   "version": "3.6.1"
  }
 },
 "nbformat": 4,
 "nbformat_minor": 2
}
