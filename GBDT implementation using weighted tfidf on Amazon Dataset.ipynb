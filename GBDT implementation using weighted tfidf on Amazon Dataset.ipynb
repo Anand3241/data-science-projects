{
 "cells": [
  {
   "cell_type": "code",
   "execution_count": 2,
   "metadata": {},
   "outputs": [],
   "source": [
    "import numpy as np\n",
    "import pandas as pd\n",
    "import matplotlib.pyplot as plt\n",
    "import seaborn as sns\n",
    "%matplotlib inline\n",
    "import sqlite3\n",
    "import nltk\n",
    "import string\n",
    "from sklearn.feature_extraction.text import TfidfTransformer\n",
    "from sklearn.feature_extraction.text import TfidfVectorizer\n",
    "from sklearn.feature_extraction.text import CountVectorizer\n",
    "from sklearn.metrics import confusion_matrix\n",
    "from sklearn import metrics\n",
    "from sklearn.metrics import roc_curve,auc,roc_auc_score\n",
    "from nltk.stem.porter import PorterStemmer\n",
    "from sklearn.cross_validation import train_test_split\n",
    "from sklearn.grid_search import GridSearchCV,RandomizedSearchCV\n",
    "from sklearn.datasets import *\n",
    "from sklearn.metrics import accuracy_score\n",
    "from sklearn.learning_curve import validation_curve\n",
    "from sklearn.cross_validation import cross_val_score\n",
    "from scipy.stats import uniform as sp_rand\n",
    "from sklearn.model_selection import TimeSeriesSplit,KFold\n",
    "from sklearn import cross_validation\n",
    "from sklearn.metrics import classification_report,confusion_matrix\n",
    "from sklearn.svm import SVC\n",
    "from scipy import stats\n",
    "from sklearn.ensemble import RandomForestClassifier,GradientBoostingClassifier\n",
    "from sklearn.model_selection import ParameterGrid\n",
    "import parfit.parfit as pf\n",
    "from sklearn.utils import shuffle\n",
    "import random\n",
    "import gensim\n",
    "import warnings\n",
    "warnings.filterwarnings('ignore')"
   ]
  },
  {
   "cell_type": "markdown",
   "metadata": {},
   "source": [
    "# Reading the data from CSV"
   ]
  },
  {
   "cell_type": "code",
   "execution_count": 2,
   "metadata": {
    "collapsed": true
   },
   "outputs": [],
   "source": [
    "final_data=pd.read_csv('Amazon.csv')"
   ]
  },
  {
   "cell_type": "markdown",
   "metadata": {},
   "source": [
    "# Sorting the Data based on Time"
   ]
  },
  {
   "cell_type": "code",
   "execution_count": 3,
   "metadata": {},
   "outputs": [
    {
     "data": {
      "text/html": [
       "<div>\n",
       "<style>\n",
       "    .dataframe thead tr:only-child th {\n",
       "        text-align: right;\n",
       "    }\n",
       "\n",
       "    .dataframe thead th {\n",
       "        text-align: left;\n",
       "    }\n",
       "\n",
       "    .dataframe tbody tr th {\n",
       "        vertical-align: top;\n",
       "    }\n",
       "</style>\n",
       "<table border=\"1\" class=\"dataframe\">\n",
       "  <thead>\n",
       "    <tr style=\"text-align: right;\">\n",
       "      <th></th>\n",
       "      <th>Unnamed: 0</th>\n",
       "      <th>Id</th>\n",
       "      <th>ProductId</th>\n",
       "      <th>UserId</th>\n",
       "      <th>ProfileName</th>\n",
       "      <th>HelpfulnessNumerator</th>\n",
       "      <th>HelpfulnessDenominator</th>\n",
       "      <th>Score</th>\n",
       "      <th>Time</th>\n",
       "      <th>Summary</th>\n",
       "      <th>Text</th>\n",
       "      <th>CleanText</th>\n",
       "    </tr>\n",
       "  </thead>\n",
       "  <tbody>\n",
       "    <tr>\n",
       "      <th>0</th>\n",
       "      <td>138706</td>\n",
       "      <td>150524</td>\n",
       "      <td>0006641040</td>\n",
       "      <td>ACITT7DI6IDDL</td>\n",
       "      <td>shari zychinski</td>\n",
       "      <td>0</td>\n",
       "      <td>0</td>\n",
       "      <td>1</td>\n",
       "      <td>939340800</td>\n",
       "      <td>EVERY book is educational</td>\n",
       "      <td>this witty little book makes my son laugh at l...</td>\n",
       "      <td>b'witti littl book make son laugh loud recit c...</td>\n",
       "    </tr>\n",
       "    <tr>\n",
       "      <th>1</th>\n",
       "      <td>138688</td>\n",
       "      <td>150506</td>\n",
       "      <td>0006641040</td>\n",
       "      <td>A2IW4PEEKO2R0U</td>\n",
       "      <td>Tracy</td>\n",
       "      <td>1</td>\n",
       "      <td>1</td>\n",
       "      <td>1</td>\n",
       "      <td>1194739200</td>\n",
       "      <td>Love the book, miss the hard cover version</td>\n",
       "      <td>I grew up reading these Sendak books, and watc...</td>\n",
       "      <td>b'grew read sendak book watch realli rosi movi...</td>\n",
       "    </tr>\n",
       "    <tr>\n",
       "      <th>2</th>\n",
       "      <td>138689</td>\n",
       "      <td>150507</td>\n",
       "      <td>0006641040</td>\n",
       "      <td>A1S4A3IQ2MU7V4</td>\n",
       "      <td>sally sue \"sally sue\"</td>\n",
       "      <td>1</td>\n",
       "      <td>1</td>\n",
       "      <td>1</td>\n",
       "      <td>1191456000</td>\n",
       "      <td>chicken soup with rice months</td>\n",
       "      <td>This is a fun way for children to learn their ...</td>\n",
       "      <td>b'fun way children learn month year learn poem...</td>\n",
       "    </tr>\n",
       "    <tr>\n",
       "      <th>3</th>\n",
       "      <td>138690</td>\n",
       "      <td>150508</td>\n",
       "      <td>0006641040</td>\n",
       "      <td>AZGXZ2UUK6X</td>\n",
       "      <td>Catherine Hallberg \"(Kate)\"</td>\n",
       "      <td>1</td>\n",
       "      <td>1</td>\n",
       "      <td>1</td>\n",
       "      <td>1076025600</td>\n",
       "      <td>a good swingy rhythm for reading aloud</td>\n",
       "      <td>This is a great little book to read aloud- it ...</td>\n",
       "      <td>b'great littl book read nice rhythm well good ...</td>\n",
       "    </tr>\n",
       "    <tr>\n",
       "      <th>4</th>\n",
       "      <td>138691</td>\n",
       "      <td>150509</td>\n",
       "      <td>0006641040</td>\n",
       "      <td>A3CMRKGE0P909G</td>\n",
       "      <td>Teresa</td>\n",
       "      <td>3</td>\n",
       "      <td>4</td>\n",
       "      <td>1</td>\n",
       "      <td>1018396800</td>\n",
       "      <td>A great way to learn the months</td>\n",
       "      <td>This is a book of poetry about the months of t...</td>\n",
       "      <td>b'book poetri month year goe month cute littl ...</td>\n",
       "    </tr>\n",
       "  </tbody>\n",
       "</table>\n",
       "</div>"
      ],
      "text/plain": [
       "   Unnamed: 0      Id   ProductId          UserId  \\\n",
       "0      138706  150524  0006641040   ACITT7DI6IDDL   \n",
       "1      138688  150506  0006641040  A2IW4PEEKO2R0U   \n",
       "2      138689  150507  0006641040  A1S4A3IQ2MU7V4   \n",
       "3      138690  150508  0006641040     AZGXZ2UUK6X   \n",
       "4      138691  150509  0006641040  A3CMRKGE0P909G   \n",
       "\n",
       "                   ProfileName  HelpfulnessNumerator  HelpfulnessDenominator  \\\n",
       "0              shari zychinski                     0                       0   \n",
       "1                        Tracy                     1                       1   \n",
       "2        sally sue \"sally sue\"                     1                       1   \n",
       "3  Catherine Hallberg \"(Kate)\"                     1                       1   \n",
       "4                       Teresa                     3                       4   \n",
       "\n",
       "   Score        Time                                     Summary  \\\n",
       "0      1   939340800                   EVERY book is educational   \n",
       "1      1  1194739200  Love the book, miss the hard cover version   \n",
       "2      1  1191456000               chicken soup with rice months   \n",
       "3      1  1076025600      a good swingy rhythm for reading aloud   \n",
       "4      1  1018396800             A great way to learn the months   \n",
       "\n",
       "                                                Text  \\\n",
       "0  this witty little book makes my son laugh at l...   \n",
       "1  I grew up reading these Sendak books, and watc...   \n",
       "2  This is a fun way for children to learn their ...   \n",
       "3  This is a great little book to read aloud- it ...   \n",
       "4  This is a book of poetry about the months of t...   \n",
       "\n",
       "                                           CleanText  \n",
       "0  b'witti littl book make son laugh loud recit c...  \n",
       "1  b'grew read sendak book watch realli rosi movi...  \n",
       "2  b'fun way children learn month year learn poem...  \n",
       "3  b'great littl book read nice rhythm well good ...  \n",
       "4  b'book poetri month year goe month cute littl ...  "
      ]
     },
     "execution_count": 3,
     "metadata": {},
     "output_type": "execute_result"
    }
   ],
   "source": [
    "final_data.sort_values('Time',ascending=True)\n",
    "final_data.head()"
   ]
  },
  {
   "cell_type": "markdown",
   "metadata": {},
   "source": [
    "# Spliting the data into Train and Test"
   ]
  },
  {
   "cell_type": "code",
   "execution_count": 4,
   "metadata": {},
   "outputs": [
    {
     "name": "stdout",
     "output_type": "stream",
     "text": [
      "Train: [     0      1      2 ..., 121388 121389 121390] Test: [121391 121392 121393 ..., 242778 242779 242780]\n",
      "Train: [     0      1      2 ..., 242778 242779 242780] Test: [242781 242782 242783 ..., 364168 364169 364170]\n"
     ]
    }
   ],
   "source": [
    "tscv=TimeSeriesSplit(n_splits=2)\n",
    "for train_index,test_index in tscv.split(final_data):\n",
    "    print(\"Train:\", train_index,\"Test:\", test_index)\n",
    "    train_data,test_data = final_data.iloc[train_index],final_data.iloc[test_index]"
   ]
  },
  {
   "cell_type": "code",
   "execution_count": null,
   "metadata": {
    "collapsed": true
   },
   "outputs": [],
   "source": []
  },
  {
   "cell_type": "code",
   "execution_count": 5,
   "metadata": {
    "collapsed": true
   },
   "outputs": [],
   "source": [
    "#Training data\n",
    "train_data=shuffle(train_data)\n",
    "reviews=train_data['Score']\n",
    "reviews=reviews[0:50000]\n",
    "train_data=train_data[0:50000]"
   ]
  },
  {
   "cell_type": "code",
   "execution_count": 6,
   "metadata": {
    "collapsed": true
   },
   "outputs": [],
   "source": [
    "#Test data\n",
    "test_data=shuffle(test_data)\n",
    "test_review=test_data['Score']\n",
    "test_review=test_review[0:30000]\n",
    "test_data=test_data[0:30000]"
   ]
  },
  {
   "cell_type": "markdown",
   "metadata": {},
   "source": [
    "# Applying Weighted tfidf to featurize the text"
   ]
  },
  {
   "cell_type": "code",
   "execution_count": 7,
   "metadata": {},
   "outputs": [
    {
     "name": "stdout",
     "output_type": "stream",
     "text": [
      "{'mustn', 'him', 'few', 'have', \"that'll\", 'but', 'in', 'wouldn', 'off', 'his', 'hers', 'where', 'they', 'aren', 't', 'she', 'be', 'mightn', 'same', 'those', 'don', \"it's\", 'themselves', \"shouldn't\", 'this', \"shan't\", \"hasn't\", \"doesn't\", 'my', 'each', \"don't\", 'your', 'through', 'we', 'yourself', 'd', \"didn't\", 'it', 'shouldn', 'won', 'so', 'how', 'that', 'does', 'to', 'isn', 'before', 'wasn', 'whom', \"you'll\", 'very', 'than', 'now', 'had', 'can', 'yours', \"isn't\", 'of', 'herself', 'do', 'below', 'having', 'by', 'm', 'such', 'who', 'from', \"aren't\", 'after', 'will', 'the', \"hadn't\", 'itself', 'if', \"won't\", 'has', 'as', \"she's\", 'its', 'i', 'other', 'own', \"you'd\", 'these', 'too', 'her', 'did', 'here', 'y', 'theirs', 's', 'is', 'over', 'why', 'up', 'ourselves', 'both', 'hadn', 'was', 'any', 'just', 'himself', 'under', 've', \"needn't\", 'you', 'then', 'no', 'on', 'down', \"couldn't\", 'only', 'are', 'while', 'some', 'during', 'until', 'nor', 'when', 'further', 'hasn', 'and', 'there', \"wasn't\", 'should', 'a', 'most', 'ain', 'ours', \"mightn't\", 'into', 'them', 'an', 'weren', 'or', 'again', 'shan', 'doesn', \"you're\", 'which', 'am', 'with', 'for', 'all', 'were', 'couldn', \"you've\", 'haven', 'between', 'o', 'yourselves', 'what', 'didn', 'ma', 'being', 'because', 'out', 'once', \"wouldn't\", 'their', \"should've\", 'at', 'our', 'needn', \"mustn't\", 'above', 'he', 'been', 'not', 're', 'more', \"weren't\", \"haven't\", 'll', 'me', 'doing', 'myself', 'about', 'against'}\n",
      "************************************\n",
      "tasti\n"
     ]
    }
   ],
   "source": [
    "import re\n",
    "# Tutorial about Python regular expressions: https://pymotw.com/2/re/\n",
    "import string\n",
    "from nltk.corpus import stopwords\n",
    "from nltk.stem import PorterStemmer\n",
    "from nltk.stem.wordnet import WordNetLemmatizer\n",
    "\n",
    "stop = set(stopwords.words('english')) #set of stopwords\n",
    "sno = nltk.stem.SnowballStemmer('english') #initialising the snowball stemmer\n",
    "\n",
    "def cleanhtml(sentence): #function to clean the word of any html-tags\n",
    "    cleanr = re.compile('<.*?>')\n",
    "    cleantext = re.sub(cleanr, ' ', sentence)\n",
    "    return cleantext\n",
    "def cleanpunc(sentence): #function to clean the word of any punctuation or special characters\n",
    "    cleaned = re.sub(r'[?|!|\\'|\"|#]',r'',sentence)\n",
    "    cleaned = re.sub(r'[.|,|)|(|\\|/]',r' ',cleaned)\n",
    "    return  cleaned\n",
    "print(stop)\n",
    "print('************************************')\n",
    "print(sno.stem('tasty'))"
   ]
  },
  {
   "cell_type": "code",
   "execution_count": 8,
   "metadata": {
    "collapsed": true
   },
   "outputs": [],
   "source": [
    "i=0\n",
    "list_of_sent_train=[]\n",
    "for sent in train_data['CleanText'].values:\n",
    "    filtered_sentence=[]\n",
    "    sent=cleanhtml(sent)\n",
    "    for w in sent.split():\n",
    "        for cleaned_words in cleanpunc(w).split():\n",
    "            if(cleaned_words.isalpha()):    \n",
    "                filtered_sentence.append(cleaned_words.lower())\n",
    "            else:\n",
    "                continue \n",
    "    list_of_sent_train.append(filtered_sentence)"
   ]
  },
  {
   "cell_type": "code",
   "execution_count": 9,
   "metadata": {
    "collapsed": true
   },
   "outputs": [],
   "source": [
    "i=0\n",
    "list_of_sent_test=[]\n",
    "for sent in test_data['CleanText'].values:\n",
    "    filtered_sentence=[]\n",
    "    sent=cleanhtml(sent)\n",
    "    for w in sent.split():\n",
    "        for cleaned_words in cleanpunc(w).split():\n",
    "            if(cleaned_words.isalpha()):    \n",
    "                filtered_sentence.append(cleaned_words.lower())\n",
    "            else:\n",
    "                continue \n",
    "    list_of_sent_test.append(filtered_sentence)"
   ]
  },
  {
   "cell_type": "code",
   "execution_count": 10,
   "metadata": {
    "collapsed": true
   },
   "outputs": [],
   "source": [
    "w2v_model_train=gensim.models.Word2Vec(list_of_sent_train,min_count=5,size=200,workers=4)\n",
    "w2v_model_test=gensim.models.Word2Vec(list_of_sent_test,min_count=5,size=200,workers=4)"
   ]
  },
  {
   "cell_type": "code",
   "execution_count": 11,
   "metadata": {
    "collapsed": true
   },
   "outputs": [],
   "source": [
    "tf_idf_vec=TfidfVectorizer()\n",
    "train_tf_idf=tf_idf_vec.fit_transform(train_data['CleanText'].values)\n",
    "\n",
    "test_tf_idf=tf_idf_vec.transform(test_data['CleanText'].values)"
   ]
  },
  {
   "cell_type": "code",
   "execution_count": 12,
   "metadata": {
    "collapsed": true
   },
   "outputs": [],
   "source": [
    "tf_idf_feat=tf_idf_vec.get_feature_names()\n",
    "train_idf_sent_vectors=[];\n",
    "#Storing each review/sentence in the list\n",
    "row=0;\n",
    "for sent in list_of_sent_train:#for each review/sentence\n",
    "    sent_vec=np.zeros(200)\n",
    "    weight_sum=0\n",
    "    for word in sent:\n",
    "        try:\n",
    "            vec=w2v_model_train.wv[word]\n",
    "            tfidf=train_tf_idf[row,tf_idf_feat.index(word)]\n",
    "            sent_vec +=(vec*tfidf)\n",
    "            weight_sum +=tfidf\n",
    "        except:\n",
    "            pass\n",
    "    sent_vec /= weight_sum\n",
    "    train_idf_sent_vectors.append(sent_vec)\n",
    "    #print(tf_idf_sent_vectors)\n",
    "    row += 1   "
   ]
  },
  {
   "cell_type": "code",
   "execution_count": 13,
   "metadata": {
    "collapsed": true
   },
   "outputs": [],
   "source": [
    "test_idf_sent_vectors=[];\n",
    "#Storing each review/sentence in the list\n",
    "row=0;\n",
    "for sent in list_of_sent_test:#for each review/sentence\n",
    "    sent_vec=np.zeros(200)\n",
    "    weight_sum=0\n",
    "    for word in sent:\n",
    "        try:\n",
    "            vec=w2v_model_test.wv[word]\n",
    "            tfidf=test_tf_idf[row,tf_idf_feat.index(word)]\n",
    "            sent_vec +=(vec*tfidf)\n",
    "            weight_sum +=tfidf\n",
    "        except:\n",
    "            pass\n",
    "    sent_vec /= weight_sum\n",
    "    test_idf_sent_vectors.append(sent_vec)\n",
    "    #print(tf_idf_sent_vectors)\n",
    "    row += 1   "
   ]
  },
  {
   "cell_type": "code",
   "execution_count": 14,
   "metadata": {
    "collapsed": true
   },
   "outputs": [],
   "source": [
    "train_idf_sent_vectors_array=np.array(train_idf_sent_vectors)\n",
    "train_idf_sent_vectors_array=np.nan_to_num(train_idf_sent_vectors_array)\n",
    "\n",
    "test_idf_sent_vectors_array=np.array(test_idf_sent_vectors)\n",
    "test_idf_sent_vectors_array=np.nan_to_num(test_idf_sent_vectors_array)"
   ]
  },
  {
   "cell_type": "code",
   "execution_count": 15,
   "metadata": {
    "collapsed": true
   },
   "outputs": [],
   "source": [
    "cv_data=train_idf_sent_vectors_array[30000:50000]\n",
    "cv_data=shuffle(cv_data)\n",
    "cv_review=reviews[30000:50000]\n",
    "cv_review=shuffle(cv_review)"
   ]
  },
  {
   "cell_type": "markdown",
   "metadata": {},
   "source": [
    "# Finding the optimal depth "
   ]
  },
  {
   "cell_type": "code",
   "execution_count": 16,
   "metadata": {},
   "outputs": [
    {
     "name": "stdout",
     "output_type": "stream",
     "text": [
      "[0.84755007715001918, 0.8471001271000318, 0.8465500270000067, 0.84514985163746292, 0.84475017672504416, 0.84394987654996911, 0.8438000765000192]\n",
      "\n",
      "The optimal number of depth is 4.\n"
     ]
    },
    {
     "data": {
      "image/png": "[encoded data removed]",
      "text/plain": [
       "<matplotlib.figure.Figure at 0x250fa1550b8>"
      ]
     },
     "metadata": {},
     "output_type": "display_data"
    },
    {
     "name": "stdout",
     "output_type": "stream",
     "text": [
      "the misclassification error for each i value is :  [ 0.152  0.153  0.153  0.155  0.155  0.156  0.156]\n"
     ]
    }
   ],
   "source": [
    "depth = list(range(4,32,4))\n",
    "cv_scores = []\n",
    "\n",
    "# perform 10-fold cross validation\n",
    "for i in depth:\n",
    "    gbdt = GradientBoostingClassifier(max_depth=i,n_estimators=10)\n",
    "    scores = cross_val_score(gbdt,cv_data,cv_review, cv=10, scoring='accuracy')\n",
    "    cv_scores.append(scores.mean())\n",
    "print(cv_scores)\n",
    "\n",
    "# changing to misclassification error\n",
    "MSE = [1 - x for x in cv_scores]\n",
    "\n",
    "# determining best k\n",
    "optimal_i = depth[MSE.index(min(MSE))]\n",
    "print('\\nThe optimal number of depth is %d.' % optimal_i)\n",
    "\n",
    "# plot misclassification error vs depth \n",
    "plt.plot(depth, MSE)\n",
    "\n",
    "for xy in zip(depth, np.round(MSE,3)):\n",
    "    plt.annotate('(%s, %s)' % xy, xy=xy, textcoords='data')\n",
    "\n",
    "plt.xlabel('Depth')\n",
    "plt.ylabel('Misclassification Error')\n",
    "plt.show()\n",
    "\n",
    "print(\"the misclassification error for each i value is : \", np.round(MSE,3))"
   ]
  },
  {
   "cell_type": "markdown",
   "metadata": {
    "collapsed": true
   },
   "source": [
    "# Finding the optimal number of estimators"
   ]
  },
  {
   "cell_type": "code",
   "execution_count": 17,
   "metadata": {},
   "outputs": [
    {
     "name": "stdout",
     "output_type": "stream",
     "text": [
      "[0.84644999999999992, 0.84625000000000006, 0.84629999999999994, 0.84619999999999995, 0.84599999999999986, 0.84594999999999998, 0.84575, 0.84549999999999981, 0.84559999999999991, 0.84539999999999993, 0.84489999999999998, 0.84499999999999997, 0.84490000000000021, 0.8448, 0.84450000000000003, 0.84455000000000013, 0.84444999999999992, 0.84435000000000004, 0.84450000000000003]\n",
      "\n",
      "The optimal number of models is 10.\n"
     ]
    },
    {
     "data": {
      "image/png": "[encoded data removed]",
      "text/plain": [
       "<matplotlib.figure.Figure at 0x22d85987a90>"
      ]
     },
     "metadata": {},
     "output_type": "display_data"
    },
    {
     "name": "stdout",
     "output_type": "stream",
     "text": [
      "the misclassification error for each i value is :  [ 0.154  0.154  0.154  0.154  0.154  0.154  0.154  0.155  0.154  0.155\n",
      "  0.155  0.155  0.155  0.155  0.155  0.155  0.156  0.156  0.155]\n"
     ]
    }
   ],
   "source": [
    "estimator = list(range(10,200,10))\n",
    "cv_scores = []\n",
    "\n",
    "# perform 10-fold cross validation\n",
    "for i in estimator:\n",
    "    \n",
    "    rfc = GradientBoostingClassifier(n_estimators=i)\n",
    "    scores = cross_val_score(rfc,cv_data,cv_review, cv=5, scoring='accuracy')\n",
    "    cv_scores.append(scores.mean())\n",
    "print(cv_scores)\n",
    "\n",
    "# changing to misclassification error\n",
    "MSE = [1 - x for x in cv_scores]\n",
    "\n",
    "# determining best k\n",
    "optimal_num = estimator[MSE.index(min(MSE))]\n",
    "print('\\nThe optimal number of models is %d.' % optimal_num)\n",
    "\n",
    "# plot misclassification error vs depth \n",
    "plt.plot(estimator, MSE)\n",
    "\n",
    "for xy in zip(estimator, np.round(MSE,3)):\n",
    "    plt.annotate('(%s, %s)' % xy, xy=xy, textcoords='data')\n",
    "\n",
    "plt.xlabel('Number of estimator')\n",
    "plt.ylabel('Misclassification Error')\n",
    "plt.show()\n",
    "\n",
    "print(\"the misclassification error for each i value is : \", np.round(MSE,3))"
   ]
  },
  {
   "cell_type": "code",
   "execution_count": 28,
   "metadata": {
    "collapsed": true
   },
   "outputs": [],
   "source": [
    "clf=GradientBoostingClassifier(learning_rate=1,n_estimators=10,max_depth=4)"
   ]
  },
  {
   "cell_type": "code",
   "execution_count": 29,
   "metadata": {},
   "outputs": [
    {
     "data": {
      "text/plain": [
       "GradientBoostingClassifier(criterion='friedman_mse', init=None,\n",
       "              learning_rate=1, loss='deviance', max_depth=4,\n",
       "              max_features=None, max_leaf_nodes=None,\n",
       "              min_impurity_decrease=0.0, min_impurity_split=None,\n",
       "              min_samples_leaf=1, min_samples_split=2,\n",
       "              min_weight_fraction_leaf=0.0, n_estimators=10,\n",
       "              presort='auto', random_state=None, subsample=1.0, verbose=0,\n",
       "              warm_start=False)"
      ]
     },
     "execution_count": 29,
     "metadata": {},
     "output_type": "execute_result"
    }
   ],
   "source": [
    "clf.fit(train_idf_sent_vectors_array,reviews)"
   ]
  },
  {
   "cell_type": "markdown",
   "metadata": {},
   "source": [
    "# Prediction and Evaluation"
   ]
  },
  {
   "cell_type": "code",
   "execution_count": 30,
   "metadata": {
    "collapsed": true
   },
   "outputs": [],
   "source": [
    "prediction=clf.predict(test_idf_sent_vectors_array)"
   ]
  },
  {
   "cell_type": "code",
   "execution_count": 31,
   "metadata": {},
   "outputs": [
    {
     "name": "stdout",
     "output_type": "stream",
     "text": [
      "             precision    recall  f1-score   support\n",
      "\n",
      "          0       0.43      0.24      0.31      5062\n",
      "          1       0.86      0.94      0.90     24938\n",
      "\n",
      "avg / total       0.79      0.82      0.80     30000\n",
      "\n"
     ]
    }
   ],
   "source": [
    "print(classification_report(test_review,prediction))"
   ]
  },
  {
   "cell_type": "code",
   "execution_count": 34,
   "metadata": {},
   "outputs": [
    {
     "name": "stdout",
     "output_type": "stream",
     "text": [
      "[[ 1207  3855]\n",
      " [ 1597 23341]]\n"
     ]
    }
   ],
   "source": [
    "confu_metric=confusion_matrix(test_review,prediction)\n",
    "print(confu_metric)"
   ]
  },
  {
   "cell_type": "code",
   "execution_count": 35,
   "metadata": {},
   "outputs": [
    {
     "data": {
      "text/plain": [
       "<matplotlib.axes._subplots.AxesSubplot at 0x25086dcce48>"
      ]
     },
     "execution_count": 35,
     "metadata": {},
     "output_type": "execute_result"
    },
    {
     "data": {
      "image/png": "[encoded data removed]",
      "text/plain": [
       "<matplotlib.figure.Figure at 0x250cac42e80>"
      ]
     },
     "metadata": {},
     "output_type": "display_data"
    }
   ],
   "source": [
    "sns.heatmap(confu_metric,annot=True,fmt='.1f',annot_kws={\"size\": 16},cmap='RdBu_r')"
   ]
  },
  {
   "cell_type": "markdown",
   "metadata": {},
   "source": [
    "# Test and Train Metric"
   ]
  },
  {
   "cell_type": "code",
   "execution_count": 36,
   "metadata": {},
   "outputs": [
    {
     "name": "stdout",
     "output_type": "stream",
     "text": [
      "TPR:  0.935961183736\n",
      "FPR:  0.761556696958\n",
      "Specificity:  0.238443303042\n",
      "Precision:  0.858251213414\n",
      "Recall:  0.935961183736\n",
      "F1Score:  0.895423332182\n"
     ]
    }
   ],
   "source": [
    "TP=confu_metric[1][1]\n",
    "FP=confu_metric[0][1]\n",
    "TN=confu_metric[0][0]\n",
    "FN=confu_metric[1][0]\n",
    "\n",
    "True_positive_rate=TP/(TP+FN) #It tells us when it is actually a Positive Review , How often does it predict Postive Review\n",
    "print('TPR: ',True_positive_rate)\n",
    "\n",
    "false_positive_rate=FP/(FP+TN) # It tells us that when the review is negative how often does it predict Positive Review\n",
    "print('FPR: ',false_positive_rate)\n",
    "\n",
    "specificity=TN/(TN+FP) #It tells us that When the review is negative ,how often does it predict negative review\n",
    "print('Specificity: ',specificity)\n",
    "\n",
    "precision=TP/(TP+FP) # It tells us all the reviews that model has predicted to be Positive how many are truly positive \n",
    "print('Precision: ',precision)\n",
    "\n",
    "recall=TP/(TP+FN) # It tells us that from all the predicted postive reviews how many are actually postive review\n",
    "print('Recall: ',recall)\n",
    "\n",
    "f1_score=2*precision*recall/(precision+recall) #It is the weighted average of the Precision and Recall\n",
    "print('F1Score: ',f1_score)"
   ]
  },
  {
   "cell_type": "markdown",
   "metadata": {},
   "source": [
    "# ROC Curve"
   ]
  },
  {
   "cell_type": "code",
   "execution_count": 37,
   "metadata": {},
   "outputs": [
    {
     "data": {
      "image/png": "[encoded data removed]",
      "text/plain": [
       "<matplotlib.figure.Figure at 0x25086ff9eb8>"
      ]
     },
     "metadata": {},
     "output_type": "display_data"
    }
   ],
   "source": [
    "from sklearn.metrics import roc_curve,auc\n",
    "fpr,tpr,thresholds=roc_curve(test_review,prediction)\n",
    "roc_auc=auc(fpr,tpr)\n",
    "plt.title('Receiver Operating Characteristic')\n",
    "plt.plot(fpr,tpr, 'b',label='AUC = %0.2f'% roc_auc)\n",
    "plt.legend(loc='lower right')\n",
    "plt.plot([0,1],[0,1],'y--')\n",
    "plt.xlim([-0.1,1.2])\n",
    "plt.ylim([-0.1,1.2])\n",
    "plt.ylabel('True Positive Rate')\n",
    "plt.xlabel('False Positive Rate')\n",
    "plt.show()"
   ]
  },
  {
   "cell_type": "markdown",
   "metadata": {
    "collapsed": true
   },
   "source": [
    "Observation : 1.I have preprocessed and cleaned  the whole dataset and store in Amazon.csv file for the further use. That CSV contains all the data. \n",
    "2. Now We have cleaned data , So I have sorted the Whole data on the basic of the TimeStamp\n",
    "3. Now I have splitted my whole Dataset into Training,Cross validation and Test datasets for My ML\n",
    "4. I have taken the 70K sample from the Training purpose and 30K Sample for Testing purpose and another 30K for cross validation\n",
    "5. Its time to convert our text into vectors . I have used weighted tfidf to convert my text reviews into Vectors . \n",
    "   I have converted the Training Sample, Test sample individually\n",
    "\n",
    "7. First I have used cross validation technique to find the optimal No. of estimators for my Random Forest\n",
    "   then I have used cross validation technique to find the optimal No. of depth  and Learning rate for my GBDT\n",
    "8. I have plot the curve between MSE and No. of depth\n",
    "9. I have applied GradientBoostingClassifier() using best depth and estimator\n",
    "10. I have predicted and evaluated the test data using classificationreport and confusion matrix\n",
    "11. I have also found different test and train metric and on the basic of that I have drawn Roc cuve \n",
    "\n",
    "    "
   ]
  },
  {
   "cell_type": "code",
   "execution_count": null,
   "metadata": {
    "collapsed": true
   },
   "outputs": [],
   "source": []
  }
 ],
 "metadata": {
  "kernelspec": {
   "display_name": "Python 3",
   "language": "python",
   "name": "python3"
  },
  "language_info": {
   "codemirror_mode": {
    "name": "ipython",
    "version": 3
   },
   "file_extension": ".py",
   "mimetype": "text/x-python",
   "name": "python",
   "nbconvert_exporter": "python",
   "pygments_lexer": "ipython3",
   "version": "3.6.6"
  }
 },
 "nbformat": 4,
 "nbformat_minor": 2
}
