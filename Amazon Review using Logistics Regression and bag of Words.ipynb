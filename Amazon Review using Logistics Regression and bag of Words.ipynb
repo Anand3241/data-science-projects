{
 "cells": [
  {
   "cell_type": "markdown",
   "metadata": {},
   "source": [
    "# Logistic Regression with BOW "
   ]
  },
  {
   "cell_type": "code",
   "execution_count": null,
   "metadata": {
    "collapsed": true
   },
   "outputs": [],
   "source": [
    "import numpy as np\n",
    "import pandas as pd\n",
    "import matplotlib.pyplot as plt\n",
    "import seaborn as sns\n",
    "%matplotlib inline\n",
    "import sqlite3\n",
    "import nltk\n",
    "import string\n",
    "from sklearn.feature_extraction.text import TfidfTransformer\n",
    "from sklearn.feature_extraction.text import TfidfVectorizer\n",
    "from sklearn.feature_extraction.text import CountVectorizer\n",
    "from sklearn.metrics import confusion_matrix\n",
    "from sklearn import metrics\n",
    "from sklearn.metrics import roc_curve,auc\n",
    "from nltk.stem.porter import PorterStemmer\n",
    "from sklearn.cross_validation import train_test_split\n",
    "from sklearn.grid_search import GridSearchCV,RandomizedSearchCV\n",
    "from sklearn.datasets import *\n",
    "from sklearn.linear_model import LogisticRegression\n",
    "from sklearn.metrics import accuracy_score\n",
    "from sklearn.learning_curve import validation_curve\n",
    "from sklearn.cross_validation import cross_val_score\n",
    "from scipy.stats import uniform as sp_rand\n",
    "from sklearn.model_selection import TimeSeriesSplit\n",
    "from sklearn import cross_validation\n",
    "from sklearn.metrics import classification_report,confusion_matrix"
   ]
  },
  {
   "cell_type": "markdown",
   "metadata": {},
   "source": [
    "# Preprocessed and Cleaned Data Saved as Amazon.csv"
   ]
  },
  {
   "cell_type": "code",
   "execution_count": 3,
   "metadata": {
    "collapsed": true
   },
   "outputs": [],
   "source": [
    "final_data=pd.read_csv('Amazon.csv')"
   ]
  },
  {
   "cell_type": "markdown",
   "metadata": {},
   "source": [
    "# Sort the Data Based pn the Time Stamp"
   ]
  },
  {
   "cell_type": "code",
   "execution_count": 4,
   "metadata": {},
   "outputs": [
    {
     "data": {
      "text/html": [
       "<div>\n",
       "<style>\n",
       "    .dataframe thead tr:only-child th {\n",
       "        text-align: right;\n",
       "    }\n",
       "\n",
       "    .dataframe thead th {\n",
       "        text-align: left;\n",
       "    }\n",
       "\n",
       "    .dataframe tbody tr th {\n",
       "        vertical-align: top;\n",
       "    }\n",
       "</style>\n",
       "<table border=\"1\" class=\"dataframe\">\n",
       "  <thead>\n",
       "    <tr style=\"text-align: right;\">\n",
       "      <th></th>\n",
       "      <th>Unnamed: 0</th>\n",
       "      <th>Id</th>\n",
       "      <th>ProductId</th>\n",
       "      <th>UserId</th>\n",
       "      <th>ProfileName</th>\n",
       "      <th>HelpfulnessNumerator</th>\n",
       "      <th>HelpfulnessDenominator</th>\n",
       "      <th>Score</th>\n",
       "      <th>Time</th>\n",
       "      <th>Summary</th>\n",
       "      <th>Text</th>\n",
       "      <th>CleanText</th>\n",
       "    </tr>\n",
       "  </thead>\n",
       "  <tbody>\n",
       "    <tr>\n",
       "      <th>0</th>\n",
       "      <td>138706</td>\n",
       "      <td>150524</td>\n",
       "      <td>0006641040</td>\n",
       "      <td>ACITT7DI6IDDL</td>\n",
       "      <td>shari zychinski</td>\n",
       "      <td>0</td>\n",
       "      <td>0</td>\n",
       "      <td>1</td>\n",
       "      <td>939340800</td>\n",
       "      <td>EVERY book is educational</td>\n",
       "      <td>this witty little book makes my son laugh at l...</td>\n",
       "      <td>b'witti littl book make son laugh loud recit c...</td>\n",
       "    </tr>\n",
       "    <tr>\n",
       "      <th>1</th>\n",
       "      <td>138688</td>\n",
       "      <td>150506</td>\n",
       "      <td>0006641040</td>\n",
       "      <td>A2IW4PEEKO2R0U</td>\n",
       "      <td>Tracy</td>\n",
       "      <td>1</td>\n",
       "      <td>1</td>\n",
       "      <td>1</td>\n",
       "      <td>1194739200</td>\n",
       "      <td>Love the book, miss the hard cover version</td>\n",
       "      <td>I grew up reading these Sendak books, and watc...</td>\n",
       "      <td>b'grew read sendak book watch realli rosi movi...</td>\n",
       "    </tr>\n",
       "    <tr>\n",
       "      <th>2</th>\n",
       "      <td>138689</td>\n",
       "      <td>150507</td>\n",
       "      <td>0006641040</td>\n",
       "      <td>A1S4A3IQ2MU7V4</td>\n",
       "      <td>sally sue \"sally sue\"</td>\n",
       "      <td>1</td>\n",
       "      <td>1</td>\n",
       "      <td>1</td>\n",
       "      <td>1191456000</td>\n",
       "      <td>chicken soup with rice months</td>\n",
       "      <td>This is a fun way for children to learn their ...</td>\n",
       "      <td>b'fun way children learn month year learn poem...</td>\n",
       "    </tr>\n",
       "    <tr>\n",
       "      <th>3</th>\n",
       "      <td>138690</td>\n",
       "      <td>150508</td>\n",
       "      <td>0006641040</td>\n",
       "      <td>AZGXZ2UUK6X</td>\n",
       "      <td>Catherine Hallberg \"(Kate)\"</td>\n",
       "      <td>1</td>\n",
       "      <td>1</td>\n",
       "      <td>1</td>\n",
       "      <td>1076025600</td>\n",
       "      <td>a good swingy rhythm for reading aloud</td>\n",
       "      <td>This is a great little book to read aloud- it ...</td>\n",
       "      <td>b'great littl book read nice rhythm well good ...</td>\n",
       "    </tr>\n",
       "    <tr>\n",
       "      <th>4</th>\n",
       "      <td>138691</td>\n",
       "      <td>150509</td>\n",
       "      <td>0006641040</td>\n",
       "      <td>A3CMRKGE0P909G</td>\n",
       "      <td>Teresa</td>\n",
       "      <td>3</td>\n",
       "      <td>4</td>\n",
       "      <td>1</td>\n",
       "      <td>1018396800</td>\n",
       "      <td>A great way to learn the months</td>\n",
       "      <td>This is a book of poetry about the months of t...</td>\n",
       "      <td>b'book poetri month year goe month cute littl ...</td>\n",
       "    </tr>\n",
       "  </tbody>\n",
       "</table>\n",
       "</div>"
      ],
      "text/plain": [
       "   Unnamed: 0      Id   ProductId          UserId  \\\n",
       "0      138706  150524  0006641040   ACITT7DI6IDDL   \n",
       "1      138688  150506  0006641040  A2IW4PEEKO2R0U   \n",
       "2      138689  150507  0006641040  A1S4A3IQ2MU7V4   \n",
       "3      138690  150508  0006641040     AZGXZ2UUK6X   \n",
       "4      138691  150509  0006641040  A3CMRKGE0P909G   \n",
       "\n",
       "                   ProfileName  HelpfulnessNumerator  HelpfulnessDenominator  \\\n",
       "0              shari zychinski                     0                       0   \n",
       "1                        Tracy                     1                       1   \n",
       "2        sally sue \"sally sue\"                     1                       1   \n",
       "3  Catherine Hallberg \"(Kate)\"                     1                       1   \n",
       "4                       Teresa                     3                       4   \n",
       "\n",
       "   Score        Time                                     Summary  \\\n",
       "0      1   939340800                   EVERY book is educational   \n",
       "1      1  1194739200  Love the book, miss the hard cover version   \n",
       "2      1  1191456000               chicken soup with rice months   \n",
       "3      1  1076025600      a good swingy rhythm for reading aloud   \n",
       "4      1  1018396800             A great way to learn the months   \n",
       "\n",
       "                                                Text  \\\n",
       "0  this witty little book makes my son laugh at l...   \n",
       "1  I grew up reading these Sendak books, and watc...   \n",
       "2  This is a fun way for children to learn their ...   \n",
       "3  This is a great little book to read aloud- it ...   \n",
       "4  This is a book of poetry about the months of t...   \n",
       "\n",
       "                                           CleanText  \n",
       "0  b'witti littl book make son laugh loud recit c...  \n",
       "1  b'grew read sendak book watch realli rosi movi...  \n",
       "2  b'fun way children learn month year learn poem...  \n",
       "3  b'great littl book read nice rhythm well good ...  \n",
       "4  b'book poetri month year goe month cute littl ...  "
      ]
     },
     "execution_count": 4,
     "metadata": {},
     "output_type": "execute_result"
    }
   ],
   "source": [
    "final_data.sort_values('Time',ascending=True)\n",
    "final_data.head()"
   ]
  },
  {
   "cell_type": "markdown",
   "metadata": {},
   "source": [
    "# Spliting the whole Dataset into Train and Test"
   ]
  },
  {
   "cell_type": "code",
   "execution_count": 5,
   "metadata": {},
   "outputs": [
    {
     "name": "stdout",
     "output_type": "stream",
     "text": [
      "Train: [     0      1      2 ..., 121388 121389 121390] Test: [121391 121392 121393 ..., 242778 242779 242780]\n",
      "Train: [     0      1      2 ..., 242778 242779 242780] Test: [242781 242782 242783 ..., 364168 364169 364170]\n"
     ]
    }
   ],
   "source": [
    "tscv=TimeSeriesSplit(n_splits=2)\n",
    "for train_index,test_index in tscv.split(final_data):\n",
    "    print(\"Train:\", train_index,\"Test:\", test_index)\n",
    "    train_data,test_data = final_data.iloc[train_index],final_data.iloc[test_index]"
   ]
  },
  {
   "cell_type": "code",
   "execution_count": 6,
   "metadata": {
    "collapsed": true
   },
   "outputs": [],
   "source": [
    "reviews=train_data['Score']\n",
    "reviews=reviews[0:70000]\n",
    "test_review=test_data['Score']\n",
    "test_review=test_review[0:30000]"
   ]
  },
  {
   "cell_type": "code",
   "execution_count": 7,
   "metadata": {},
   "outputs": [
    {
     "data": {
      "text/plain": [
       "(121390, 12)"
      ]
     },
     "execution_count": 7,
     "metadata": {},
     "output_type": "execute_result"
    }
   ],
   "source": [
    "\n",
    "test_data.shape"
   ]
  },
  {
   "cell_type": "code",
   "execution_count": 8,
   "metadata": {},
   "outputs": [
    {
     "data": {
      "text/plain": [
       "(242781, 12)"
      ]
     },
     "execution_count": 8,
     "metadata": {},
     "output_type": "execute_result"
    }
   ],
   "source": [
    "train_data.shape"
   ]
  },
  {
   "cell_type": "code",
   "execution_count": 9,
   "metadata": {
    "collapsed": true
   },
   "outputs": [],
   "source": [
    "train_data=train_data[0:70000]"
   ]
  },
  {
   "cell_type": "code",
   "execution_count": 10,
   "metadata": {
    "collapsed": true
   },
   "outputs": [],
   "source": [
    "test_data=test_data[0:30000]"
   ]
  },
  {
   "cell_type": "markdown",
   "metadata": {},
   "source": [
    "# Converting the text text data into Vector"
   ]
  },
  {
   "cell_type": "code",
   "execution_count": 11,
   "metadata": {
    "collapsed": true
   },
   "outputs": [],
   "source": [
    "#BoW\n",
    "count_vect = CountVectorizer() #in scikit-learn\n",
    "train_counts = count_vect.fit_transform(train_data['CleanText'].values)"
   ]
  },
  {
   "cell_type": "code",
   "execution_count": 12,
   "metadata": {
    "collapsed": true
   },
   "outputs": [],
   "source": [
    "test_count=count_vect.transform(test_data['CleanText'])"
   ]
  },
  {
   "cell_type": "markdown",
   "metadata": {},
   "source": [
    "# Data Preprocessing and Standardization the Train and Test Data"
   ]
  },
  {
   "cell_type": "code",
   "execution_count": 13,
   "metadata": {},
   "outputs": [
    {
     "name": "stderr",
     "output_type": "stream",
     "text": [
      "C:\\Users\\RAJAN SHRIVASTAVA\\Anaconda3\\lib\\site-packages\\sklearn\\utils\\validation.py:444: DataConversionWarning: Data with input dtype int64 was converted to float64 by StandardScaler.\n",
      "  warnings.warn(msg, DataConversionWarning)\n"
     ]
    },
    {
     "name": "stdout",
     "output_type": "stream",
     "text": [
      "(70000, 38171)\n"
     ]
    }
   ],
   "source": [
    "#Data Preprocessing and Standardization the Data\n",
    "# (x-mean)/standard-deviation ,  where x is the column, Same will be applied to the all column\n",
    "\n",
    "from sklearn.preprocessing import StandardScaler\n",
    "standard_train_data=StandardScaler(copy=True,with_mean=False,with_std=True).fit_transform(train_counts)\n",
    "print(standard_train_data.shape)"
   ]
  },
  {
   "cell_type": "code",
   "execution_count": 14,
   "metadata": {},
   "outputs": [
    {
     "name": "stdout",
     "output_type": "stream",
     "text": [
      "(30000, 38171)\n"
     ]
    },
    {
     "name": "stderr",
     "output_type": "stream",
     "text": [
      "C:\\Users\\RAJAN SHRIVASTAVA\\Anaconda3\\lib\\site-packages\\sklearn\\utils\\validation.py:444: DataConversionWarning: Data with input dtype int64 was converted to float64 by StandardScaler.\n",
      "  warnings.warn(msg, DataConversionWarning)\n"
     ]
    }
   ],
   "source": [
    "from sklearn.preprocessing import StandardScaler\n",
    "standard_test_data=StandardScaler(copy=True,with_mean=False,with_std=True).fit_transform(test_count)\n",
    "print(standard_test_data.shape)"
   ]
  },
  {
   "cell_type": "markdown",
   "metadata": {},
   "source": [
    "# Let's find the optimal value of the lambda using GridSearchCV"
   ]
  },
  {
   "cell_type": "code",
   "execution_count": 15,
   "metadata": {
    "collapsed": true
   },
   "outputs": [],
   "source": [
    "tuned_parameter=[{'C':[10**-4,10**-3, 10**-2, 10**0, 10**2,10**3,10**4]}]    "
   ]
  },
  {
   "cell_type": "code",
   "execution_count": 16,
   "metadata": {
    "collapsed": true
   },
   "outputs": [],
   "source": [
    "model=GridSearchCV(LogisticRegression(),tuned_parameter,scoring='f1',cv=5,refit=True)"
   ]
  },
  {
   "cell_type": "code",
   "execution_count": 17,
   "metadata": {},
   "outputs": [
    {
     "data": {
      "text/plain": [
       "GridSearchCV(cv=5, error_score='raise',\n",
       "       estimator=LogisticRegression(C=1.0, class_weight=None, dual=False, fit_intercept=True,\n",
       "          intercept_scaling=1, max_iter=100, multi_class='ovr', n_jobs=1,\n",
       "          penalty='l2', random_state=None, solver='liblinear', tol=0.0001,\n",
       "          verbose=0, warm_start=False),\n",
       "       fit_params={}, iid=True, n_jobs=1,\n",
       "       param_grid=[{'C': [0.0001, 0.001, 0.01, 1, 100, 1000, 10000]}],\n",
       "       pre_dispatch='2*n_jobs', refit=True, scoring='f1', verbose=0)"
      ]
     },
     "execution_count": 17,
     "metadata": {},
     "output_type": "execute_result"
    }
   ],
   "source": [
    "model.fit(standard_train_data,reviews)"
   ]
  },
  {
   "cell_type": "code",
   "execution_count": 21,
   "metadata": {
    "collapsed": true
   },
   "outputs": [],
   "source": [
    "#print(model.best_estimator_)"
   ]
  },
  {
   "cell_type": "code",
   "execution_count": 18,
   "metadata": {},
   "outputs": [
    {
     "name": "stdout",
     "output_type": "stream",
     "text": [
      "0.9480640166743309\n"
     ]
    }
   ],
   "source": [
    "print(model.best_score_)"
   ]
  },
  {
   "cell_type": "code",
   "execution_count": 19,
   "metadata": {},
   "outputs": [
    {
     "name": "stdout",
     "output_type": "stream",
     "text": [
      "{'C': 0.001}\n"
     ]
    }
   ],
   "source": [
    "print(model.best_params_)"
   ]
  },
  {
   "cell_type": "code",
   "execution_count": 20,
   "metadata": {},
   "outputs": [
    {
     "name": "stdout",
     "output_type": "stream",
     "text": [
      "[mean: 0.94451, std: 0.00198, params: {'C': 0.0001}, mean: 0.94806, std: 0.00413, params: {'C': 0.001}, mean: 0.93998, std: 0.00615, params: {'C': 0.01}, mean: 0.92037, std: 0.01025, params: {'C': 1}, mean: 0.91721, std: 0.01121, params: {'C': 100}, mean: 0.91433, std: 0.01279, params: {'C': 1000}, mean: 0.91818, std: 0.00994, params: {'C': 10000}]\n"
     ]
    }
   ],
   "source": [
    "print(model.grid_scores_)"
   ]
  },
  {
   "cell_type": "markdown",
   "metadata": {},
   "source": [
    "# Let's find the optimal value of the lambda using RandomSearchCV"
   ]
  },
  {
   "cell_type": "code",
   "execution_count": 25,
   "metadata": {
    "collapsed": true
   },
   "outputs": [],
   "source": [
    "tuned_parameter_ran={'C':sp_rand()} \n",
    "model_ran=RandomizedSearchCV(LogisticRegression(),tuned_parameter_ran,scoring='f1',cv=5,n_iter=100)"
   ]
  },
  {
   "cell_type": "code",
   "execution_count": 26,
   "metadata": {},
   "outputs": [
    {
     "data": {
      "text/plain": [
       "RandomizedSearchCV(cv=5, error_score='raise',\n",
       "          estimator=LogisticRegression(C=1.0, class_weight=None, dual=False, fit_intercept=True,\n",
       "          intercept_scaling=1, max_iter=100, multi_class='ovr', n_jobs=1,\n",
       "          penalty='l2', random_state=None, solver='liblinear', tol=0.0001,\n",
       "          verbose=0, warm_start=False),\n",
       "          fit_params={}, iid=True, n_iter=100, n_jobs=1,\n",
       "          param_distributions={'C': <scipy.stats._distn_infrastructure.rv_frozen object at 0x0000027F5ABD4B70>},\n",
       "          pre_dispatch='2*n_jobs', random_state=None, refit=True,\n",
       "          scoring='f1', verbose=0)"
      ]
     },
     "execution_count": 26,
     "metadata": {},
     "output_type": "execute_result"
    }
   ],
   "source": [
    "model_ran.fit(standard_train_data,reviews)"
   ]
  },
  {
   "cell_type": "code",
   "execution_count": 27,
   "metadata": {},
   "outputs": [
    {
     "name": "stdout",
     "output_type": "stream",
     "text": [
      "LogisticRegression(C=0.00052557731261915208, class_weight=None, dual=False,\n",
      "          fit_intercept=True, intercept_scaling=1, max_iter=100,\n",
      "          multi_class='ovr', n_jobs=1, penalty='l2', random_state=None,\n",
      "          solver='liblinear', tol=0.0001, verbose=0, warm_start=False)\n"
     ]
    }
   ],
   "source": [
    "print(model_ran.best_estimator_)"
   ]
  },
  {
   "cell_type": "code",
   "execution_count": 28,
   "metadata": {},
   "outputs": [
    {
     "name": "stdout",
     "output_type": "stream",
     "text": [
      "0.9483177946707628\n"
     ]
    }
   ],
   "source": [
    "print(model_ran.best_score_)"
   ]
  },
  {
   "cell_type": "code",
   "execution_count": 29,
   "metadata": {},
   "outputs": [
    {
     "name": "stdout",
     "output_type": "stream",
     "text": [
      "Best value of :  {'C': 0.00052557731261915208}\n"
     ]
    }
   ],
   "source": [
    "print('Best value of : ',model_ran.best_params_)"
   ]
  },
  {
   "cell_type": "markdown",
   "metadata": {},
   "source": [
    "# L1 Regularization using GridSearch"
   ]
  },
  {
   "cell_type": "code",
   "execution_count": 25,
   "metadata": {},
   "outputs": [
    {
     "data": {
      "text/plain": [
       "LogisticRegression(C=0.001, class_weight=None, dual=False, fit_intercept=True,\n",
       "          intercept_scaling=1, max_iter=100, multi_class='ovr', n_jobs=1,\n",
       "          penalty='l1', random_state=None, solver='liblinear', tol=0.0001,\n",
       "          verbose=0, warm_start=False)"
      ]
     },
     "execution_count": 25,
     "metadata": {},
     "output_type": "execute_result"
    }
   ],
   "source": [
    "lr=LogisticRegression(penalty='l1',C=0.001)\n",
    "lr.fit(standard_train_data,reviews)"
   ]
  },
  {
   "cell_type": "markdown",
   "metadata": {},
   "source": [
    "# Prediction and Evaluation"
   ]
  },
  {
   "cell_type": "code",
   "execution_count": 26,
   "metadata": {
    "collapsed": true
   },
   "outputs": [],
   "source": [
    "prediction=lr.predict(standard_test_data)"
   ]
  },
  {
   "cell_type": "code",
   "execution_count": 27,
   "metadata": {},
   "outputs": [
    {
     "name": "stdout",
     "output_type": "stream",
     "text": [
      "             precision    recall  f1-score   support\n",
      "\n",
      "          0       0.89      0.15      0.25      5026\n",
      "          1       0.85      1.00      0.92     24974\n",
      "\n",
      "avg / total       0.86      0.85      0.81     30000\n",
      "\n"
     ]
    }
   ],
   "source": [
    "print(classification_report(test_review,prediction))"
   ]
  },
  {
   "cell_type": "code",
   "execution_count": 28,
   "metadata": {},
   "outputs": [
    {
     "name": "stdout",
     "output_type": "stream",
     "text": [
      "[[  742  4284]\n",
      " [   96 24878]]\n"
     ]
    }
   ],
   "source": [
    "confu_metric=confusion_matrix(test_review,prediction)\n",
    "print(confu_metric)"
   ]
  },
  {
   "cell_type": "code",
   "execution_count": 29,
   "metadata": {},
   "outputs": [
    {
     "data": {
      "text/plain": [
       "<matplotlib.axes._subplots.AxesSubplot at 0x188060573c8>"
      ]
     },
     "execution_count": 29,
     "metadata": {},
     "output_type": "execute_result"
    },
    {
     "data": {
      "image/png": "[encoded data removed]",
      "text/plain": [
       "<matplotlib.figure.Figure at 0x18821d73f28>"
      ]
     },
     "metadata": {},
     "output_type": "display_data"
    }
   ],
   "source": [
    "sns.heatmap(confu_metric,annot=True,fmt='.1f',annot_kws={\"size\": 16},cmap='RdBu_r')"
   ]
  },
  {
   "cell_type": "markdown",
   "metadata": {},
   "source": [
    "# Train and Test Metric  of L1 Regularizer with GridSearch"
   ]
  },
  {
   "cell_type": "code",
   "execution_count": 45,
   "metadata": {
    "collapsed": true
   },
   "outputs": [],
   "source": [
    "TP=confu_metric[1][1]\n",
    "FP=confu_metric[0][1]\n",
    "TN=confu_metric[0][0]\n",
    "FN=confu_metric[1][0]"
   ]
  },
  {
   "cell_type": "code",
   "execution_count": 46,
   "metadata": {},
   "outputs": [
    {
     "name": "stdout",
     "output_type": "stream",
     "text": [
      "TPR:  0.999159125491\n",
      "FPR:  0.967369677676\n",
      "Specificity:  0.0326303223239\n",
      "Precision:  0.836927720946\n",
      "Recall:  0.999159125491\n",
      "F1Score:  0.910876270784\n"
     ]
    }
   ],
   "source": [
    "True_positive_rate=TP/(TP+FN) #It tells us when it is actually a Positive Review , How often does it predict Postive Review\n",
    "print('TPR: ',True_positive_rate)\n",
    "\n",
    "false_positive_rate=FP/(FP+TN) # It tells us that when the review is negative how often does it predict Positive Review\n",
    "print('FPR: ',false_positive_rate)\n",
    "\n",
    "specificity=TN/(TN+FP) #It tells us that When the review is negative ,how often does it predict negative review\n",
    "print('Specificity: ',specificity)\n",
    "\n",
    "precision=TP/(TP+FP) # It tells us all the reviews that model has predicted to be Positive how many are truly positive \n",
    "print('Precision: ',precision)\n",
    "\n",
    "recall=TP/(TP+FN) # It tells us that from all the predicted postive reviews how many are actually postive review\n",
    "print('Recall: ',recall)\n",
    "\n",
    "f1_score=2*precision*recall/(precision+recall) #It is the weighted average of the Precision and Recall\n",
    "print('F1Score: ',f1_score)"
   ]
  },
  {
   "cell_type": "markdown",
   "metadata": {},
   "source": [
    "# ROC Curve"
   ]
  },
  {
   "cell_type": "code",
   "execution_count": 47,
   "metadata": {},
   "outputs": [
    {
     "data": {
      "image/png": "[encoded data removed]",
      "text/plain": [
       "<matplotlib.figure.Figure at 0x188062514a8>"
      ]
     },
     "metadata": {},
     "output_type": "display_data"
    }
   ],
   "source": [
    "from sklearn.metrics import roc_curve,auc\n",
    "fpr,tpr,thresholds=roc_curve(test_review,prediction)\n",
    "roc_auc=auc(fpr,tpr)\n",
    "plt.title('Receiver Operating Characteristic')\n",
    "plt.plot(fpr,tpr, 'b',label='AUC = %0.2f'% roc_auc)\n",
    "plt.legend(loc='lower right')\n",
    "plt.plot([0,1],[0,1],'y--')\n",
    "plt.xlim([-0.1,1.2])\n",
    "plt.ylim([-0.1,1.2])\n",
    "plt.ylabel('True Positive Rate')\n",
    "plt.xlabel('False Positive Rate')\n",
    "plt.show()"
   ]
  },
  {
   "cell_type": "markdown",
   "metadata": {},
   "source": [
    "# L1 Regularization using RandomSearch"
   ]
  },
  {
   "cell_type": "code",
   "execution_count": 30,
   "metadata": {},
   "outputs": [
    {
     "data": {
      "text/plain": [
       "LogisticRegression(C=0.0005255773126191521, class_weight=None, dual=False,\n",
       "          fit_intercept=True, intercept_scaling=1, max_iter=100,\n",
       "          multi_class='ovr', n_jobs=1, penalty='l1', random_state=None,\n",
       "          solver='liblinear', tol=0.0001, verbose=0, warm_start=False)"
      ]
     },
     "execution_count": 30,
     "metadata": {},
     "output_type": "execute_result"
    }
   ],
   "source": [
    "lr_random=LogisticRegression(penalty='l1',C=0.00052557731261915208)\n",
    "lr_random.fit(standard_train_data,reviews)"
   ]
  },
  {
   "cell_type": "markdown",
   "metadata": {},
   "source": [
    "# Prediction and Evaluation"
   ]
  },
  {
   "cell_type": "code",
   "execution_count": 56,
   "metadata": {
    "collapsed": true
   },
   "outputs": [],
   "source": [
    "prediction_lr=lr_random.predict(standard_test_data)"
   ]
  },
  {
   "cell_type": "code",
   "execution_count": 57,
   "metadata": {},
   "outputs": [
    {
     "name": "stdout",
     "output_type": "stream",
     "text": [
      "             precision    recall  f1-score   support\n",
      "\n",
      "          0       0.89      0.03      0.06      5026\n",
      "          1       0.84      1.00      0.91     24974\n",
      "\n",
      "avg / total       0.85      0.84      0.77     30000\n",
      "\n"
     ]
    }
   ],
   "source": [
    "print(classification_report(test_review,prediction_lr))"
   ]
  },
  {
   "cell_type": "code",
   "execution_count": 58,
   "metadata": {},
   "outputs": [
    {
     "name": "stdout",
     "output_type": "stream",
     "text": [
      "[[  164  4862]\n",
      " [   21 24953]]\n"
     ]
    }
   ],
   "source": [
    "confu_metric_2=confusion_matrix(test_review,prediction_lr)\n",
    "print(confu_metric_2)"
   ]
  },
  {
   "cell_type": "code",
   "execution_count": 49,
   "metadata": {},
   "outputs": [
    {
     "data": {
      "text/plain": [
       "<matplotlib.axes._subplots.AxesSubplot at 0x18806227390>"
      ]
     },
     "execution_count": 49,
     "metadata": {},
     "output_type": "execute_result"
    },
    {
     "data": {
      "image/png": "[encoded data removed]",
      "text/plain": [
       "<matplotlib.figure.Figure at 0x18806469390>"
      ]
     },
     "metadata": {},
     "output_type": "display_data"
    }
   ],
   "source": [
    "sns.heatmap(confu_metric_2,annot=True,fmt='.1f',annot_kws={\"size\": 16},cmap='RdBu_r')"
   ]
  },
  {
   "cell_type": "markdown",
   "metadata": {},
   "source": [
    "# Train and Test Metric L1 Regularizer and RandomSearch"
   ]
  },
  {
   "cell_type": "code",
   "execution_count": 50,
   "metadata": {
    "collapsed": true
   },
   "outputs": [],
   "source": [
    "TP=confu_metric_2[1][1]\n",
    "FP=confu_metric_2[0][1]\n",
    "TN=confu_metric_2[0][0]\n",
    "FN=confu_metric_2[1][0]"
   ]
  },
  {
   "cell_type": "code",
   "execution_count": 51,
   "metadata": {},
   "outputs": [
    {
     "name": "stdout",
     "output_type": "stream",
     "text": [
      "TPR:  0.999159125491\n",
      "FPR:  0.967369677676\n",
      "Specificity:  0.0326303223239\n",
      "Precision:  0.836927720946\n",
      "Recall:  0.999159125491\n",
      "F1Score:  0.910876270784\n"
     ]
    }
   ],
   "source": [
    "True_positive_rate=TP/(TP+FN) #It tells us when it is actually a Positive Review , How often does it predict Postive Review\n",
    "print('TPR: ',True_positive_rate)\n",
    "\n",
    "false_positive_rate=FP/(FP+TN) # It tells us that when the review is negative how often does it predict Positive Review\n",
    "print('FPR: ',false_positive_rate)\n",
    "\n",
    "specificity=TN/(TN+FP) #It tells us that When the review is negative ,how often does it predict negative review\n",
    "print('Specificity: ',specificity)\n",
    "\n",
    "precision=TP/(TP+FP) # It tells us all the reviews that model has predicted to be Positive how many are truly positive \n",
    "print('Precision: ',precision)\n",
    "\n",
    "recall=TP/(TP+FN) # It tells us that from all the predicted postive reviews how many are actually postive review\n",
    "print('Recall: ',recall)\n",
    "\n",
    "f1_score=2*precision*recall/(precision+recall) #It is the weighted average of the Precision and Recall\n",
    "print('F1Score: ',f1_score)"
   ]
  },
  {
   "cell_type": "code",
   "execution_count": 59,
   "metadata": {},
   "outputs": [
    {
     "data": {
      "image/png": "[encoded data removed]",
      "text/plain": [
       "<matplotlib.figure.Figure at 0x1880622cbe0>"
      ]
     },
     "metadata": {},
     "output_type": "display_data"
    }
   ],
   "source": [
    "from sklearn.metrics import roc_curve,auc\n",
    "fpr,tpr,thresholds=roc_curve(test_review,prediction_lr)\n",
    "roc_auc=auc(fpr,tpr)\n",
    "plt.title('Receiver Operating Characteristic')\n",
    "plt.plot(fpr,tpr, 'b',label='AUC = %0.2f'% roc_auc)\n",
    "plt.legend(loc='lower right')\n",
    "plt.plot([0,1],[0,1],'y--')\n",
    "plt.xlim([-0.1,1.2])\n",
    "plt.ylim([-0.1,1.2])\n",
    "plt.ylabel('True Positive Rate')\n",
    "plt.xlabel('False Positive Rate')\n",
    "plt.show()"
   ]
  },
  {
   "cell_type": "markdown",
   "metadata": {},
   "source": [
    "# L2 regularization using GridSearch"
   ]
  },
  {
   "cell_type": "code",
   "execution_count": 35,
   "metadata": {},
   "outputs": [
    {
     "data": {
      "text/plain": [
       "LogisticRegression(C=0.001, class_weight=None, dual=False, fit_intercept=True,\n",
       "          intercept_scaling=1, max_iter=100, multi_class='ovr', n_jobs=1,\n",
       "          penalty='l2', random_state=None, solver='liblinear', tol=0.0001,\n",
       "          verbose=0, warm_start=False)"
      ]
     },
     "execution_count": 35,
     "metadata": {},
     "output_type": "execute_result"
    }
   ],
   "source": [
    "lr2=LogisticRegression(penalty='l2',C=0.001)\n",
    "lr2.fit(standard_train_data,reviews)"
   ]
  },
  {
   "cell_type": "markdown",
   "metadata": {},
   "source": [
    "# Prediction and Evaluation of L2 regularization"
   ]
  },
  {
   "cell_type": "code",
   "execution_count": 36,
   "metadata": {
    "collapsed": true
   },
   "outputs": [],
   "source": [
    "prediction_l2=lr2.predict(standard_test_data)"
   ]
  },
  {
   "cell_type": "code",
   "execution_count": 37,
   "metadata": {},
   "outputs": [
    {
     "name": "stdout",
     "output_type": "stream",
     "text": [
      "             precision    recall  f1-score   support\n",
      "\n",
      "          0       0.79      0.56      0.65      5026\n",
      "          1       0.92      0.97      0.94     24974\n",
      "\n",
      "avg / total       0.90      0.90      0.89     30000\n",
      "\n"
     ]
    }
   ],
   "source": [
    "class_report=classification_report(test_review,prediction_l2)\n",
    "print(class_report)"
   ]
  },
  {
   "cell_type": "code",
   "execution_count": 38,
   "metadata": {},
   "outputs": [
    {
     "name": "stdout",
     "output_type": "stream",
     "text": [
      "[[ 2798  2228]\n",
      " [  728 24246]]\n"
     ]
    }
   ],
   "source": [
    "confu_metric_l2=confusion_matrix(test_review,prediction_l2)\n",
    "print(confu_metric_l2)"
   ]
  },
  {
   "cell_type": "code",
   "execution_count": 39,
   "metadata": {},
   "outputs": [
    {
     "data": {
      "text/plain": [
       "<matplotlib.axes._subplots.AxesSubplot at 0x18806208240>"
      ]
     },
     "execution_count": 39,
     "metadata": {},
     "output_type": "execute_result"
    },
    {
     "data": {
      "image/png": "[encoded data removed]",
      "text/plain": [
       "<matplotlib.figure.Figure at 0x1880625ee80>"
      ]
     },
     "metadata": {},
     "output_type": "display_data"
    }
   ],
   "source": [
    "sns.heatmap(confu_metric_l2,annot=True,fmt='.1f',annot_kws={\"size\": 16},cmap='RdBu_r')"
   ]
  },
  {
   "cell_type": "markdown",
   "metadata": {},
   "source": [
    "# Train and Test Metric L2 Regularizer and GridSearch"
   ]
  },
  {
   "cell_type": "code",
   "execution_count": 53,
   "metadata": {
    "collapsed": true
   },
   "outputs": [],
   "source": [
    "TP=confu_metric_l2[1][1]\n",
    "FP=confu_metric_l2[0][1]\n",
    "TN=confu_metric_l2[0][0]\n",
    "FN=confu_metric_l2[1][0]"
   ]
  },
  {
   "cell_type": "code",
   "execution_count": 54,
   "metadata": {},
   "outputs": [
    {
     "name": "stdout",
     "output_type": "stream",
     "text": [
      "TPR:  0.970849683671\n",
      "FPR:  0.443294866693\n",
      "Specificity:  0.556705133307\n",
      "Precision:  0.915841958148\n",
      "Recall:  0.970849683671\n",
      "F1Score:  0.942543927849\n"
     ]
    }
   ],
   "source": [
    "True_positive_rate=TP/(TP+FN) #It tells us when it is actually a Positive Review , How often does it predict Postive Review\n",
    "print('TPR: ',True_positive_rate)\n",
    "\n",
    "false_positive_rate=FP/(FP+TN) # It tells us that when the review is negative how often does it predict Positive Review\n",
    "print('FPR: ',false_positive_rate)\n",
    "\n",
    "specificity=TN/(TN+FP) #It tells us that When the review is negative ,how often does it predict negative review\n",
    "print('Specificity: ',specificity)\n",
    "\n",
    "precision=TP/(TP+FP) # It tells us all the reviews that model has predicted to be Positive how many are truly positive \n",
    "print('Precision: ',precision)\n",
    "\n",
    "recall=TP/(TP+FN) # It tells us that from all the predicted postive reviews how many are actually postive review\n",
    "print('Recall: ',recall)\n",
    "\n",
    "f1_score=2*precision*recall/(precision+recall) #It is the weighted average of the Precision and Recall\n",
    "print('F1Score: ',f1_score)"
   ]
  },
  {
   "cell_type": "markdown",
   "metadata": {},
   "source": [
    "# ROC Curve"
   ]
  },
  {
   "cell_type": "code",
   "execution_count": 60,
   "metadata": {},
   "outputs": [
    {
     "data": {
      "image/png": "[encoded data removed]",
      "text/plain": [
       "<matplotlib.figure.Figure at 0x18806227438>"
      ]
     },
     "metadata": {},
     "output_type": "display_data"
    }
   ],
   "source": [
    "from sklearn.metrics import roc_curve,auc\n",
    "fpr,tpr,thresholds=roc_curve(test_review,prediction_l2)\n",
    "roc_auc=auc(fpr,tpr)\n",
    "plt.title('Receiver Operating Characteristic')\n",
    "plt.plot(fpr,tpr, 'b',label='AUC = %0.2f'% roc_auc)\n",
    "plt.legend(loc='lower right')\n",
    "plt.plot([0,1],[0,1],'y--')\n",
    "plt.xlim([-0.1,1.2])\n",
    "plt.ylim([-0.1,1.2])\n",
    "plt.ylabel('True Positive Rate')\n",
    "plt.xlabel('False Positive Rate')\n",
    "plt.show()"
   ]
  },
  {
   "cell_type": "markdown",
   "metadata": {},
   "source": [
    "# L2 Regularization using RandomSearch"
   ]
  },
  {
   "cell_type": "code",
   "execution_count": 40,
   "metadata": {},
   "outputs": [
    {
     "data": {
      "text/plain": [
       "LogisticRegression(C=0.0005255773126191521, class_weight=None, dual=False,\n",
       "          fit_intercept=True, intercept_scaling=1, max_iter=100,\n",
       "          multi_class='ovr', n_jobs=1, penalty='l2', random_state=None,\n",
       "          solver='liblinear', tol=0.0001, verbose=0, warm_start=False)"
      ]
     },
     "execution_count": 40,
     "metadata": {},
     "output_type": "execute_result"
    }
   ],
   "source": [
    "lr2_random=LogisticRegression(penalty='l2',C=0.00052557731261915208)\n",
    "lr2_random.fit(standard_train_data,reviews)"
   ]
  },
  {
   "cell_type": "markdown",
   "metadata": {},
   "source": [
    "# Prediction and Evaluation of L2"
   ]
  },
  {
   "cell_type": "code",
   "execution_count": 63,
   "metadata": {
    "collapsed": true
   },
   "outputs": [],
   "source": [
    "prediction_l2_lr=lr2_random.predict(standard_test_data)"
   ]
  },
  {
   "cell_type": "code",
   "execution_count": 64,
   "metadata": {},
   "outputs": [
    {
     "name": "stdout",
     "output_type": "stream",
     "text": [
      "             precision    recall  f1-score   support\n",
      "\n",
      "          0       0.82      0.53      0.65      5026\n",
      "          1       0.91      0.98      0.94     24974\n",
      "\n",
      "avg / total       0.90      0.90      0.89     30000\n",
      "\n"
     ]
    }
   ],
   "source": [
    "print(classification_report(test_review,prediction_l2_lr))"
   ]
  },
  {
   "cell_type": "code",
   "execution_count": 65,
   "metadata": {},
   "outputs": [
    {
     "name": "stdout",
     "output_type": "stream",
     "text": [
      "[[ 2678  2348]\n",
      " [  586 24388]]\n"
     ]
    }
   ],
   "source": [
    "confu_metric_l3=confusion_matrix(test_review,prediction_l2_lr)\n",
    "print(confu_metric_l3)"
   ]
  },
  {
   "cell_type": "code",
   "execution_count": 44,
   "metadata": {},
   "outputs": [
    {
     "data": {
      "text/plain": [
       "<matplotlib.axes._subplots.AxesSubplot at 0x188062ebcf8>"
      ]
     },
     "execution_count": 44,
     "metadata": {},
     "output_type": "execute_result"
    },
    {
     "data": {
      "image/png": "[encoded data removed]",
      "text/plain": [
       "<matplotlib.figure.Figure at 0x18806373c88>"
      ]
     },
     "metadata": {},
     "output_type": "display_data"
    }
   ],
   "source": [
    "sns.heatmap(confu_metric_l3,annot=True,fmt='.1f',annot_kws={\"size\": 16},cmap='RdBu_r')"
   ]
  },
  {
   "cell_type": "markdown",
   "metadata": {},
   "source": [
    "# Train and Test Metric using L2 and RandomSearch"
   ]
  },
  {
   "cell_type": "code",
   "execution_count": 61,
   "metadata": {
    "collapsed": true
   },
   "outputs": [],
   "source": [
    "TP=confu_metric_l3[1][1]\n",
    "FP=confu_metric_l3[0][1]\n",
    "TN=confu_metric_l3[0][0]\n",
    "FN=confu_metric_l3[1][0]"
   ]
  },
  {
   "cell_type": "code",
   "execution_count": 62,
   "metadata": {},
   "outputs": [
    {
     "name": "stdout",
     "output_type": "stream",
     "text": [
      "TPR:  0.976535597021\n",
      "FPR:  0.467170712296\n",
      "Specificity:  0.532829287704\n",
      "Precision:  0.912178336326\n",
      "Recall:  0.976535597021\n",
      "F1Score:  0.943260491201\n"
     ]
    }
   ],
   "source": [
    "True_positive_rate=TP/(TP+FN) #It tells us when it is actually a Positive Review , How often does it predict Postive Review\n",
    "print('TPR: ',True_positive_rate)\n",
    "\n",
    "false_positive_rate=FP/(FP+TN) # It tells us that when the review is negative how often does it predict Positive Review\n",
    "print('FPR: ',false_positive_rate)\n",
    "\n",
    "specificity=TN/(TN+FP) #It tells us that When the review is negative ,how often does it predict negative review\n",
    "print('Specificity: ',specificity)\n",
    "\n",
    "precision=TP/(TP+FP) # It tells us all the reviews that model has predicted to be Positive how many are truly positive \n",
    "print('Precision: ',precision)\n",
    "\n",
    "recall=TP/(TP+FN) # It tells us that from all the predicted postive reviews how many are actually postive review\n",
    "print('Recall: ',recall)\n",
    "\n",
    "f1_score=2*precision*recall/(precision+recall) #It is the weighted average of the Precision and Recall\n",
    "print('F1Score: ',f1_score)"
   ]
  },
  {
   "cell_type": "markdown",
   "metadata": {},
   "source": [
    "# ROC Curve"
   ]
  },
  {
   "cell_type": "code",
   "execution_count": 66,
   "metadata": {},
   "outputs": [
    {
     "data": {
      "image/png": "[encoded data removed]",
      "text/plain": [
       "<matplotlib.figure.Figure at 0x1880d73c5c0>"
      ]
     },
     "metadata": {},
     "output_type": "display_data"
    }
   ],
   "source": [
    "from sklearn.metrics import roc_curve,auc\n",
    "fpr,tpr,thresholds=roc_curve(test_review,prediction_l2_lr)\n",
    "roc_auc=auc(fpr,tpr)\n",
    "plt.title('Receiver Operating Characteristic')\n",
    "plt.plot(fpr,tpr, 'b',label='AUC = %0.2f'% roc_auc)\n",
    "plt.legend(loc='lower right')\n",
    "plt.plot([0,1],[0,1],'y--')\n",
    "plt.xlim([-0.1,1.2])\n",
    "plt.ylim([-0.1,1.2])\n",
    "plt.ylabel('True Positive Rate')\n",
    "plt.xlabel('False Positive Rate')\n",
    "plt.show()"
   ]
  },
  {
   "cell_type": "markdown",
   "metadata": {
    "collapsed": true
   },
   "source": [
    "# Checking the error as the lambda increases"
   ]
  },
  {
   "cell_type": "code",
   "execution_count": 90,
   "metadata": {},
   "outputs": [
    {
     "name": "stdout",
     "output_type": "stream",
     "text": [
      "The MSE on the different value of C [0.13499994748979582, 0.086842697290451021, 0.087499502393729167, 0.10614219838775174, 0.11942780048352364, 0.13177060053279455]\n"
     ]
    },
    {
     "data": {
      "image/png": "[encoded data removed]",
      "text/plain": [
       "<matplotlib.figure.Figure at 0x1dc86cf5a90>"
      ]
     },
     "metadata": {},
     "output_type": "display_data"
    }
   ],
   "source": [
    "C_param_range = [0.001,0.01,0.1,1,10,100]\n",
    "cv_score=[]\n",
    "for j in C_param_range:\n",
    "    lr=LogisticRegression(penalty='l1',C=j,random_state=0)\n",
    "    scores=cross_val_score(lr,standard_train_data,reviews,cv=5,).mean()\n",
    "    cv_score.append(scores)\n",
    "    \n",
    "# changing to misclassification error\n",
    "MSE = [1 - x for x in cv_score]\n",
    "print('The MSE on the different value of C', MSE)\n",
    "plt.plot(C_param_range,MSE)\n",
    "plt.xlabel('Different value of the C')\n",
    "plt.ylabel('Misclassification Error')\n",
    "plt.show()"
   ]
  },
  {
   "cell_type": "markdown",
   "metadata": {},
   "source": [
    "# Here I am not able to print my xlabel as float vale . Is there any way I can print?"
   ]
  },
  {
   "cell_type": "code",
   "execution_count": 47,
   "metadata": {},
   "outputs": [
    {
     "name": "stdout",
     "output_type": "stream",
     "text": [
      "79\n",
      "4638\n",
      "12073\n",
      "13996\n",
      "13904\n",
      "24743\n"
     ]
    }
   ],
   "source": [
    "C_param_range = [0.001,0.01,0.1,1,10,100]\n",
    "cv_score=[]\n",
    "for j in C_param_range:\n",
    "    lr=LogisticRegression(penalty='l1',C=j,random_state=0)\n",
    "    lr.fit(standard_train_data,reviews)\n",
    "    w=lr.coef_\n",
    "    print(np.count_nonzero(w))"
   ]
  },
  {
   "cell_type": "markdown",
   "metadata": {},
   "source": [
    "# Conclusion: As we can see that By increasing the value of Lambda or decreasing the value of C , the sparsity is improving , but My error is increasing "
   ]
  },
  {
   "cell_type": "code",
   "execution_count": 48,
   "metadata": {},
   "outputs": [
    {
     "name": "stdout",
     "output_type": "stream",
     "text": [
      "[[ -3.74792191e-02   9.75765046e-04   6.44168321e-05 ...,   2.99028918e-03\n",
      "    1.88107217e-03   1.07951278e-03]]\n"
     ]
    }
   ],
   "source": [
    "print(lr2.coef_)"
   ]
  },
  {
   "cell_type": "markdown",
   "metadata": {},
   "source": [
    "# Feature Selection and Checking the Multicollinearity"
   ]
  },
  {
   "cell_type": "markdown",
   "metadata": {},
   "source": [
    "# Adding the random Noise to the datasets"
   ]
  },
  {
   "cell_type": "code",
   "execution_count": null,
   "metadata": {
    "collapsed": true
   },
   "outputs": [],
   "source": []
  },
  {
   "cell_type": "code",
   "execution_count": 67,
   "metadata": {},
   "outputs": [
    {
     "data": {
      "text/plain": [
       "(70000, 38171)"
      ]
     },
     "execution_count": 67,
     "metadata": {},
     "output_type": "execute_result"
    }
   ],
   "source": [
    "from scipy.sparse import csr_matrix, find\n",
    "from scipy import sparse\n",
    "# We have separated the Non-Zero elements  from the sparse matrix and store in j \n",
    "i,v,j=find(standard_train_data)\n",
    "#Creating a random noise \n",
    "noise=np.random.normal(0,0.1,size=j.shape)\n",
    "#Constructing a CSR matrix after adding the noise\n",
    "standard_train_data_noise=sparse.csr_matrix((noise,(i,v)),shape=(70000,38171))\n",
    "standard_train_data_noise.shape"
   ]
  },
  {
   "cell_type": "code",
   "execution_count": 68,
   "metadata": {
    "collapsed": true
   },
   "outputs": [],
   "source": [
    "standard_train_data_noise=standard_train_data + standard_train_data_noise"
   ]
  },
  {
   "cell_type": "code",
   "execution_count": 69,
   "metadata": {
    "collapsed": true
   },
   "outputs": [],
   "source": [
    "lr3=LogisticRegression(penalty='l2',C=0.001)"
   ]
  },
  {
   "cell_type": "code",
   "execution_count": 70,
   "metadata": {},
   "outputs": [
    {
     "data": {
      "text/plain": [
       "LogisticRegression(C=0.001, class_weight=None, dual=False, fit_intercept=True,\n",
       "          intercept_scaling=1, max_iter=100, multi_class='ovr', n_jobs=1,\n",
       "          penalty='l2', random_state=None, solver='liblinear', tol=0.0001,\n",
       "          verbose=0, warm_start=False)"
      ]
     },
     "execution_count": 70,
     "metadata": {},
     "output_type": "execute_result"
    }
   ],
   "source": [
    "lr3.fit(standard_train_data_noise,reviews)"
   ]
  },
  {
   "cell_type": "markdown",
   "metadata": {},
   "source": [
    "# Prediction and Evaluation by Adding a Random Noise to the training DATA"
   ]
  },
  {
   "cell_type": "code",
   "execution_count": 71,
   "metadata": {
    "collapsed": true
   },
   "outputs": [],
   "source": [
    "prediction_l2_noise=lr3.predict(standard_test_data)"
   ]
  },
  {
   "cell_type": "code",
   "execution_count": 72,
   "metadata": {},
   "outputs": [
    {
     "name": "stdout",
     "output_type": "stream",
     "text": [
      "             precision    recall  f1-score   support\n",
      "\n",
      "          0       0.79      0.56      0.65      5026\n",
      "          1       0.92      0.97      0.94     24974\n",
      "\n",
      "avg / total       0.90      0.90      0.89     30000\n",
      "\n"
     ]
    }
   ],
   "source": [
    "print(classification_report(test_review,prediction_l2_noise))"
   ]
  },
  {
   "cell_type": "code",
   "execution_count": 73,
   "metadata": {
    "collapsed": true
   },
   "outputs": [],
   "source": [
    "confu_noise=confusion_matrix(test_review,prediction_l2_noise)"
   ]
  },
  {
   "cell_type": "code",
   "execution_count": 74,
   "metadata": {},
   "outputs": [
    {
     "name": "stdout",
     "output_type": "stream",
     "text": [
      "[[ 2800  2226]\n",
      " [  728 24246]]\n"
     ]
    }
   ],
   "source": [
    "print(confu_noise)"
   ]
  },
  {
   "cell_type": "code",
   "execution_count": 75,
   "metadata": {},
   "outputs": [
    {
     "data": {
      "text/plain": [
       "<matplotlib.axes._subplots.AxesSubplot at 0x1880d70ed30>"
      ]
     },
     "execution_count": 75,
     "metadata": {},
     "output_type": "execute_result"
    },
    {
     "data": {
      "image/png": "[encoded data removed]",
      "text/plain": [
       "<matplotlib.figure.Figure at 0x1880d763080>"
      ]
     },
     "metadata": {},
     "output_type": "display_data"
    }
   ],
   "source": [
    "sns.heatmap(confu_noise,annot=True,fmt='.1f',annot_kws={\"size\": 16},cmap='RdBu_r')"
   ]
  },
  {
   "cell_type": "code",
   "execution_count": 76,
   "metadata": {
    "collapsed": true
   },
   "outputs": [],
   "source": [
    "w_hat=lr3.coef_\n",
    "w_hat=np.array(w_hat)"
   ]
  },
  {
   "cell_type": "code",
   "execution_count": 77,
   "metadata": {
    "collapsed": true
   },
   "outputs": [],
   "source": [
    "w=lr2.coef_\n",
    "w=np.array(w)"
   ]
  },
  {
   "cell_type": "code",
   "execution_count": 78,
   "metadata": {},
   "outputs": [
    {
     "data": {
      "text/plain": [
       "array([[  2.83808797e-04,   7.64313647e-05,  -2.63119277e-03, ...,\n",
       "         -1.23234596e-02,   3.75357400e-03,   6.59753697e-03]])"
      ]
     },
     "execution_count": 78,
     "metadata": {},
     "output_type": "execute_result"
    }
   ],
   "source": [
    "w_hat"
   ]
  },
  {
   "cell_type": "code",
   "execution_count": 79,
   "metadata": {},
   "outputs": [
    {
     "data": {
      "text/plain": [
       "array([[  2.92255473e-04,   7.15706659e-05,  -2.64728103e-03, ...,\n",
       "         -1.27476375e-02,   3.71647664e-03,   6.50290163e-03]])"
      ]
     },
     "execution_count": 79,
     "metadata": {},
     "output_type": "execute_result"
    }
   ],
   "source": [
    "w"
   ]
  },
  {
   "cell_type": "code",
   "execution_count": 80,
   "metadata": {
    "collapsed": true
   },
   "outputs": [],
   "source": [
    "diff=[]\n",
    "for i in range(w_hat.size):\n",
    "    diff.append(w[:,i]-w_hat[:,i])"
   ]
  },
  {
   "cell_type": "code",
   "execution_count": 88,
   "metadata": {},
   "outputs": [
    {
     "name": "stdout",
     "output_type": "stream",
     "text": [
      "top 10 collinear feature:\n",
      "('love', array([ 0.0019072]))\n",
      "('month', array([ 0.00125729]))\n",
      "('food', array([ 0.00105823]))\n",
      "('make', array([ 0.0010474]))\n",
      "('much', array([ 0.00100215]))\n",
      "('year', array([ 0.00093607]))\n",
      "('bag', array([ 0.00093049]))\n",
      "('care', array([ 0.00092302]))\n",
      "('healthi', array([ 0.00090829]))\n",
      "('amazon', array([ 0.00090801]))\n"
     ]
    }
   ],
   "source": [
    "import operator\n",
    "\n",
    "name_diff = {}\n",
    "for i in range(len(count_vect.get_feature_names())):\n",
    "    name_diff[count_vect.get_feature_names()[i]] = diff[i]\n",
    "names_diff_sorted = sorted(name_diff.items(), key = operator.itemgetter(1), reverse = True)\n",
    "print(\"top 10 collinear feature:\")\n",
    "for i in range(10):\n",
    "    print(names_diff_sorted[i])"
   ]
  },
  {
   "cell_type": "code",
   "execution_count": 74,
   "metadata": {},
   "outputs": [
    {
     "data": {
      "text/plain": [
       "array([ 0.23874949])"
      ]
     },
     "execution_count": 74,
     "metadata": {},
     "output_type": "execute_result"
    }
   ],
   "source": [
    "sum(diff)"
   ]
  },
  {
   "cell_type": "code",
   "execution_count": 81,
   "metadata": {
    "collapsed": true
   },
   "outputs": [],
   "source": [
    "percentage_var_explained=diff / np.sum(diff)"
   ]
  },
  {
   "cell_type": "code",
   "execution_count": 82,
   "metadata": {
    "collapsed": true
   },
   "outputs": [],
   "source": [
    "percenatge_change=np.cumsum(percentage_var_explained)"
   ]
  },
  {
   "cell_type": "code",
   "execution_count": 96,
   "metadata": {},
   "outputs": [
    {
     "data": {
      "image/png": "[encoded data removed]",
      "text/plain": [
       "<matplotlib.figure.Figure at 0x1880d76a4a8>"
      ]
     },
     "metadata": {},
     "output_type": "display_data"
    }
   ],
   "source": [
    "plt.figure(1,figsize=(6,4))\n",
    "plt.clf()\n",
    "plt.plot(percenatge_change,linewidth=0.5)\n",
    "plt.axis('tight')\n",
    "plt.grid(color='r',linewidth=0.5,linestyle='-')\n",
    "plt.xlabel('weight of features vector')\n",
    "plt.ylabel('percentage_chnage_explained')\n",
    "plt.show()"
   ]
  },
  {
   "cell_type": "code",
   "execution_count": 91,
   "metadata": {},
   "outputs": [
    {
     "data": {
      "image/png": "[encoded data removed]",
      "text/plain": [
       "<matplotlib.figure.Figure at 0x18826b5b278>"
      ]
     },
     "metadata": {},
     "output_type": "display_data"
    }
   ],
   "source": [
    "plt.figure(1,figsize=(6,4))\n",
    "plt.clf()\n",
    "plt.plot(percentage_var_explained,linewidth=2)\n",
    "plt.axis('tight')\n",
    "plt.grid(color='r',linewidth=2,linestyle='-')\n",
    "plt.xlabel('weight of features vector')\n",
    "plt.ylabel('percentage_chnage_explained')\n",
    "plt.show()"
   ]
  },
  {
   "cell_type": "markdown",
   "metadata": {},
   "source": [
    "# Most of the weight difference with features weight lie between -0.25% to 0.25% There is no much collinearity after adding the noise"
   ]
  },
  {
   "cell_type": "code",
   "execution_count": 98,
   "metadata": {
    "collapsed": true
   },
   "outputs": [],
   "source": [
    "w=w.tolist()\n",
    "w=np.reshape(w,(38171,1))"
   ]
  },
  {
   "cell_type": "code",
   "execution_count": 99,
   "metadata": {},
   "outputs": [
    {
     "name": "stdout",
     "output_type": "stream",
     "text": [
      "top 10 collinear feature:\n",
      "('great', array([ 0.46010618]))\n",
      "('love', array([ 0.40324249]))\n",
      "('best', array([ 0.32659648]))\n",
      "('good', array([ 0.27288394]))\n",
      "('delici', array([ 0.26369052]))\n",
      "('excel', array([ 0.22780502]))\n",
      "('perfect', array([ 0.22008726]))\n",
      "('favorit', array([ 0.1964953]))\n",
      "('nice', array([ 0.18291269]))\n",
      "('wonder', array([ 0.16895546]))\n"
     ]
    }
   ],
   "source": [
    "import operator\n",
    "top_features = {}\n",
    "for i in range(len(count_vect.get_feature_names())):\n",
    "    top_features[count_vect.get_feature_names()[i]] = w[i]\n",
    "top_features_sorted= sorted(top_features.items(), key = operator.itemgetter(1), reverse = True)\n",
    "print(\"top 10 collinear feature:\")\n",
    "for i in range(10):\n",
    "    print(top_features_sorted[i])"
   ]
  },
  {
   "cell_type": "markdown",
   "metadata": {
    "collapsed": true
   },
   "source": [
    "# Conclusion/Summary:\n",
    "1.I have preprocessed and cleaned  the whole dataset and store in Amazon.csv file for the further use. That CSV contains all the data. \n",
    "2. Now We have cleaned data , So I have sorted the Whole data on the basic of the TimeStamp\n",
    "3. Now I have splitted my whole Dataset into Training and Test datasets for My ML\n",
    "4. I have taken the 70K sample from the Training purpose and 30K Sample for Testing purpose\n",
    "5. Its time to convert our text into vectors . I have used CountVectorizer() to convert my text reviews into Vectors . \n",
    "   I have converted the Training Sample and Test sample individually\n",
    "\n",
    "6. I have performed the column Standardization on my Training and Test data\n",
    "7. I have tuned my gridSearch  With different parameter to find out the best parameter and best score. \n",
    "8. I have also tuned my random search to find out the best parameter and score. They are listed below\n",
    "\n",
    "\n",
    "    "
   ]
  },
  {
   "cell_type": "code",
   "execution_count": 24,
   "metadata": {},
   "outputs": [
    {
     "data": {
      "text/html": [
       "<div>\n",
       "<style>\n",
       "    .dataframe thead tr:only-child th {\n",
       "        text-align: right;\n",
       "    }\n",
       "\n",
       "    .dataframe thead th {\n",
       "        text-align: left;\n",
       "    }\n",
       "\n",
       "    .dataframe tbody tr th {\n",
       "        vertical-align: top;\n",
       "    }\n",
       "</style>\n",
       "<table border=\"1\" class=\"dataframe\">\n",
       "  <thead>\n",
       "    <tr style=\"text-align: right;\">\n",
       "      <th></th>\n",
       "      <th>GridSearch</th>\n",
       "      <th>RandomSearch</th>\n",
       "    </tr>\n",
       "  </thead>\n",
       "  <tbody>\n",
       "    <tr>\n",
       "      <th>Best_score</th>\n",
       "      <td>0.940</td>\n",
       "      <td>0.9480</td>\n",
       "    </tr>\n",
       "    <tr>\n",
       "      <th>Best_parameter</th>\n",
       "      <td>0.001</td>\n",
       "      <td>0.0005</td>\n",
       "    </tr>\n",
       "  </tbody>\n",
       "</table>\n",
       "</div>"
      ],
      "text/plain": [
       "                GridSearch  RandomSearch\n",
       "Best_score           0.940        0.9480\n",
       "Best_parameter       0.001        0.0005"
      ]
     },
     "execution_count": 24,
     "metadata": {},
     "output_type": "execute_result"
    }
   ],
   "source": [
    "pd.DataFrame({'GridSearch':[0.94,0.001],'RandomSearch':[0.948,0.0005]},index=['Best_score','Best_parameter'])"
   ]
  },
  {
   "cell_type": "code",
   "execution_count": null,
   "metadata": {
    "collapsed": true
   },
   "outputs": [],
   "source": []
  },
  {
   "cell_type": "markdown",
   "metadata": {},
   "source": [
    "8. We have the best Parameter.Now I have applied the Logistic Regression Using L1 and L2 Regularizer, taken the best parameter      got from the GridSearch. \n",
    "\n",
    "9. We have the best Parameter.Now I have applied the Logistic Regression Using L1 and L2 Regularizer, taken the best parameter      got from the RandomSearch. \n",
    "10. I have evaluated the Each one , In my case , The result I have got from the L2 regularization irrespective of GridSearch and     Random Search  is much better than in case of L1 regularization. \n",
    "11. I kept increasing the value of the lambda , and I have found that my misclassification error was kept on decreasing but at a     very high value lambda =1000 My misclassification error again increased  \n",
    "12. As I have increased the lamda value to check the sparsity with a high value of lambda our mostly elements are zero as we        have decreased the lambda the sparsity decreased and We have got more non zero rows\n",
    "\n",
    "13. Now I have checked the Multicollinearity, I have created a random noise of the same length as My datasets is . Now I have       remove the non zero rows to maintain the sparsity , Now I have added the Noise to the training dataset,I have my training       datasets with noise. \n",
    "14. Now I have applied by noise dataset to the logistic regression , Now I have calculated the new weight W_hat.\n",
    "    What I have done , I have find the differnce between the w and w_hat, and plot it .\n",
    "    In my case , most of the weight has not changed. there is hardly .02% change in the weight. So we can say that my features       are not Multicollinear. We have found the top ten features from the w \n",
    "    \n",
    "\n",
    "    \n"
   ]
  },
  {
   "cell_type": "markdown",
   "metadata": {},
   "source": [
    "# L1 With GridSearch"
   ]
  },
  {
   "cell_type": "raw",
   "metadata": {
    "collapsed": true
   },
   "source": [
    "                   Bow     tfidf    Word2vec    Weighted tfidf\n",
    "  \n",
    " Best Parameter    0.001    0.001     0.001        1\n",
    " \n",
    " Best Score        0.944     0.9433    0.928      0.9291\n",
    " \n",
    " Recall             0.85     0.86      0.65        0.61\n",
    " \n",
    " Precision          0.86     0.87      0.81        0.80\n",
    " \n",
    " ROC                0.54     0.76        0.53        0.65 \n",
    "      \n",
    "       "
   ]
  },
  {
   "cell_type": "markdown",
   "metadata": {
    "collapsed": true
   },
   "source": [
    "# L1 with RandomSearch"
   ]
  },
  {
   "cell_type": "raw",
   "metadata": {
    "collapsed": true
   },
   "source": [
    "                   Bow     tfidf    Word2vec    Weighted tfidf\n",
    "  \n",
    " Best Parameter    0.00052  0.01259   0.1736     0.9615\n",
    " \n",
    " Best Score        0.9483   0.9307    0.928      0.9291\n",
    " \n",
    " Recall             0.84     0.91      0.76        0.61\n",
    " \n",
    " Precision          0.85     0.90      0.77        0.80\n",
    " \n",
    " ROC                0.52      0.76     0.60        0.65 \n",
    "      \n",
    "       "
   ]
  },
  {
   "cell_type": "markdown",
   "metadata": {},
   "source": [
    "# L2 with GridSearch"
   ]
  },
  {
   "cell_type": "raw",
   "metadata": {},
   "source": [
    "                   Bow     tfidf    Word2vec    Weighted tfidf\n",
    "  \n",
    " Best Parameter    0.001    0.001     0.001        1\n",
    " \n",
    " Best Score        0.944     0.9433    0.928      0.9291\n",
    " \n",
    " Recall             0.97     0.90      0.85        0.60\n",
    " \n",
    " Precision          0.92     0.89      0.82       0.80\n",
    " \n",
    " ROC                0.75     0.76         0.59        0.64 \n",
    "      \n",
    "       "
   ]
  },
  {
   "cell_type": "markdown",
   "metadata": {},
   "source": [
    "# L2 With RandomSearch"
   ]
  },
  {
   "cell_type": "raw",
   "metadata": {},
   "source": [
    "                   Bow     tfidf    Word2vec    Weighted tfidf\n",
    "  \n",
    " Best Parameter    0.00052  0.01259   0.1736     0.9615\n",
    " \n",
    " Best Score        0.9483   0.9307    0.928      0.9291\n",
    " \n",
    " Recall             0.90     0.88      0.84        0.60\n",
    " \n",
    " Precision          0.90     0.87      0.82        0.80\n",
    " \n",
    " ROC                0.75     0.76      0.65        0.64 \n",
    "      \n",
    "       "
   ]
  },
  {
   "cell_type": "markdown",
   "metadata": {},
   "source": [
    "# By comparing all the cases What i found that the result We got from the L2 regularization and GridSearch were better than L1 regularizer and RandomSearch in my case."
   ]
  },
  {
   "cell_type": "markdown",
   "metadata": {
    "collapsed": true
   },
   "source": [
    "# We have compared the result we got from Bow, Tfidf, Word2Vec and Weighted tfidf. Tfidf has better result in term of ROC , Recall and Precision"
   ]
  },
  {
   "cell_type": "code",
   "execution_count": null,
   "metadata": {
    "collapsed": true
   },
   "outputs": [],
   "source": []
  }
 ],
 "metadata": {
  "kernelspec": {
   "display_name": "Python 3",
   "language": "python",
   "name": "python3"
  },
  "language_info": {
   "codemirror_mode": {
    "name": "ipython",
    "version": 3
   },
   "file_extension": ".py",
   "mimetype": "text/x-python",
   "name": "python",
   "nbconvert_exporter": "python",
   "pygments_lexer": "ipython3",
   "version": "3.6.6"
  }
 },
 "nbformat": 4,
 "nbformat_minor": 2
}
